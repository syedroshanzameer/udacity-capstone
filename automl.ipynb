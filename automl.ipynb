{
  "cells": [
    {
      "cell_type": "markdown",
      "source": [
        "# Automated ML\n",
        "\n",
        "TODO: Import Dependencies. In the cell below, import all the dependencies that you will need to complete the project."
      ],
      "metadata": {}
    },
    {
      "cell_type": "markdown",
      "source": [
        "## Dataset\n",
        "\n",
        "### Overview\n",
        "TODO: In this markdown cell, give an overview of the dataset you are using. Also mention the task you will be performing.\n",
        "\n",
        "\n",
        "TODO: Get data. In the cell below, write code to access the data you will be using in this project. Remember that the dataset needs to be external."
      ],
      "metadata": {}
    },
    {
      "cell_type": "code",
      "source": [
        "from azureml.core.experiment import Experiment\n",
        "from azureml.core.workspace import Workspace\n",
        "\n",
        "ws = Workspace.from_config()\n",
        "\n",
        "experiment_name = 'capstoneproject'\n",
        "\n",
        "experiment=Experiment(ws, experiment_name)"
      ],
      "outputs": [
        {
          "output_type": "stream",
          "name": "stdout",
          "text": [
            "Performing interactive authentication. Please follow the instructions on the terminal.\n",
            "To sign in, use a web browser to open the page https://microsoft.com/devicelogin and enter the code RFEM647CQ to authenticate.\n",
            "You have logged in. Now let us find all the subscriptions to which you have access...\n",
            "Interactive authentication successfully completed.\n"
          ]
        }
      ],
      "execution_count": 1,
      "metadata": {
        "gather": {
          "logged": 1611051283518
        },
        "jupyter": {
          "outputs_hidden": false,
          "source_hidden": false
        },
        "nteract": {
          "transient": {
            "deleting": false
          }
        }
      }
    },
    {
      "cell_type": "code",
      "source": [
        "from azureml.core.compute import ComputeTarget, AmlCompute\n",
        "from azureml.core.compute_target import ComputeTargetException\n",
        "\n",
        "compute_cluster_name = 'final-compute'\n",
        "\n",
        "try:\n",
        "    compute_target = ComputeTarget(workspace=ws, name = compute_cluster_name)\n",
        "    print('Found the compute cluster')\n",
        "\n",
        "except ComputeTargetException:\n",
        "    compute_config = AmlCompute.provisioning_configuration(vm_size=\"STANDARD_D3_V2\", max_nodes=4)\n",
        "    compute_target = ComputeTarget.create(ws, compute_cluster_name, compute_config)\n",
        "    compute_target.wait_for_completion(show_output=True)"
      ],
      "outputs": [
        {
          "output_type": "stream",
          "name": "stdout",
          "text": [
            "Found the compute cluster\n"
          ]
        }
      ],
      "execution_count": 2,
      "metadata": {
        "collapsed": true,
        "jupyter": {
          "source_hidden": false,
          "outputs_hidden": false
        },
        "nteract": {
          "transient": {
            "deleting": false
          }
        },
        "gather": {
          "logged": 1611051285361
        }
      }
    },
    {
      "cell_type": "code",
      "source": [
        "from azureml.core.dataset import Dataset\r\n",
        "from sklearn.model_selection import train_test_split\r\n",
        "\r\n",
        "key = 'heart_failure_clinical_records_dataset'\r\n",
        "if key in ws.datasets.keys():\r\n",
        "    dataset = ws.datasets[key]\r\n",
        "    print(\"dataset found!\")\r\n",
        "\r\n",
        "else:\r\n",
        "    url = 'https://archive.ics.uci.edu/ml/machine-learning-databases/00519/heart_failure_clinical_records_dataset.csv'\r\n",
        "    dataset = Dataset.Tabular.from_delimited_files(url)\r\n",
        "    dataset = dataset.register(ws,key)\r\n",
        "\r\n",
        "df = dataset.to_pandas_dataframe()\r\n",
        "train, test = train_test_split(df, shuffle=True)\r\n",
        "train.to_csv('train.csv',index = False)\r\n",
        "\r\n",
        "datastore = ws.get_default_datastore()\r\n",
        "datastore.upload_files(files = ['./train.csv'])\r\n",
        "\r\n",
        "train = Dataset.Tabular.from_delimited_files([(datastore,'train.csv')])"
      ],
      "outputs": [
        {
          "output_type": "stream",
          "name": "stdout",
          "text": [
            "Uploading an estimated of 1 files\n",
            "Uploading ./train.csv\n",
            "Uploaded ./train.csv, 1 files out of an estimated total of 1\n",
            "Uploaded 1 files\n"
          ]
        }
      ],
      "execution_count": 3,
      "metadata": {
        "collapsed": true,
        "jupyter": {
          "source_hidden": false,
          "outputs_hidden": false
        },
        "nteract": {
          "transient": {
            "deleting": false
          }
        },
        "gather": {
          "logged": 1611051300239
        }
      }
    },
    {
      "cell_type": "markdown",
      "source": [
        "## AutoML Configuration\n",
        "\n",
        "TODO: Explain why you chose the automl settings and cofiguration you used below."
      ],
      "metadata": {}
    },
    {
      "cell_type": "code",
      "source": [
        "from azureml.train.automl import AutoMLConfig\n",
        "\n",
        "# TODO: Put your automl settings here\n",
        "automl_settings = {\"primary_metric\":\"accuracy\", \"experiment_timeout_minutes\":30, \"enable_early_stopping\":True, \"n_cross_validations\":3,\"max_concurrent_iterations\": 4}\n",
        "\n",
        "# TODO: Put your automl config here\n",
        "automl_config = AutoMLConfig(compute_target = compute_target, task = 'classification', training_data = train, label_column_name = 'DEATH_EVENT',**automl_settings)"
      ],
      "outputs": [],
      "execution_count": 4,
      "metadata": {
        "gather": {
          "logged": 1611051303350
        },
        "jupyter": {
          "outputs_hidden": false,
          "source_hidden": false
        },
        "nteract": {
          "transient": {
            "deleting": false
          }
        }
      }
    },
    {
      "cell_type": "code",
      "source": [
        "# TODO: Submit your experiment\n",
        "remote_run = experiment.submit(automl_config, show_output=True)"
      ],
      "outputs": [
        {
          "output_type": "stream",
          "name": "stdout",
          "text": [
            "Running on remote.\n",
            "No run_configuration provided, running on final-compute with default configuration\n",
            "Running on remote compute: final-compute\n",
            "Parent Run ID: AutoML_8654528d-254c-42ff-9c19-f36daff00d1f\n",
            "\n",
            "Current status: FeaturesGeneration. Generating features for the dataset.\n",
            "Current status: DatasetCrossValidationSplit. Generating individually featurized CV splits.\n",
            "Current status: ModelSelection. Beginning model selection.\n",
            "\n",
            "****************************************************************************************************\n",
            "DATA GUARDRAILS: \n",
            "\n",
            "TYPE:         Class balancing detection\n",
            "STATUS:       PASSED\n",
            "DESCRIPTION:  Your inputs were analyzed, and all classes are balanced in your training data.\n",
            "              Learn more about imbalanced data: https://aka.ms/AutomatedMLImbalancedData\n",
            "\n",
            "****************************************************************************************************\n",
            "\n",
            "TYPE:         Missing feature values imputation\n",
            "STATUS:       PASSED\n",
            "DESCRIPTION:  No feature missing values were detected in the training data.\n",
            "              Learn more about missing value imputation: https://aka.ms/AutomatedMLFeaturization\n",
            "\n",
            "****************************************************************************************************\n",
            "\n",
            "TYPE:         High cardinality feature detection\n",
            "STATUS:       PASSED\n",
            "DESCRIPTION:  Your inputs were analyzed, and no high cardinality features were detected.\n",
            "              Learn more about high cardinality feature handling: https://aka.ms/AutomatedMLFeaturization\n",
            "\n",
            "****************************************************************************************************\n",
            "\n",
            "****************************************************************************************************\n",
            "ITERATION: The iteration being evaluated.\n",
            "PIPELINE: A summary description of the pipeline being evaluated.\n",
            "DURATION: Time taken for the current iteration.\n",
            "METRIC: The result of computing score on the fitted pipeline.\n",
            "BEST: The best observed score thus far.\n",
            "****************************************************************************************************\n",
            "\n",
            " ITERATION   PIPELINE                                       DURATION      METRIC      BEST\n",
            "         1   MaxAbsScaler XGBoostClassifier                 0:00:44       0.8306    0.8306\n",
            "         2   MinMaxScaler RandomForest                      0:00:50       0.7992    0.8306\n",
            "         0   MaxAbsScaler LightGBM                          0:00:53       0.8081    0.8306\n",
            "         3   MinMaxScaler RandomForest                      0:00:49       0.8350    0.8350\n",
            "         4   MinMaxScaler RandomForest                      0:00:48       0.8260    0.8350\n",
            "         8   SparseNormalizer XGBoostClassifier             0:00:54       0.8351    0.8351\n",
            "         5   MinMaxScaler LightGBM                          0:01:59       0.8262    0.8351\n",
            "         6   SparseNormalizer XGBoostClassifier             0:02:01       0.8351    0.8351\n",
            "         7   MinMaxScaler SVM                               0:01:49       0.6965    0.8351\n",
            "         9   MaxAbsScaler GradientBoosting                  0:00:43       0.8350    0.8351\n",
            "        10   StandardScalerWrapper RandomForest             0:00:42       0.8305    0.8351\n",
            "        11   MaxAbsScaler ExtremeRandomTrees                0:00:48       0.8172    0.8351\n",
            "        12   StandardScalerWrapper LightGBM                 0:00:46       0.8351    0.8351\n",
            "        13   SparseNormalizer XGBoostClassifier             0:00:43       0.8306    0.8351\n",
            "        14   StandardScalerWrapper LightGBM                 0:00:41       0.7903    0.8351\n",
            "        15   MinMaxScaler LightGBM                          0:00:46       0.7948    0.8351\n",
            "        16   MaxAbsScaler LightGBM                          0:00:46       0.8038    0.8351\n",
            "        17   MinMaxScaler LightGBM                          0:00:36       0.8352    0.8352\n",
            "        18   SparseNormalizer XGBoostClassifier             0:00:45       0.8128    0.8352\n",
            "        19   StandardScalerWrapper LightGBM                 0:00:40       0.8396    0.8396\n",
            "        20   MaxAbsScaler LightGBM                          0:00:39       0.8441    0.8441\n",
            "        21   RobustScaler LightGBM                          0:00:50       0.8351    0.8441\n",
            "        22   MaxAbsScaler ExtremeRandomTrees                0:00:43       0.8396    0.8441\n",
            "        23   MaxAbsScaler LightGBM                          0:00:38       0.7009    0.8441\n",
            "        24   MinMaxScaler LightGBM                          0:00:35       0.8080    0.8441\n",
            "        25   SparseNormalizer LightGBM                      0:00:43       0.6696    0.8441\n",
            "        26   MinMaxScaler LightGBM                          0:00:40       0.7635    0.8441\n",
            "        27   MinMaxScaler LightGBM                          0:00:37       0.8396    0.8441\n",
            "        28   StandardScalerWrapper XGBoostClassifier        0:00:46       0.8305    0.8441\n",
            "        29   RobustScaler RandomForest                      0:00:44       0.8394    0.8441\n",
            "        31   RobustScaler LightGBM                          0:00:37       0.7680    0.8441\n",
            "        30   RobustScaler LightGBM                          0:00:43       0.8396    0.8441\n",
            "        32   SparseNormalizer XGBoostClassifier             0:00:43       0.8216    0.8441\n",
            "        33   SparseNormalizer LightGBM                      0:00:41       0.8172    0.8441\n",
            "        34   SparseNormalizer LightGBM                      0:00:47       0.8261    0.8441\n",
            "        35   MaxAbsScaler LightGBM                          0:00:40       0.7724    0.8441\n",
            "        36   StandardScalerWrapper XGBoostClassifier        0:00:29       0.8172    0.8441\n",
            "        38    StackEnsemble                                 0:01:07       0.8396    0.8441\n",
            "        37    VotingEnsemble                                0:01:15       0.8619    0.8619\n"
          ]
        }
      ],
      "execution_count": 5,
      "metadata": {
        "gather": {
          "logged": 1611052410189
        },
        "jupyter": {
          "outputs_hidden": false,
          "source_hidden": false
        },
        "nteract": {
          "transient": {
            "deleting": false
          }
        }
      }
    },
    {
      "cell_type": "markdown",
      "source": [
        "## Run Details\n",
        "\n",
        "OPTIONAL: Write about the different models trained and their performance. Why do you think some models did better than others?\n",
        "\n",
        "TODO: In the cell below, use the `RunDetails` widget to show the different experiments."
      ],
      "metadata": {}
    },
    {
      "cell_type": "code",
      "source": [
        "from azureml.widgets import RunDetails\r\n",
        "\r\n",
        "RunDetails(remote_run).show()\r\n",
        "remote_run.wait_for_completion(show_output=True)"
      ],
      "outputs": [
        {
          "output_type": "display_data",
          "data": {
            "text/plain": "_AutoMLWidget(widget_settings={'childWidgetDisplay': 'popup', 'send_telemetry': False, 'log_level': 'INFO', 's…",
            "application/vnd.jupyter.widget-view+json": {
              "version_major": 2,
              "version_minor": 0,
              "model_id": "ba295a6646344c7f9f092cf66e7459d5"
            }
          },
          "metadata": {}
        },
        {
          "output_type": "display_data",
          "data": {
            "application/aml.mini.widget.v1": "{\"status\": \"Completed\", \"workbench_run_details_uri\": \"https://ml.azure.com/experiments/capstoneproject/runs/AutoML_8654528d-254c-42ff-9c19-f36daff00d1f?wsid=/subscriptions/610d6e37-4747-4a20-80eb-3aad70a55f43/resourcegroups/aml-quickstarts-135328/workspaces/quick-starts-ws-135328\", \"run_id\": \"AutoML_8654528d-254c-42ff-9c19-f36daff00d1f\", \"run_properties\": {\"run_id\": \"AutoML_8654528d-254c-42ff-9c19-f36daff00d1f\", \"created_utc\": \"2021-01-19T10:15:10.016282Z\", \"properties\": {\"num_iterations\": \"1000\", \"training_type\": \"TrainFull\", \"acquisition_function\": \"EI\", \"primary_metric\": \"accuracy\", \"train_split\": \"0\", \"acquisition_parameter\": \"0\", \"num_cross_validation\": \"3\", \"target\": \"final-compute\", \"AMLSettingsJsonString\": \"{\\\"path\\\":null,\\\"name\\\":\\\"capstoneproject\\\",\\\"subscription_id\\\":\\\"610d6e37-4747-4a20-80eb-3aad70a55f43\\\",\\\"resource_group\\\":\\\"aml-quickstarts-135328\\\",\\\"workspace_name\\\":\\\"quick-starts-ws-135328\\\",\\\"region\\\":\\\"southcentralus\\\",\\\"compute_target\\\":\\\"final-compute\\\",\\\"spark_service\\\":null,\\\"azure_service\\\":\\\"remote\\\",\\\"many_models\\\":false,\\\"pipeline_fetch_max_batch_size\\\":1,\\\"iterations\\\":1000,\\\"primary_metric\\\":\\\"accuracy\\\",\\\"task_type\\\":\\\"classification\\\",\\\"data_script\\\":null,\\\"validation_size\\\":0.0,\\\"n_cross_validations\\\":3,\\\"y_min\\\":null,\\\"y_max\\\":null,\\\"num_classes\\\":null,\\\"featurization\\\":\\\"auto\\\",\\\"_ignore_package_version_incompatibilities\\\":false,\\\"is_timeseries\\\":false,\\\"max_cores_per_iteration\\\":1,\\\"max_concurrent_iterations\\\":4,\\\"iteration_timeout_minutes\\\":null,\\\"mem_in_mb\\\":null,\\\"enforce_time_on_windows\\\":false,\\\"experiment_timeout_minutes\\\":30,\\\"experiment_exit_score\\\":null,\\\"whitelist_models\\\":null,\\\"blacklist_algos\\\":[\\\"TensorFlowLinearClassifier\\\",\\\"TensorFlowDNN\\\"],\\\"supported_models\\\":[\\\"XGBoostClassifier\\\",\\\"KNN\\\",\\\"LinearSVM\\\",\\\"DecisionTree\\\",\\\"MultinomialNaiveBayes\\\",\\\"AveragedPerceptronClassifier\\\",\\\"TensorFlowDNN\\\",\\\"RandomForest\\\",\\\"SVM\\\",\\\"LogisticRegression\\\",\\\"SGD\\\",\\\"TensorFlowLinearClassifier\\\",\\\"BernoulliNaiveBayes\\\",\\\"ExtremeRandomTrees\\\",\\\"LightGBM\\\",\\\"GradientBoosting\\\"],\\\"auto_blacklist\\\":true,\\\"blacklist_samples_reached\\\":false,\\\"exclude_nan_labels\\\":true,\\\"verbosity\\\":20,\\\"_debug_log\\\":\\\"azureml_automl.log\\\",\\\"show_warnings\\\":false,\\\"model_explainability\\\":true,\\\"service_url\\\":null,\\\"sdk_url\\\":null,\\\"sdk_packages\\\":null,\\\"enable_onnx_compatible_models\\\":false,\\\"enable_split_onnx_featurizer_estimator_models\\\":false,\\\"vm_type\\\":\\\"STANDARD_DS3_V2\\\",\\\"telemetry_verbosity\\\":20,\\\"send_telemetry\\\":true,\\\"enable_dnn\\\":false,\\\"scenario\\\":\\\"SDK-1.13.0\\\",\\\"environment_label\\\":null,\\\"force_text_dnn\\\":false,\\\"enable_feature_sweeping\\\":true,\\\"enable_early_stopping\\\":true,\\\"early_stopping_n_iters\\\":10,\\\"metrics\\\":null,\\\"enable_ensembling\\\":true,\\\"enable_stack_ensembling\\\":true,\\\"ensemble_iterations\\\":15,\\\"enable_tf\\\":false,\\\"enable_subsampling\\\":null,\\\"subsample_seed\\\":null,\\\"enable_nimbusml\\\":false,\\\"enable_streaming\\\":false,\\\"force_streaming\\\":false,\\\"track_child_runs\\\":true,\\\"allowed_private_models\\\":[],\\\"label_column_name\\\":\\\"DEATH_EVENT\\\",\\\"weight_column_name\\\":null,\\\"cv_split_column_names\\\":null,\\\"enable_local_managed\\\":false,\\\"_local_managed_run_id\\\":null,\\\"cost_mode\\\":1,\\\"lag_length\\\":0,\\\"metric_operation\\\":\\\"maximize\\\",\\\"preprocess\\\":true}\", \"DataPrepJsonString\": \"{\\\\\\\"training_data\\\\\\\": \\\\\\\"{\\\\\\\\\\\\\\\"blocks\\\\\\\\\\\\\\\": [{\\\\\\\\\\\\\\\"id\\\\\\\\\\\\\\\": \\\\\\\\\\\\\\\"c74b914f-ae52-49d6-9adb-bc62bf6c2255\\\\\\\\\\\\\\\", \\\\\\\\\\\\\\\"type\\\\\\\\\\\\\\\": \\\\\\\\\\\\\\\"Microsoft.DPrep.GetDatastoreFilesBlock\\\\\\\\\\\\\\\", \\\\\\\\\\\\\\\"arguments\\\\\\\\\\\\\\\": {\\\\\\\\\\\\\\\"datastores\\\\\\\\\\\\\\\": [{\\\\\\\\\\\\\\\"datastoreName\\\\\\\\\\\\\\\": \\\\\\\\\\\\\\\"workspaceblobstore\\\\\\\\\\\\\\\", \\\\\\\\\\\\\\\"path\\\\\\\\\\\\\\\": \\\\\\\\\\\\\\\"train.csv\\\\\\\\\\\\\\\", \\\\\\\\\\\\\\\"resourceGroup\\\\\\\\\\\\\\\": \\\\\\\\\\\\\\\"aml-quickstarts-135328\\\\\\\\\\\\\\\", \\\\\\\\\\\\\\\"subscription\\\\\\\\\\\\\\\": \\\\\\\\\\\\\\\"610d6e37-4747-4a20-80eb-3aad70a55f43\\\\\\\\\\\\\\\", \\\\\\\\\\\\\\\"workspaceName\\\\\\\\\\\\\\\": \\\\\\\\\\\\\\\"quick-starts-ws-135328\\\\\\\\\\\\\\\"}]}, \\\\\\\\\\\\\\\"localData\\\\\\\\\\\\\\\": {}, \\\\\\\\\\\\\\\"isEnabled\\\\\\\\\\\\\\\": true, \\\\\\\\\\\\\\\"name\\\\\\\\\\\\\\\": null, \\\\\\\\\\\\\\\"annotation\\\\\\\\\\\\\\\": null}, {\\\\\\\\\\\\\\\"id\\\\\\\\\\\\\\\": \\\\\\\\\\\\\\\"adda1c9d-be7c-4425-b1b3-1834aad5f409\\\\\\\\\\\\\\\", \\\\\\\\\\\\\\\"type\\\\\\\\\\\\\\\": \\\\\\\\\\\\\\\"Microsoft.DPrep.ParseDelimitedBlock\\\\\\\\\\\\\\\", \\\\\\\\\\\\\\\"arguments\\\\\\\\\\\\\\\": {\\\\\\\\\\\\\\\"columnHeadersMode\\\\\\\\\\\\\\\": 3, \\\\\\\\\\\\\\\"fileEncoding\\\\\\\\\\\\\\\": 0, \\\\\\\\\\\\\\\"handleQuotedLineBreaks\\\\\\\\\\\\\\\": false, \\\\\\\\\\\\\\\"preview\\\\\\\\\\\\\\\": false, \\\\\\\\\\\\\\\"separator\\\\\\\\\\\\\\\": \\\\\\\\\\\\\\\",\\\\\\\\\\\\\\\", \\\\\\\\\\\\\\\"skipRows\\\\\\\\\\\\\\\": 0, \\\\\\\\\\\\\\\"skipRowsMode\\\\\\\\\\\\\\\": 0}, \\\\\\\\\\\\\\\"localData\\\\\\\\\\\\\\\": {}, \\\\\\\\\\\\\\\"isEnabled\\\\\\\\\\\\\\\": true, \\\\\\\\\\\\\\\"name\\\\\\\\\\\\\\\": null, \\\\\\\\\\\\\\\"annotation\\\\\\\\\\\\\\\": null}, {\\\\\\\\\\\\\\\"id\\\\\\\\\\\\\\\": \\\\\\\\\\\\\\\"1c1dd805-cb5f-4640-bbd6-3f2f9aa820d9\\\\\\\\\\\\\\\", \\\\\\\\\\\\\\\"type\\\\\\\\\\\\\\\": \\\\\\\\\\\\\\\"Microsoft.DPrep.DropColumnsBlock\\\\\\\\\\\\\\\", \\\\\\\\\\\\\\\"arguments\\\\\\\\\\\\\\\": {\\\\\\\\\\\\\\\"columns\\\\\\\\\\\\\\\": {\\\\\\\\\\\\\\\"type\\\\\\\\\\\\\\\": 0, \\\\\\\\\\\\\\\"details\\\\\\\\\\\\\\\": {\\\\\\\\\\\\\\\"selectedColumns\\\\\\\\\\\\\\\": [\\\\\\\\\\\\\\\"Path\\\\\\\\\\\\\\\"]}}}, \\\\\\\\\\\\\\\"localData\\\\\\\\\\\\\\\": {}, \\\\\\\\\\\\\\\"isEnabled\\\\\\\\\\\\\\\": true, \\\\\\\\\\\\\\\"name\\\\\\\\\\\\\\\": null, \\\\\\\\\\\\\\\"annotation\\\\\\\\\\\\\\\": null}, {\\\\\\\\\\\\\\\"id\\\\\\\\\\\\\\\": \\\\\\\\\\\\\\\"60dac0fb-e164-49fe-9721-f38ff0e5b9e9\\\\\\\\\\\\\\\", \\\\\\\\\\\\\\\"type\\\\\\\\\\\\\\\": \\\\\\\\\\\\\\\"Microsoft.DPrep.SetColumnTypesBlock\\\\\\\\\\\\\\\", \\\\\\\\\\\\\\\"arguments\\\\\\\\\\\\\\\": {\\\\\\\\\\\\\\\"columnConversion\\\\\\\\\\\\\\\": [{\\\\\\\\\\\\\\\"column\\\\\\\\\\\\\\\": {\\\\\\\\\\\\\\\"type\\\\\\\\\\\\\\\": 2, \\\\\\\\\\\\\\\"details\\\\\\\\\\\\\\\": {\\\\\\\\\\\\\\\"selectedColumn\\\\\\\\\\\\\\\": \\\\\\\\\\\\\\\"age\\\\\\\\\\\\\\\"}}, \\\\\\\\\\\\\\\"typeProperty\\\\\\\\\\\\\\\": 3}, {\\\\\\\\\\\\\\\"column\\\\\\\\\\\\\\\": {\\\\\\\\\\\\\\\"type\\\\\\\\\\\\\\\": 2, \\\\\\\\\\\\\\\"details\\\\\\\\\\\\\\\": {\\\\\\\\\\\\\\\"selectedColumn\\\\\\\\\\\\\\\": \\\\\\\\\\\\\\\"anaemia\\\\\\\\\\\\\\\"}}, \\\\\\\\\\\\\\\"typeProperty\\\\\\\\\\\\\\\": 2}, {\\\\\\\\\\\\\\\"column\\\\\\\\\\\\\\\": {\\\\\\\\\\\\\\\"type\\\\\\\\\\\\\\\": 2, \\\\\\\\\\\\\\\"details\\\\\\\\\\\\\\\": {\\\\\\\\\\\\\\\"selectedColumn\\\\\\\\\\\\\\\": \\\\\\\\\\\\\\\"creatinine_phosphokinase\\\\\\\\\\\\\\\"}}, \\\\\\\\\\\\\\\"typeProperty\\\\\\\\\\\\\\\": 2}, {\\\\\\\\\\\\\\\"column\\\\\\\\\\\\\\\": {\\\\\\\\\\\\\\\"type\\\\\\\\\\\\\\\": 2, \\\\\\\\\\\\\\\"details\\\\\\\\\\\\\\\": {\\\\\\\\\\\\\\\"selectedColumn\\\\\\\\\\\\\\\": \\\\\\\\\\\\\\\"diabetes\\\\\\\\\\\\\\\"}}, \\\\\\\\\\\\\\\"typeProperty\\\\\\\\\\\\\\\": 2}, {\\\\\\\\\\\\\\\"column\\\\\\\\\\\\\\\": {\\\\\\\\\\\\\\\"type\\\\\\\\\\\\\\\": 2, \\\\\\\\\\\\\\\"details\\\\\\\\\\\\\\\": {\\\\\\\\\\\\\\\"selectedColumn\\\\\\\\\\\\\\\": \\\\\\\\\\\\\\\"ejection_fraction\\\\\\\\\\\\\\\"}}, \\\\\\\\\\\\\\\"typeProperty\\\\\\\\\\\\\\\": 2}, {\\\\\\\\\\\\\\\"column\\\\\\\\\\\\\\\": {\\\\\\\\\\\\\\\"type\\\\\\\\\\\\\\\": 2, \\\\\\\\\\\\\\\"details\\\\\\\\\\\\\\\": {\\\\\\\\\\\\\\\"selectedColumn\\\\\\\\\\\\\\\": \\\\\\\\\\\\\\\"high_blood_pressure\\\\\\\\\\\\\\\"}}, \\\\\\\\\\\\\\\"typeProperty\\\\\\\\\\\\\\\": 2}, {\\\\\\\\\\\\\\\"column\\\\\\\\\\\\\\\": {\\\\\\\\\\\\\\\"type\\\\\\\\\\\\\\\": 2, \\\\\\\\\\\\\\\"details\\\\\\\\\\\\\\\": {\\\\\\\\\\\\\\\"selectedColumn\\\\\\\\\\\\\\\": \\\\\\\\\\\\\\\"platelets\\\\\\\\\\\\\\\"}}, \\\\\\\\\\\\\\\"typeProperty\\\\\\\\\\\\\\\": 3}, {\\\\\\\\\\\\\\\"column\\\\\\\\\\\\\\\": {\\\\\\\\\\\\\\\"type\\\\\\\\\\\\\\\": 2, \\\\\\\\\\\\\\\"details\\\\\\\\\\\\\\\": {\\\\\\\\\\\\\\\"selectedColumn\\\\\\\\\\\\\\\": \\\\\\\\\\\\\\\"serum_creatinine\\\\\\\\\\\\\\\"}}, \\\\\\\\\\\\\\\"typeProperty\\\\\\\\\\\\\\\": 3}, {\\\\\\\\\\\\\\\"column\\\\\\\\\\\\\\\": {\\\\\\\\\\\\\\\"type\\\\\\\\\\\\\\\": 2, \\\\\\\\\\\\\\\"details\\\\\\\\\\\\\\\": {\\\\\\\\\\\\\\\"selectedColumn\\\\\\\\\\\\\\\": \\\\\\\\\\\\\\\"serum_sodium\\\\\\\\\\\\\\\"}}, \\\\\\\\\\\\\\\"typeProperty\\\\\\\\\\\\\\\": 2}, {\\\\\\\\\\\\\\\"column\\\\\\\\\\\\\\\": {\\\\\\\\\\\\\\\"type\\\\\\\\\\\\\\\": 2, \\\\\\\\\\\\\\\"details\\\\\\\\\\\\\\\": {\\\\\\\\\\\\\\\"selectedColumn\\\\\\\\\\\\\\\": \\\\\\\\\\\\\\\"sex\\\\\\\\\\\\\\\"}}, \\\\\\\\\\\\\\\"typeProperty\\\\\\\\\\\\\\\": 2}, {\\\\\\\\\\\\\\\"column\\\\\\\\\\\\\\\": {\\\\\\\\\\\\\\\"type\\\\\\\\\\\\\\\": 2, \\\\\\\\\\\\\\\"details\\\\\\\\\\\\\\\": {\\\\\\\\\\\\\\\"selectedColumn\\\\\\\\\\\\\\\": \\\\\\\\\\\\\\\"smoking\\\\\\\\\\\\\\\"}}, \\\\\\\\\\\\\\\"typeProperty\\\\\\\\\\\\\\\": 2}, {\\\\\\\\\\\\\\\"column\\\\\\\\\\\\\\\": {\\\\\\\\\\\\\\\"type\\\\\\\\\\\\\\\": 2, \\\\\\\\\\\\\\\"details\\\\\\\\\\\\\\\": {\\\\\\\\\\\\\\\"selectedColumn\\\\\\\\\\\\\\\": \\\\\\\\\\\\\\\"time\\\\\\\\\\\\\\\"}}, \\\\\\\\\\\\\\\"typeProperty\\\\\\\\\\\\\\\": 2}, {\\\\\\\\\\\\\\\"column\\\\\\\\\\\\\\\": {\\\\\\\\\\\\\\\"type\\\\\\\\\\\\\\\": 2, \\\\\\\\\\\\\\\"details\\\\\\\\\\\\\\\": {\\\\\\\\\\\\\\\"selectedColumn\\\\\\\\\\\\\\\": \\\\\\\\\\\\\\\"DEATH_EVENT\\\\\\\\\\\\\\\"}}, \\\\\\\\\\\\\\\"typeProperty\\\\\\\\\\\\\\\": 2}]}, \\\\\\\\\\\\\\\"localData\\\\\\\\\\\\\\\": {}, \\\\\\\\\\\\\\\"isEnabled\\\\\\\\\\\\\\\": true, \\\\\\\\\\\\\\\"name\\\\\\\\\\\\\\\": null, \\\\\\\\\\\\\\\"annotation\\\\\\\\\\\\\\\": null}], \\\\\\\\\\\\\\\"inspectors\\\\\\\\\\\\\\\": [], \\\\\\\\\\\\\\\"meta\\\\\\\\\\\\\\\": {\\\\\\\\\\\\\\\"savedDatasetId\\\\\\\\\\\\\\\": \\\\\\\\\\\\\\\"89eb3079-6ba2-4829-9107-dcbfabc4be97\\\\\\\\\\\\\\\", \\\\\\\\\\\\\\\"datasetType\\\\\\\\\\\\\\\": \\\\\\\\\\\\\\\"tabular\\\\\\\\\\\\\\\", \\\\\\\\\\\\\\\"subscriptionId\\\\\\\\\\\\\\\": \\\\\\\\\\\\\\\"610d6e37-4747-4a20-80eb-3aad70a55f43\\\\\\\\\\\\\\\", \\\\\\\\\\\\\\\"workspaceId\\\\\\\\\\\\\\\": \\\\\\\\\\\\\\\"4613c3bf-b4e3-4738-a200-a497507bbe81\\\\\\\\\\\\\\\", \\\\\\\\\\\\\\\"workspaceLocation\\\\\\\\\\\\\\\": \\\\\\\\\\\\\\\"southcentralus\\\\\\\\\\\\\\\"}}\\\\\\\", \\\\\\\"activities\\\\\\\": 0}\", \"EnableSubsampling\": null, \"runTemplate\": \"AutoML\", \"azureml.runsource\": \"automl\", \"display_task_type\": \"classification\", \"dependencies_versions\": \"{\\\"azureml-widgets\\\": \\\"1.19.0\\\", \\\"azureml-train\\\": \\\"1.19.0\\\", \\\"azureml-train-restclients-hyperdrive\\\": \\\"1.19.0\\\", \\\"azureml-train-core\\\": \\\"1.19.0\\\", \\\"azureml-train-automl\\\": \\\"1.19.0\\\", \\\"azureml-train-automl-runtime\\\": \\\"1.19.0\\\", \\\"azureml-train-automl-client\\\": \\\"1.19.0\\\", \\\"azureml-tensorboard\\\": \\\"1.19.0\\\", \\\"azureml-telemetry\\\": \\\"1.19.0\\\", \\\"azureml-sdk\\\": \\\"1.19.0\\\", \\\"azureml-samples\\\": \\\"0+unknown\\\", \\\"azureml-pipeline\\\": \\\"1.19.0\\\", \\\"azureml-pipeline-steps\\\": \\\"1.19.0\\\", \\\"azureml-pipeline-core\\\": \\\"1.19.0\\\", \\\"azureml-opendatasets\\\": \\\"1.19.0\\\", \\\"azureml-model-management-sdk\\\": \\\"1.0.1b6.post1\\\", \\\"azureml-mlflow\\\": \\\"1.19.0\\\", \\\"azureml-interpret\\\": \\\"1.19.0\\\", \\\"azureml-explain-model\\\": \\\"1.19.0\\\", \\\"azureml-defaults\\\": \\\"1.19.0\\\", \\\"azureml-dataset-runtime\\\": \\\"1.19.0.post1\\\", \\\"azureml-dataprep\\\": \\\"2.6.1\\\", \\\"azureml-dataprep-rslex\\\": \\\"1.4.0\\\", \\\"azureml-dataprep-native\\\": \\\"26.0.0\\\", \\\"azureml-datadrift\\\": \\\"1.19.0\\\", \\\"azureml-core\\\": \\\"1.19.0\\\", \\\"azureml-contrib-services\\\": \\\"1.19.0\\\", \\\"azureml-contrib-server\\\": \\\"1.19.0\\\", \\\"azureml-contrib-reinforcementlearning\\\": \\\"1.19.0\\\", \\\"azureml-contrib-pipeline-steps\\\": \\\"1.19.0\\\", \\\"azureml-contrib-notebook\\\": \\\"1.19.0\\\", \\\"azureml-contrib-interpret\\\": \\\"1.19.0\\\", \\\"azureml-contrib-gbdt\\\": \\\"1.19.0\\\", \\\"azureml-contrib-fairness\\\": \\\"1.19.0\\\", \\\"azureml-contrib-dataset\\\": \\\"1.19.0\\\", \\\"azureml-cli-common\\\": \\\"1.19.0\\\", \\\"azureml-automl-runtime\\\": \\\"1.19.0\\\", \\\"azureml-automl-core\\\": \\\"1.19.0\\\", \\\"azureml-accel-models\\\": \\\"1.19.0\\\"}\", \"_aml_system_scenario_identification\": \"Remote.Parent\", \"ClientType\": \"SDK\", \"environment_cpu_name\": \"AzureML-AutoML\", \"environment_cpu_label\": \"prod\", \"environment_gpu_name\": \"AzureML-AutoML-GPU\", \"environment_gpu_label\": \"prod\", \"root_attribution\": \"automl\", \"attribution\": \"AutoML\", \"Orchestrator\": \"AutoML\", \"CancelUri\": \"https://southcentralus.experiments.azureml.net/jasmine/v1.0/subscriptions/610d6e37-4747-4a20-80eb-3aad70a55f43/resourceGroups/aml-quickstarts-135328/providers/Microsoft.MachineLearningServices/workspaces/quick-starts-ws-135328/experimentids/20841130-7cd5-4359-af01-23edea705243/cancel/AutoML_8654528d-254c-42ff-9c19-f36daff00d1f\", \"ClientSdkVersion\": \"1.20.0\", \"snapshotId\": \"00000000-0000-0000-0000-000000000000\", \"SetupRunId\": \"AutoML_8654528d-254c-42ff-9c19-f36daff00d1f_setup\", \"SetupRunContainerId\": \"dcid.AutoML_8654528d-254c-42ff-9c19-f36daff00d1f_setup\", \"FeaturizationRunJsonPath\": \"featurizer_container.json\", \"FeaturizationRunId\": \"AutoML_8654528d-254c-42ff-9c19-f36daff00d1f_featurize\", \"ProblemInfoJsonString\": \"{\\\"dataset_num_categorical\\\": 0, \\\"is_sparse\\\": false, \\\"subsampling\\\": false, \\\"dataset_classes\\\": 2, \\\"dataset_features\\\": 12, \\\"dataset_samples\\\": 224, \\\"single_frequency_class_detected\\\": false}\", \"ModelExplainRunId\": \"AutoML_8654528d-254c-42ff-9c19-f36daff00d1f_ModelExplain\"}, \"tags\": {\"model_explain_run\": \"best_run\", \"_aml_system_azureml.automlComponent\": \"AutoML\", \"pipeline_id\": \"\", \"score\": \"\", \"predicted_cost\": \"\", \"fit_time\": \"\", \"training_percent\": \"\", \"iteration\": \"\", \"run_preprocessor\": \"\", \"run_algorithm\": \"\", \"dynamic_whitelisting_iterations\": \"<25>;<30>;<35>;\", \"automl_best_child_run_id\": \"AutoML_8654528d-254c-42ff-9c19-f36daff00d1f_37\"}, \"end_time_utc\": \"2021-01-19T10:33:19.579228Z\", \"status\": \"Completed\", \"log_files\": {}, \"log_groups\": [], \"run_duration\": \"0:18:09\"}, \"child_runs\": [{\"run_id\": \"AutoML_8654528d-254c-42ff-9c19-f36daff00d1f_0\", \"run_number\": 5, \"metric\": null, \"status\": \"Completed\", \"run_type\": \"azureml.scriptrun\", \"training_percent\": \"100\", \"start_time\": \"2021-01-19T10:20:49.614682Z\", \"end_time\": \"2021-01-19T10:21:42.703708Z\", \"created_time\": \"2021-01-19T10:18:58.517773Z\", \"created_time_dt\": \"2021-01-19T10:18:58.517773Z\", \"duration\": \"0:02:44\", \"iteration\": \"0\", \"goal\": \"accuracy_max\", \"run_name\": \"MaxAbsScaler, LightGBM\", \"run_properties\": \"copy=True\", \"primary_metric\": 0.80810811, \"best_metric\": 0.80810811}, {\"run_id\": \"AutoML_8654528d-254c-42ff-9c19-f36daff00d1f_3\", \"run_number\": 6, \"metric\": null, \"status\": \"Completed\", \"run_type\": \"azureml.scriptrun\", \"training_percent\": \"100\", \"start_time\": \"2021-01-19T10:21:45.296282Z\", \"end_time\": \"2021-01-19T10:22:34.789693Z\", \"created_time\": \"2021-01-19T10:18:58.573659Z\", \"created_time_dt\": \"2021-01-19T10:18:58.573659Z\", \"duration\": \"0:03:36\", \"iteration\": \"3\", \"goal\": \"accuracy_max\", \"run_name\": \"MinMaxScaler, RandomForest\", \"run_properties\": \"copy=True, feature_range=(0, 1\", \"primary_metric\": 0.83501502, \"best_metric\": 0.83501502}, {\"run_id\": \"AutoML_8654528d-254c-42ff-9c19-f36daff00d1f_1\", \"run_number\": 7, \"metric\": null, \"status\": \"Completed\", \"run_type\": \"azureml.scriptrun\", \"training_percent\": \"100\", \"start_time\": \"2021-01-19T10:19:09.705965Z\", \"end_time\": \"2021-01-19T10:19:54.189987Z\", \"created_time\": \"2021-01-19T10:18:58.628359Z\", \"created_time_dt\": \"2021-01-19T10:18:58.628359Z\", \"duration\": \"0:00:55\", \"iteration\": \"1\", \"goal\": \"accuracy_max\", \"run_name\": \"MaxAbsScaler, XGBoostClassifier\", \"run_properties\": \"copy=True\", \"primary_metric\": 0.83057057, \"best_metric\": 0.83057057}, {\"run_id\": \"AutoML_8654528d-254c-42ff-9c19-f36daff00d1f_2\", \"run_number\": 8, \"metric\": null, \"status\": \"Completed\", \"run_type\": \"azureml.scriptrun\", \"training_percent\": \"100\", \"start_time\": \"2021-01-19T10:19:57.707691Z\", \"end_time\": \"2021-01-19T10:20:47.676641Z\", \"created_time\": \"2021-01-19T10:18:58.658212Z\", \"created_time_dt\": \"2021-01-19T10:18:58.658212Z\", \"duration\": \"0:01:49\", \"iteration\": \"2\", \"goal\": \"accuracy_max\", \"run_name\": \"MinMaxScaler, RandomForest\", \"run_properties\": \"copy=True, feature_range=(0, 1\", \"primary_metric\": 0.79921922, \"best_metric\": 0.83057057}, {\"run_id\": \"AutoML_8654528d-254c-42ff-9c19-f36daff00d1f_4\", \"run_number\": 9, \"metric\": null, \"status\": \"Completed\", \"run_type\": \"azureml.scriptrun\", \"training_percent\": \"100\", \"start_time\": \"2021-01-19T10:22:40.063046Z\", \"end_time\": \"2021-01-19T10:23:28.474955Z\", \"created_time\": \"2021-01-19T10:19:56.919469Z\", \"created_time_dt\": \"2021-01-19T10:19:56.919469Z\", \"duration\": \"0:03:31\", \"iteration\": \"4\", \"goal\": \"accuracy_max\", \"run_name\": \"MinMaxScaler, RandomForest\", \"run_properties\": \"copy=True, feature_range=(0, 1\", \"primary_metric\": 0.82600601, \"best_metric\": 0.83501502}, {\"run_id\": \"AutoML_8654528d-254c-42ff-9c19-f36daff00d1f_5\", \"run_number\": 10, \"metric\": null, \"status\": \"Completed\", \"run_type\": \"azureml.scriptrun\", \"training_percent\": \"100\", \"start_time\": \"2021-01-19T10:22:55.170973Z\", \"end_time\": \"2021-01-19T10:24:53.913593Z\", \"created_time\": \"2021-01-19T10:20:51.527112Z\", \"created_time_dt\": \"2021-01-19T10:20:51.527112Z\", \"duration\": \"0:04:02\", \"iteration\": \"5\", \"goal\": \"accuracy_max\", \"run_name\": \"MinMaxScaler, LightGBM\", \"run_properties\": \"copy=True, feature_range=(0, 1\", \"primary_metric\": 0.82624625, \"best_metric\": 0.83501502}, {\"run_id\": \"AutoML_8654528d-254c-42ff-9c19-f36daff00d1f_6\", \"run_number\": 11, \"metric\": null, \"status\": \"Completed\", \"run_type\": \"azureml.scriptrun\", \"training_percent\": \"100\", \"start_time\": \"2021-01-19T10:23:00.249862Z\", \"end_time\": \"2021-01-19T10:25:01.236599Z\", \"created_time\": \"2021-01-19T10:21:46.799099Z\", \"created_time_dt\": \"2021-01-19T10:21:46.799099Z\", \"duration\": \"0:03:14\", \"iteration\": \"6\", \"goal\": \"accuracy_max\", \"run_name\": \"SparseNormalizer, XGBoostClassifier\", \"run_properties\": \"<azureml.automl.runtime.shared.model_wrappers.SparseNormalizer object at 0x7f6d6a642358\", \"primary_metric\": 0.83513514, \"best_metric\": 0.83513514}, {\"run_id\": \"AutoML_8654528d-254c-42ff-9c19-f36daff00d1f_7\", \"run_number\": 12, \"metric\": null, \"status\": \"Completed\", \"run_type\": \"azureml.scriptrun\", \"training_percent\": \"100\", \"start_time\": \"2021-01-19T10:23:04.237565Z\", \"end_time\": \"2021-01-19T10:24:53.724855Z\", \"created_time\": \"2021-01-19T10:22:38.172675Z\", \"created_time_dt\": \"2021-01-19T10:22:38.172675Z\", \"duration\": \"0:02:15\", \"iteration\": \"7\", \"goal\": \"accuracy_max\", \"run_name\": \"MinMaxScaler, SVM\", \"run_properties\": \"copy=True, feature_range=(0, 1\", \"primary_metric\": 0.69651652, \"best_metric\": 0.83513514}, {\"run_id\": \"AutoML_8654528d-254c-42ff-9c19-f36daff00d1f_8\", \"run_number\": 13, \"metric\": null, \"status\": \"Completed\", \"run_type\": \"azureml.scriptrun\", \"training_percent\": \"100\", \"start_time\": \"2021-01-19T10:23:45.532298Z\", \"end_time\": \"2021-01-19T10:24:40.000601Z\", \"created_time\": \"2021-01-19T10:23:31.751071Z\", \"created_time_dt\": \"2021-01-19T10:23:31.751071Z\", \"duration\": \"0:01:08\", \"iteration\": \"8\", \"goal\": \"accuracy_max\", \"run_name\": \"SparseNormalizer, XGBoostClassifier\", \"run_properties\": \"<azureml.automl.runtime.shared.model_wrappers.SparseNormalizer object at 0x7fef4ecbca58\", \"primary_metric\": 0.83513514, \"best_metric\": 0.83513514}, {\"run_id\": \"AutoML_8654528d-254c-42ff-9c19-f36daff00d1f_9\", \"run_number\": 14, \"metric\": null, \"status\": \"Completed\", \"run_type\": \"azureml.scriptrun\", \"training_percent\": \"100\", \"start_time\": \"2021-01-19T10:24:58.963294Z\", \"end_time\": \"2021-01-19T10:25:41.781645Z\", \"created_time\": \"2021-01-19T10:24:43.521233Z\", \"created_time_dt\": \"2021-01-19T10:24:43.521233Z\", \"duration\": \"0:00:58\", \"iteration\": \"9\", \"goal\": \"accuracy_max\", \"run_name\": \"MaxAbsScaler, GradientBoosting\", \"run_properties\": \"copy=True\", \"primary_metric\": 0.83495495, \"best_metric\": 0.83513514}, {\"run_id\": \"AutoML_8654528d-254c-42ff-9c19-f36daff00d1f_10\", \"run_number\": 15, \"metric\": null, \"status\": \"Completed\", \"run_type\": \"azureml.scriptrun\", \"training_percent\": \"100\", \"start_time\": \"2021-01-19T10:25:09.47291Z\", \"end_time\": \"2021-01-19T10:25:51.287629Z\", \"created_time\": \"2021-01-19T10:24:56.821531Z\", \"created_time_dt\": \"2021-01-19T10:24:56.821531Z\", \"duration\": \"0:00:54\", \"iteration\": \"10\", \"goal\": \"accuracy_max\", \"run_name\": \"StandardScalerWrapper, RandomForest\", \"run_properties\": \"<azureml.automl.runtime.shared.model_wrappers.StandardScalerWrapper object at 0x7fceb73816d8\", \"primary_metric\": 0.83045045, \"best_metric\": 0.83513514}, {\"run_id\": \"AutoML_8654528d-254c-42ff-9c19-f36daff00d1f_11\", \"run_number\": 16, \"metric\": null, \"status\": \"Completed\", \"run_type\": \"azureml.scriptrun\", \"training_percent\": \"100\", \"start_time\": \"2021-01-19T10:25:09.017001Z\", \"end_time\": \"2021-01-19T10:25:57.24894Z\", \"created_time\": \"2021-01-19T10:24:56.887454Z\", \"created_time_dt\": \"2021-01-19T10:24:56.887454Z\", \"duration\": \"0:01:00\", \"iteration\": \"11\", \"goal\": \"accuracy_max\", \"run_name\": \"MaxAbsScaler, ExtremeRandomTrees\", \"run_properties\": \"copy=True\", \"primary_metric\": 0.81717718, \"best_metric\": 0.83513514}, {\"run_id\": \"AutoML_8654528d-254c-42ff-9c19-f36daff00d1f_12\", \"run_number\": 17, \"metric\": null, \"status\": \"Completed\", \"run_type\": \"azureml.scriptrun\", \"training_percent\": \"100\", \"start_time\": \"2021-01-19T10:25:17.987423Z\", \"end_time\": \"2021-01-19T10:26:03.651127Z\", \"created_time\": \"2021-01-19T10:25:03.692719Z\", \"created_time_dt\": \"2021-01-19T10:25:03.692719Z\", \"duration\": \"0:00:59\", \"iteration\": \"12\", \"goal\": \"accuracy_max\", \"run_name\": \"StandardScalerWrapper, LightGBM\", \"run_properties\": \"<azureml.automl.runtime.shared.model_wrappers.StandardScalerWrapper object at 0x7f63b5669e10\", \"primary_metric\": 0.83507508, \"best_metric\": 0.83513514}, {\"run_id\": \"AutoML_8654528d-254c-42ff-9c19-f36daff00d1f_13\", \"run_number\": 18, \"metric\": null, \"status\": \"Completed\", \"run_type\": \"azureml.scriptrun\", \"training_percent\": \"100\", \"start_time\": \"2021-01-19T10:25:57.631155Z\", \"end_time\": \"2021-01-19T10:26:40.236358Z\", \"created_time\": \"2021-01-19T10:25:44.488881Z\", \"created_time_dt\": \"2021-01-19T10:25:44.488881Z\", \"duration\": \"0:00:55\", \"iteration\": \"13\", \"goal\": \"accuracy_max\", \"run_name\": \"SparseNormalizer, XGBoostClassifier\", \"run_properties\": \"<azureml.automl.runtime.shared.model_wrappers.SparseNormalizer object at 0x7fb8706cf320\", \"primary_metric\": 0.83063063, \"best_metric\": 0.83513514}, {\"run_id\": \"AutoML_8654528d-254c-42ff-9c19-f36daff00d1f_14\", \"run_number\": 19, \"metric\": null, \"status\": \"Completed\", \"run_type\": \"azureml.scriptrun\", \"training_percent\": \"100\", \"start_time\": \"2021-01-19T10:26:07.664504Z\", \"end_time\": \"2021-01-19T10:26:48.199037Z\", \"created_time\": \"2021-01-19T10:25:53.833973Z\", \"created_time_dt\": \"2021-01-19T10:25:53.833973Z\", \"duration\": \"0:00:54\", \"iteration\": \"14\", \"goal\": \"accuracy_max\", \"run_name\": \"StandardScalerWrapper, LightGBM\", \"run_properties\": \"<azureml.automl.runtime.shared.model_wrappers.StandardScalerWrapper object at 0x7f2d68c9de80\", \"primary_metric\": 0.79033033, \"best_metric\": 0.83513514}, {\"run_id\": \"AutoML_8654528d-254c-42ff-9c19-f36daff00d1f_15\", \"run_number\": 20, \"metric\": null, \"status\": \"Completed\", \"run_type\": \"azureml.scriptrun\", \"training_percent\": \"100\", \"start_time\": \"2021-01-19T10:26:13.955421Z\", \"end_time\": \"2021-01-19T10:26:59.705618Z\", \"created_time\": \"2021-01-19T10:25:59.947279Z\", \"created_time_dt\": \"2021-01-19T10:25:59.947279Z\", \"duration\": \"0:00:59\", \"iteration\": \"15\", \"goal\": \"accuracy_max\", \"run_name\": \"MinMaxScaler, LightGBM\", \"run_properties\": \"copy=True, feature_range=(0, 1\", \"primary_metric\": 0.79477477, \"best_metric\": 0.83513514}, {\"run_id\": \"AutoML_8654528d-254c-42ff-9c19-f36daff00d1f_16\", \"run_number\": 21, \"metric\": null, \"status\": \"Completed\", \"run_type\": \"azureml.scriptrun\", \"training_percent\": \"100\", \"start_time\": \"2021-01-19T10:26:19.514989Z\", \"end_time\": \"2021-01-19T10:27:05.719644Z\", \"created_time\": \"2021-01-19T10:26:06.71024Z\", \"created_time_dt\": \"2021-01-19T10:26:06.71024Z\", \"duration\": \"0:00:59\", \"iteration\": \"16\", \"goal\": \"accuracy_max\", \"run_name\": \"MaxAbsScaler, LightGBM\", \"run_properties\": \"copy=True\", \"primary_metric\": 0.80384384, \"best_metric\": 0.83513514}, {\"run_id\": \"AutoML_8654528d-254c-42ff-9c19-f36daff00d1f_17\", \"run_number\": 22, \"metric\": null, \"status\": \"Completed\", \"run_type\": \"azureml.scriptrun\", \"training_percent\": \"100\", \"start_time\": \"2021-01-19T10:26:55.229417Z\", \"end_time\": \"2021-01-19T10:27:31.54059Z\", \"created_time\": \"2021-01-19T10:26:42.9854Z\", \"created_time_dt\": \"2021-01-19T10:26:42.9854Z\", \"duration\": \"0:00:48\", \"iteration\": \"17\", \"goal\": \"accuracy_max\", \"run_name\": \"MinMaxScaler, LightGBM\", \"run_properties\": \"copy=True, feature_range=(0, 1\", \"primary_metric\": 0.8351952, \"best_metric\": 0.8351952}, {\"run_id\": \"AutoML_8654528d-254c-42ff-9c19-f36daff00d1f_18\", \"run_number\": 23, \"metric\": null, \"status\": \"Completed\", \"run_type\": \"azureml.scriptrun\", \"training_percent\": \"100\", \"start_time\": \"2021-01-19T10:27:01.798473Z\", \"end_time\": \"2021-01-19T10:27:46.349388Z\", \"created_time\": \"2021-01-19T10:26:50.23724Z\", \"created_time_dt\": \"2021-01-19T10:26:50.23724Z\", \"duration\": \"0:00:56\", \"iteration\": \"18\", \"goal\": \"accuracy_max\", \"run_name\": \"SparseNormalizer, XGBoostClassifier\", \"run_properties\": \"<azureml.automl.runtime.shared.model_wrappers.SparseNormalizer object at 0x7f52dab4a550\", \"primary_metric\": 0.81279279, \"best_metric\": 0.8351952}, {\"run_id\": \"AutoML_8654528d-254c-42ff-9c19-f36daff00d1f_19\", \"run_number\": 24, \"metric\": null, \"status\": \"Completed\", \"run_type\": \"azureml.scriptrun\", \"training_percent\": \"100\", \"start_time\": \"2021-01-19T10:27:16.536454Z\", \"end_time\": \"2021-01-19T10:27:56.903278Z\", \"created_time\": \"2021-01-19T10:27:01.966886Z\", \"created_time_dt\": \"2021-01-19T10:27:01.966886Z\", \"duration\": \"0:00:54\", \"iteration\": \"19\", \"goal\": \"accuracy_max\", \"run_name\": \"StandardScalerWrapper, LightGBM\", \"run_properties\": \"<azureml.automl.runtime.shared.model_wrappers.StandardScalerWrapper object at 0x7f014997abe0\", \"primary_metric\": 0.83963964, \"best_metric\": 0.83963964}, {\"run_id\": \"AutoML_8654528d-254c-42ff-9c19-f36daff00d1f_20\", \"run_number\": 25, \"metric\": null, \"status\": \"Completed\", \"run_type\": \"azureml.scriptrun\", \"training_percent\": \"100\", \"start_time\": \"2021-01-19T10:27:21.939015Z\", \"end_time\": \"2021-01-19T10:28:00.873802Z\", \"created_time\": \"2021-01-19T10:27:08.427838Z\", \"created_time_dt\": \"2021-01-19T10:27:08.427838Z\", \"duration\": \"0:00:52\", \"iteration\": \"20\", \"goal\": \"accuracy_max\", \"run_name\": \"MaxAbsScaler, LightGBM\", \"run_properties\": \"copy=True\", \"primary_metric\": 0.84408408, \"best_metric\": 0.84408408}, {\"run_id\": \"AutoML_8654528d-254c-42ff-9c19-f36daff00d1f_21\", \"run_number\": 26, \"metric\": null, \"status\": \"Completed\", \"run_type\": \"azureml.scriptrun\", \"training_percent\": \"100\", \"start_time\": \"2021-01-19T10:27:47.872617Z\", \"end_time\": \"2021-01-19T10:28:37.443205Z\", \"created_time\": \"2021-01-19T10:27:33.883886Z\", \"created_time_dt\": \"2021-01-19T10:27:33.883886Z\", \"duration\": \"0:01:03\", \"iteration\": \"21\", \"goal\": \"accuracy_max\", \"run_name\": \"RobustScaler, LightGBM\", \"run_properties\": \"copy=True, quantile_range=[25, 75], with_centering=False,\\n             with_scaling=False\", \"primary_metric\": 0.83513514, \"best_metric\": 0.84408408}, {\"run_id\": \"AutoML_8654528d-254c-42ff-9c19-f36daff00d1f_22\", \"run_number\": 27, \"metric\": null, \"status\": \"Completed\", \"run_type\": \"azureml.scriptrun\", \"training_percent\": \"100\", \"start_time\": \"2021-01-19T10:28:02.313091Z\", \"end_time\": \"2021-01-19T10:28:45.07145Z\", \"created_time\": \"2021-01-19T10:27:48.735078Z\", \"created_time_dt\": \"2021-01-19T10:27:48.735078Z\", \"duration\": \"0:00:56\", \"iteration\": \"22\", \"goal\": \"accuracy_max\", \"run_name\": \"MaxAbsScaler, ExtremeRandomTrees\", \"run_properties\": \"copy=True\", \"primary_metric\": 0.83957958, \"best_metric\": 0.84408408}, {\"run_id\": \"AutoML_8654528d-254c-42ff-9c19-f36daff00d1f_23\", \"run_number\": 28, \"metric\": null, \"status\": \"Completed\", \"run_type\": \"azureml.scriptrun\", \"training_percent\": \"100\", \"start_time\": \"2021-01-19T10:28:12.927502Z\", \"end_time\": \"2021-01-19T10:28:50.687551Z\", \"created_time\": \"2021-01-19T10:27:59.646051Z\", \"created_time_dt\": \"2021-01-19T10:27:59.646051Z\", \"duration\": \"0:00:51\", \"iteration\": \"23\", \"goal\": \"accuracy_max\", \"run_name\": \"MaxAbsScaler, LightGBM\", \"run_properties\": \"copy=True\", \"primary_metric\": 0.7009009, \"best_metric\": 0.84408408}, {\"run_id\": \"AutoML_8654528d-254c-42ff-9c19-f36daff00d1f_24\", \"run_number\": 29, \"metric\": null, \"status\": \"Completed\", \"run_type\": \"azureml.scriptrun\", \"training_percent\": \"100\", \"start_time\": \"2021-01-19T10:28:19.120562Z\", \"end_time\": \"2021-01-19T10:28:54.442829Z\", \"created_time\": \"2021-01-19T10:28:04.820734Z\", \"created_time_dt\": \"2021-01-19T10:28:04.820734Z\", \"duration\": \"0:00:49\", \"iteration\": \"24\", \"goal\": \"accuracy_max\", \"run_name\": \"MinMaxScaler, LightGBM\", \"run_properties\": \"copy=True, feature_range=(0, 1\", \"primary_metric\": 0.80804805, \"best_metric\": 0.84408408}, {\"run_id\": \"AutoML_8654528d-254c-42ff-9c19-f36daff00d1f_25\", \"run_number\": 30, \"metric\": null, \"status\": \"Completed\", \"run_type\": \"azureml.scriptrun\", \"training_percent\": \"100\", \"start_time\": \"2021-01-19T10:28:54.870832Z\", \"end_time\": \"2021-01-19T10:29:38.100262Z\", \"created_time\": \"2021-01-19T10:28:40.926573Z\", \"created_time_dt\": \"2021-01-19T10:28:40.926573Z\", \"duration\": \"0:00:57\", \"iteration\": \"25\", \"goal\": \"accuracy_max\", \"run_name\": \"SparseNormalizer, LightGBM\", \"run_properties\": \"<azureml.automl.runtime.shared.model_wrappers.SparseNormalizer object at 0x7fb2d1403eb8\", \"primary_metric\": 0.66960961, \"best_metric\": 0.84408408}, {\"run_id\": \"AutoML_8654528d-254c-42ff-9c19-f36daff00d1f_26\", \"run_number\": 31, \"metric\": null, \"status\": \"Completed\", \"run_type\": \"azureml.scriptrun\", \"training_percent\": \"100\", \"start_time\": \"2021-01-19T10:29:00.341477Z\", \"end_time\": \"2021-01-19T10:29:40.237239Z\", \"created_time\": \"2021-01-19T10:28:47.367055Z\", \"created_time_dt\": \"2021-01-19T10:28:47.367055Z\", \"duration\": \"0:00:52\", \"iteration\": \"26\", \"goal\": \"accuracy_max\", \"run_name\": \"MinMaxScaler, LightGBM\", \"run_properties\": \"copy=True, feature_range=(0, 1\", \"primary_metric\": 0.76348348, \"best_metric\": 0.84408408}, {\"run_id\": \"AutoML_8654528d-254c-42ff-9c19-f36daff00d1f_27\", \"run_number\": 32, \"metric\": null, \"status\": \"Completed\", \"run_type\": \"azureml.scriptrun\", \"training_percent\": \"100\", \"start_time\": \"2021-01-19T10:29:06.402142Z\", \"end_time\": \"2021-01-19T10:29:43.508431Z\", \"created_time\": \"2021-01-19T10:28:53.091735Z\", \"created_time_dt\": \"2021-01-19T10:28:53.091735Z\", \"duration\": \"0:00:50\", \"iteration\": \"27\", \"goal\": \"accuracy_max\", \"run_name\": \"MinMaxScaler, LightGBM\", \"run_properties\": \"copy=True, feature_range=(0, 1\", \"primary_metric\": 0.83957958, \"best_metric\": 0.84408408}, {\"run_id\": \"AutoML_8654528d-254c-42ff-9c19-f36daff00d1f_28\", \"run_number\": 33, \"metric\": null, \"status\": \"Completed\", \"run_type\": \"azureml.scriptrun\", \"training_percent\": \"100\", \"start_time\": \"2021-01-19T10:29:12.210735Z\", \"end_time\": \"2021-01-19T10:29:58.12412Z\", \"created_time\": \"2021-01-19T10:28:58.367738Z\", \"created_time_dt\": \"2021-01-19T10:28:58.367738Z\", \"duration\": \"0:00:59\", \"iteration\": \"28\", \"goal\": \"accuracy_max\", \"run_name\": \"StandardScalerWrapper, XGBoostClassifier\", \"run_properties\": \"<azureml.automl.runtime.shared.model_wrappers.StandardScalerWrapper object at 0x7f2620629cf8\", \"primary_metric\": 0.83051051, \"best_metric\": 0.84408408}, {\"run_id\": \"AutoML_8654528d-254c-42ff-9c19-f36daff00d1f_29\", \"run_number\": 34, \"metric\": null, \"status\": \"Completed\", \"run_type\": \"azureml.scriptrun\", \"training_percent\": \"100\", \"start_time\": \"2021-01-19T10:29:52.706712Z\", \"end_time\": \"2021-01-19T10:30:37.202666Z\", \"created_time\": \"2021-01-19T10:29:40.32677Z\", \"created_time_dt\": \"2021-01-19T10:29:40.32677Z\", \"duration\": \"0:00:56\", \"iteration\": \"29\", \"goal\": \"accuracy_max\", \"run_name\": \"RobustScaler, RandomForest\", \"run_properties\": \"copy=True, quantile_range=[10, 90], with_centering=False,\\n             with_scaling=False\", \"primary_metric\": 0.8393994, \"best_metric\": 0.84408408}, {\"run_id\": \"AutoML_8654528d-254c-42ff-9c19-f36daff00d1f_30\", \"run_number\": 35, \"metric\": null, \"status\": \"Completed\", \"run_type\": \"azureml.scriptrun\", \"training_percent\": \"100\", \"start_time\": \"2021-01-19T10:29:59.133908Z\", \"end_time\": \"2021-01-19T10:30:41.918083Z\", \"created_time\": \"2021-01-19T10:29:46.456364Z\", \"created_time_dt\": \"2021-01-19T10:29:46.456364Z\", \"duration\": \"0:00:55\", \"iteration\": \"30\", \"goal\": \"accuracy_max\", \"run_name\": \"RobustScaler, LightGBM\", \"run_properties\": \"copy=True, quantile_range=[25, 75], with_centering=True,\\n             with_scaling=True\", \"primary_metric\": 0.83957958, \"best_metric\": 0.84408408}, {\"run_id\": \"AutoML_8654528d-254c-42ff-9c19-f36daff00d1f_31\", \"run_number\": 36, \"metric\": null, \"status\": \"Completed\", \"run_type\": \"azureml.scriptrun\", \"training_percent\": \"100\", \"start_time\": \"2021-01-19T10:29:57.861135Z\", \"end_time\": \"2021-01-19T10:30:34.666035Z\", \"created_time\": \"2021-01-19T10:29:46.530055Z\", \"created_time_dt\": \"2021-01-19T10:29:46.530055Z\", \"duration\": \"0:00:48\", \"iteration\": \"31\", \"goal\": \"accuracy_max\", \"run_name\": \"RobustScaler, LightGBM\", \"run_properties\": \"copy=True, quantile_range=[25, 75], with_centering=False,\\n             with_scaling=False\", \"primary_metric\": 0.76804805, \"best_metric\": 0.84408408}, {\"run_id\": \"AutoML_8654528d-254c-42ff-9c19-f36daff00d1f_32\", \"run_number\": 37, \"metric\": null, \"status\": \"Completed\", \"run_type\": \"azureml.scriptrun\", \"training_percent\": \"100\", \"start_time\": \"2021-01-19T10:30:13.749031Z\", \"end_time\": \"2021-01-19T10:30:56.787469Z\", \"created_time\": \"2021-01-19T10:30:00.800955Z\", \"created_time_dt\": \"2021-01-19T10:30:00.800955Z\", \"duration\": \"0:00:55\", \"iteration\": \"32\", \"goal\": \"accuracy_max\", \"run_name\": \"SparseNormalizer, XGBoostClassifier\", \"run_properties\": \"<azureml.automl.runtime.shared.model_wrappers.SparseNormalizer object at 0x7fda324b6588\", \"primary_metric\": 0.82156156, \"best_metric\": 0.84408408}, {\"run_id\": \"AutoML_8654528d-254c-42ff-9c19-f36daff00d1f_33\", \"run_number\": 38, \"metric\": null, \"status\": \"Completed\", \"run_type\": \"azureml.scriptrun\", \"training_percent\": \"100\", \"start_time\": \"2021-01-19T10:30:51.926567Z\", \"end_time\": \"2021-01-19T10:31:33.219285Z\", \"created_time\": \"2021-01-19T10:30:38.05213Z\", \"created_time_dt\": \"2021-01-19T10:30:38.05213Z\", \"duration\": \"0:00:55\", \"iteration\": \"33\", \"goal\": \"accuracy_max\", \"run_name\": \"SparseNormalizer, LightGBM\", \"run_properties\": \"<azureml.automl.runtime.shared.model_wrappers.SparseNormalizer object at 0x7f67366f5c88\", \"primary_metric\": 0.81717718, \"best_metric\": 0.84408408}, {\"run_id\": \"AutoML_8654528d-254c-42ff-9c19-f36daff00d1f_34\", \"run_number\": 39, \"metric\": null, \"status\": \"Canceled\", \"run_type\": \"azureml.scriptrun\", \"training_percent\": \"100\", \"start_time\": \"2021-01-19T10:30:54.556297Z\", \"end_time\": \"2021-01-19T10:31:41.329674Z\", \"created_time\": \"2021-01-19T10:30:43.205445Z\", \"created_time_dt\": \"2021-01-19T10:30:43.205445Z\", \"duration\": \"0:00:58\", \"iteration\": \"34\", \"goal\": \"accuracy_max\", \"run_name\": \"SparseNormalizer, LightGBM\", \"run_properties\": \"<azureml.automl.runtime.shared.model_wrappers.SparseNormalizer object at 0x7f8e6ab109b0\", \"primary_metric\": 0.82612613, \"best_metric\": 0.84408408}, {\"run_id\": \"AutoML_8654528d-254c-42ff-9c19-f36daff00d1f_35\", \"run_number\": 40, \"metric\": null, \"status\": \"Canceled\", \"run_type\": \"azureml.scriptrun\", \"training_percent\": \"100\", \"start_time\": \"2021-01-19T10:31:00.863909Z\", \"end_time\": \"2021-01-19T10:31:40.376071Z\", \"created_time\": \"2021-01-19T10:30:49.223277Z\", \"created_time_dt\": \"2021-01-19T10:30:49.223277Z\", \"duration\": \"0:00:51\", \"iteration\": \"35\", \"goal\": \"accuracy_max\", \"run_name\": \"MaxAbsScaler, LightGBM\", \"run_properties\": \"copy=True\", \"primary_metric\": 0.77237237, \"best_metric\": 0.84408408}, {\"run_id\": \"AutoML_8654528d-254c-42ff-9c19-f36daff00d1f_36\", \"run_number\": 41, \"metric\": null, \"status\": \"Canceled\", \"run_type\": \"azureml.scriptrun\", \"training_percent\": \"100\", \"start_time\": \"2021-01-19T10:31:11.043351Z\", \"end_time\": \"2021-01-19T10:31:39.680664Z\", \"created_time\": \"2021-01-19T10:30:59.268877Z\", \"created_time_dt\": \"2021-01-19T10:30:59.268877Z\", \"duration\": \"0:00:40\", \"iteration\": \"36\", \"goal\": \"accuracy_max\", \"run_name\": \"StandardScalerWrapper, XGBoostClassifier\", \"run_properties\": \"<azureml.automl.runtime.shared.model_wrappers.StandardScalerWrapper object at 0x7fa65e6c3748\", \"primary_metric\": 0.81717718, \"best_metric\": 0.84408408}, {\"run_id\": \"AutoML_8654528d-254c-42ff-9c19-f36daff00d1f_37\", \"run_number\": 42, \"metric\": null, \"status\": \"Completed\", \"run_type\": \"azureml.scriptrun\", \"training_percent\": \"100\", \"start_time\": \"2021-01-19T10:31:55.910182Z\", \"end_time\": \"2021-01-19T10:33:10.639986Z\", \"created_time\": \"2021-01-19T10:31:42.724204Z\", \"created_time_dt\": \"2021-01-19T10:31:42.724204Z\", \"duration\": \"0:01:27\", \"iteration\": \"37\", \"goal\": \"accuracy_max\", \"run_name\": \"VotingEnsemble\", \"run_properties\": \"classification_labels=None,\\n                              estimators=[('20',\\n                                           Pipeline(memory=None,\\n                                                    steps=[('maxabsscaler',\\n                                                            MaxAbsScaler(copy=True\", \"primary_metric\": 0.86186186, \"best_metric\": 0.86186186}, {\"run_id\": \"AutoML_8654528d-254c-42ff-9c19-f36daff00d1f_38\", \"run_number\": 43, \"metric\": null, \"status\": \"Completed\", \"run_type\": \"azureml.scriptrun\", \"training_percent\": \"100\", \"start_time\": \"2021-01-19T10:31:54.209058Z\", \"end_time\": \"2021-01-19T10:33:01.458339Z\", \"created_time\": \"2021-01-19T10:31:42.734543Z\", \"created_time_dt\": \"2021-01-19T10:31:42.734543Z\", \"duration\": \"0:01:18\", \"iteration\": \"38\", \"goal\": \"accuracy_max\", \"run_name\": \"StackEnsemble\", \"run_properties\": \"base_learners=[('20',\\n                                        Pipeline(memory=None,\\n                                                 steps=[('maxabsscaler',\\n                                                         MaxAbsScaler(copy=True\", \"primary_metric\": 0.83957958, \"best_metric\": 0.86186186}], \"children_metrics\": {\"categories\": [0], \"series\": {\"precision_score_micro\": [{\"categories\": [\"0\", \"1\", \"2\", \"3\", \"4\", \"5\", \"6\", \"7\", \"8\", \"9\", \"10\", \"11\", \"12\", \"13\", \"14\", \"15\", \"16\", \"17\", \"18\", \"19\", \"20\", \"21\", \"22\", \"23\", \"24\", \"25\", \"26\", \"27\", \"28\", \"29\", \"30\", \"31\", \"32\", \"33\", \"34\", \"35\", \"36\", \"37\", \"38\"], \"mode\": \"markers\", \"name\": \"precision_score_micro\", \"stepped\": false, \"type\": \"scatter\", \"data\": [0.8081081081081081, 0.8305705705705706, 0.7992192192192192, 0.835015015015015, 0.8260060060060059, 0.8262462462462462, 0.8351351351351352, 0.6965165165165166, 0.8351351351351352, 0.834954954954955, 0.8304504504504505, 0.8171771771771773, 0.8350750750750752, 0.8306306306306306, 0.7903303303303303, 0.7947747747747748, 0.8038438438438439, 0.8351951951951953, 0.8127927927927928, 0.8396396396396396, 0.8440840840840841, 0.8351351351351352, 0.8395795795795795, 0.7009009009009008, 0.8080480480480481, 0.6696096096096097, 0.7634834834834835, 0.8395795795795795, 0.8305105105105105, 0.8393993993993994, 0.8395795795795795, 0.768048048048048, 0.8215615615615616, 0.8171771771771773, 0.8261261261261262, 0.7723723723723723, 0.8171771771771773, 0.861861861861862, 0.8395795795795795]}, {\"categories\": [\"0\", \"1\", \"2\", \"3\", \"4\", \"5\", \"6\", \"7\", \"8\", \"9\", \"10\", \"11\", \"12\", \"13\", \"14\", \"15\", \"16\", \"17\", \"18\", \"19\", \"20\", \"21\", \"22\", \"23\", \"24\", \"25\", \"26\", \"27\", \"28\", \"29\", \"30\", \"31\", \"32\", \"33\", \"34\", \"35\", \"36\", \"37\", \"38\"], \"mode\": \"lines\", \"name\": \"precision_score_micro_max\", \"stepped\": true, \"type\": \"scatter\", \"data\": [0.8081081081081081, 0.8305705705705706, 0.8305705705705706, 0.835015015015015, 0.835015015015015, 0.835015015015015, 0.8351351351351352, 0.8351351351351352, 0.8351351351351352, 0.8351351351351352, 0.8351351351351352, 0.8351351351351352, 0.8351351351351352, 0.8351351351351352, 0.8351351351351352, 0.8351351351351352, 0.8351351351351352, 0.8351951951951953, 0.8351951951951953, 0.8396396396396396, 0.8440840840840841, 0.8440840840840841, 0.8440840840840841, 0.8440840840840841, 0.8440840840840841, 0.8440840840840841, 0.8440840840840841, 0.8440840840840841, 0.8440840840840841, 0.8440840840840841, 0.8440840840840841, 0.8440840840840841, 0.8440840840840841, 0.8440840840840841, 0.8440840840840841, 0.8440840840840841, 0.8440840840840841, 0.861861861861862, 0.861861861861862]}], \"weighted_accuracy\": [{\"categories\": [\"0\", \"1\", \"2\", \"3\", \"4\", \"5\", \"6\", \"7\", \"8\", \"9\", \"10\", \"11\", \"12\", \"13\", \"14\", \"15\", \"16\", \"17\", \"18\", \"19\", \"20\", \"21\", \"22\", \"23\", \"24\", \"25\", \"26\", \"27\", \"28\", \"29\", \"30\", \"31\", \"32\", \"33\", \"34\", \"35\", \"36\", \"37\", \"38\"], \"mode\": \"markers\", \"name\": \"weighted_accuracy\", \"stepped\": false, \"type\": \"scatter\", \"data\": [0.8371598066988835, 0.8559634293160877, 0.820815076804719, 0.8668139171977373, 0.8558471074629468, 0.8562811990760589, 0.8616956108646893, 0.7811306713134161, 0.8646541273499775, 0.8612676846825985, 0.8612156941799753, 0.8670132372860869, 0.8668958752401025, 0.8588782485482547, 0.835082125513413, 0.845589652660886, 0.8535313361214661, 0.8588689151059091, 0.856308159210252, 0.8698855975106935, 0.8668865417977569, 0.8642988257679067, 0.8831440278056029, 0.822682460122647, 0.869491837086661, 0.8040511974595993, 0.8329265338839699, 0.8722935399239535, 0.8614338792057336, 0.866601018015932, 0.866816924603286, 0.8244767827917152, 0.8668126789521763, 0.85601418157315, 0.853544035627853, 0.8182530726776497, 0.8509386929061552, 0.8909394218732998, 0.8693173967468176]}, {\"categories\": [\"0\", \"1\", \"2\", \"3\", \"4\", \"5\", \"6\", \"7\", \"8\", \"9\", \"10\", \"11\", \"12\", \"13\", \"14\", \"15\", \"16\", \"17\", \"18\", \"19\", \"20\", \"21\", \"22\", \"23\", \"24\", \"25\", \"26\", \"27\", \"28\", \"29\", \"30\", \"31\", \"32\", \"33\", \"34\", \"35\", \"36\", \"37\", \"38\"], \"mode\": \"lines\", \"name\": \"weighted_accuracy_max\", \"stepped\": true, \"type\": \"scatter\", \"data\": [0.8371598066988835, 0.8559634293160877, 0.8559634293160877, 0.8668139171977373, 0.8668139171977373, 0.8668139171977373, 0.8668139171977373, 0.8668139171977373, 0.8668139171977373, 0.8668139171977373, 0.8668139171977373, 0.8670132372860869, 0.8670132372860869, 0.8670132372860869, 0.8670132372860869, 0.8670132372860869, 0.8670132372860869, 0.8670132372860869, 0.8670132372860869, 0.8698855975106935, 0.8698855975106935, 0.8698855975106935, 0.8831440278056029, 0.8831440278056029, 0.8831440278056029, 0.8831440278056029, 0.8831440278056029, 0.8831440278056029, 0.8831440278056029, 0.8831440278056029, 0.8831440278056029, 0.8831440278056029, 0.8831440278056029, 0.8831440278056029, 0.8831440278056029, 0.8831440278056029, 0.8831440278056029, 0.8909394218732998, 0.8909394218732998]}], \"average_precision_score_macro\": [{\"categories\": [\"0\", \"1\", \"2\", \"3\", \"4\", \"5\", \"6\", \"7\", \"8\", \"9\", \"10\", \"11\", \"12\", \"13\", \"14\", \"15\", \"16\", \"17\", \"18\", \"19\", \"20\", \"21\", \"22\", \"23\", \"24\", \"25\", \"26\", \"27\", \"28\", \"29\", \"30\", \"31\", \"32\", \"33\", \"34\", \"35\", \"36\", \"37\", \"38\"], \"mode\": \"markers\", \"name\": \"average_precision_score_macro\", \"stepped\": false, \"type\": \"scatter\", \"data\": [0.8659714038830959, 0.8794754364335113, 0.870827332957269, 0.870883962522079, 0.8531690357804296, 0.8685737739507111, 0.8636989809200039, 0.7570589260317946, 0.841383709047366, 0.8910618483739934, 0.8741947780525597, 0.8588482810966873, 0.8799311459203812, 0.877956444553949, 0.8452284481019899, 0.8647371954076938, 0.8322280891972088, 0.8626330934420796, 0.8460176449895404, 0.8630555780820166, 0.8906612713007506, 0.8697219206585961, 0.8682950222545273, 0.8308037063704155, 0.8843006082387608, 0.7553838326645224, 0.8508355641448482, 0.8857650246134319, 0.8582716699455334, 0.8692355670103064, 0.8820702649880579, 0.8215105858896509, 0.8649423318562323, 0.8508126510218501, 0.8416049259559942, 0.811966706928342, 0.867641538996759, 0.8902107859808899, 0.8857143970963038]}, {\"categories\": [\"0\", \"1\", \"2\", \"3\", \"4\", \"5\", \"6\", \"7\", \"8\", \"9\", \"10\", \"11\", \"12\", \"13\", \"14\", \"15\", \"16\", \"17\", \"18\", \"19\", \"20\", \"21\", \"22\", \"23\", \"24\", \"25\", \"26\", \"27\", \"28\", \"29\", \"30\", \"31\", \"32\", \"33\", \"34\", \"35\", \"36\", \"37\", \"38\"], \"mode\": \"lines\", \"name\": \"average_precision_score_macro_max\", \"stepped\": true, \"type\": \"scatter\", \"data\": [0.8659714038830959, 0.8794754364335113, 0.8794754364335113, 0.8794754364335113, 0.8794754364335113, 0.8794754364335113, 0.8794754364335113, 0.8794754364335113, 0.8794754364335113, 0.8910618483739934, 0.8910618483739934, 0.8910618483739934, 0.8910618483739934, 0.8910618483739934, 0.8910618483739934, 0.8910618483739934, 0.8910618483739934, 0.8910618483739934, 0.8910618483739934, 0.8910618483739934, 0.8910618483739934, 0.8910618483739934, 0.8910618483739934, 0.8910618483739934, 0.8910618483739934, 0.8910618483739934, 0.8910618483739934, 0.8910618483739934, 0.8910618483739934, 0.8910618483739934, 0.8910618483739934, 0.8910618483739934, 0.8910618483739934, 0.8910618483739934, 0.8910618483739934, 0.8910618483739934, 0.8910618483739934, 0.8910618483739934, 0.8910618483739934]}], \"f1_score_micro\": [{\"categories\": [\"0\", \"1\", \"2\", \"3\", \"4\", \"5\", \"6\", \"7\", \"8\", \"9\", \"10\", \"11\", \"12\", \"13\", \"14\", \"15\", \"16\", \"17\", \"18\", \"19\", \"20\", \"21\", \"22\", \"23\", \"24\", \"25\", \"26\", \"27\", \"28\", \"29\", \"30\", \"31\", \"32\", \"33\", \"34\", \"35\", \"36\", \"37\", \"38\"], \"mode\": \"markers\", \"name\": \"f1_score_micro\", \"stepped\": false, \"type\": \"scatter\", \"data\": [0.8081081081081081, 0.8305705705705706, 0.7992192192192192, 0.8350150150150152, 0.8260060060060059, 0.8262462462462462, 0.8351351351351352, 0.6965165165165166, 0.8351351351351352, 0.834954954954955, 0.8304504504504505, 0.8171771771771773, 0.8350750750750752, 0.8306306306306306, 0.7903303303303303, 0.7947747747747748, 0.8038438438438439, 0.8351951951951953, 0.8127927927927928, 0.8396396396396396, 0.8440840840840841, 0.8351351351351352, 0.8395795795795796, 0.7009009009009008, 0.8080480480480481, 0.6696096096096097, 0.7634834834834835, 0.8395795795795795, 0.8305105105105105, 0.8393993993993994, 0.8395795795795795, 0.768048048048048, 0.8215615615615617, 0.8171771771771773, 0.8261261261261262, 0.7723723723723723, 0.8171771771771773, 0.861861861861862, 0.8395795795795795]}, {\"categories\": [\"0\", \"1\", \"2\", \"3\", \"4\", \"5\", \"6\", \"7\", \"8\", \"9\", \"10\", \"11\", \"12\", \"13\", \"14\", \"15\", \"16\", \"17\", \"18\", \"19\", \"20\", \"21\", \"22\", \"23\", \"24\", \"25\", \"26\", \"27\", \"28\", \"29\", \"30\", \"31\", \"32\", \"33\", \"34\", \"35\", \"36\", \"37\", \"38\"], \"mode\": \"lines\", \"name\": \"f1_score_micro_max\", \"stepped\": true, \"type\": \"scatter\", \"data\": [0.8081081081081081, 0.8305705705705706, 0.8305705705705706, 0.8350150150150152, 0.8350150150150152, 0.8350150150150152, 0.8351351351351352, 0.8351351351351352, 0.8351351351351352, 0.8351351351351352, 0.8351351351351352, 0.8351351351351352, 0.8351351351351352, 0.8351351351351352, 0.8351351351351352, 0.8351351351351352, 0.8351351351351352, 0.8351951951951953, 0.8351951951951953, 0.8396396396396396, 0.8440840840840841, 0.8440840840840841, 0.8440840840840841, 0.8440840840840841, 0.8440840840840841, 0.8440840840840841, 0.8440840840840841, 0.8440840840840841, 0.8440840840840841, 0.8440840840840841, 0.8440840840840841, 0.8440840840840841, 0.8440840840840841, 0.8440840840840841, 0.8440840840840841, 0.8440840840840841, 0.8440840840840841, 0.861861861861862, 0.861861861861862]}], \"recall_score_weighted\": [{\"categories\": [\"0\", \"1\", \"2\", \"3\", \"4\", \"5\", \"6\", \"7\", \"8\", \"9\", \"10\", \"11\", \"12\", \"13\", \"14\", \"15\", \"16\", \"17\", \"18\", \"19\", \"20\", \"21\", \"22\", \"23\", \"24\", \"25\", \"26\", \"27\", \"28\", \"29\", \"30\", \"31\", \"32\", \"33\", \"34\", \"35\", \"36\", \"37\", \"38\"], \"mode\": \"markers\", \"name\": \"recall_score_weighted\", \"stepped\": false, \"type\": \"scatter\", \"data\": [0.8081081081081081, 0.8305705705705706, 0.7992192192192192, 0.835015015015015, 0.8260060060060059, 0.8262462462462462, 0.8351351351351352, 0.6965165165165166, 0.8351351351351352, 0.834954954954955, 0.8304504504504505, 0.8171771771771773, 0.8350750750750752, 0.8306306306306306, 0.7903303303303303, 0.7947747747747748, 0.8038438438438439, 0.8351951951951953, 0.8127927927927928, 0.8396396396396396, 0.8440840840840841, 0.8351351351351352, 0.8395795795795795, 0.7009009009009008, 0.8080480480480481, 0.6696096096096097, 0.7634834834834835, 0.8395795795795795, 0.8305105105105105, 0.8393993993993994, 0.8395795795795795, 0.768048048048048, 0.8215615615615616, 0.8171771771771773, 0.8261261261261262, 0.7723723723723723, 0.8171771771771773, 0.861861861861862, 0.8395795795795795]}, {\"categories\": [\"0\", \"1\", \"2\", \"3\", \"4\", \"5\", \"6\", \"7\", \"8\", \"9\", \"10\", \"11\", \"12\", \"13\", \"14\", \"15\", \"16\", \"17\", \"18\", \"19\", \"20\", \"21\", \"22\", \"23\", \"24\", \"25\", \"26\", \"27\", \"28\", \"29\", \"30\", \"31\", \"32\", \"33\", \"34\", \"35\", \"36\", \"37\", \"38\"], \"mode\": \"lines\", \"name\": \"recall_score_weighted_max\", \"stepped\": true, \"type\": \"scatter\", \"data\": [0.8081081081081081, 0.8305705705705706, 0.8305705705705706, 0.835015015015015, 0.835015015015015, 0.835015015015015, 0.8351351351351352, 0.8351351351351352, 0.8351351351351352, 0.8351351351351352, 0.8351351351351352, 0.8351351351351352, 0.8351351351351352, 0.8351351351351352, 0.8351351351351352, 0.8351351351351352, 0.8351351351351352, 0.8351951951951953, 0.8351951951951953, 0.8396396396396396, 0.8440840840840841, 0.8440840840840841, 0.8440840840840841, 0.8440840840840841, 0.8440840840840841, 0.8440840840840841, 0.8440840840840841, 0.8440840840840841, 0.8440840840840841, 0.8440840840840841, 0.8440840840840841, 0.8440840840840841, 0.8440840840840841, 0.8440840840840841, 0.8440840840840841, 0.8440840840840841, 0.8440840840840841, 0.861861861861862, 0.861861861861862]}], \"recall_score_micro\": [{\"categories\": [\"0\", \"1\", \"2\", \"3\", \"4\", \"5\", \"6\", \"7\", \"8\", \"9\", \"10\", \"11\", \"12\", \"13\", \"14\", \"15\", \"16\", \"17\", \"18\", \"19\", \"20\", \"21\", \"22\", \"23\", \"24\", \"25\", \"26\", \"27\", \"28\", \"29\", \"30\", \"31\", \"32\", \"33\", \"34\", \"35\", \"36\", \"37\", \"38\"], \"mode\": \"markers\", \"name\": \"recall_score_micro\", \"stepped\": false, \"type\": \"scatter\", \"data\": [0.8081081081081081, 0.8305705705705706, 0.7992192192192192, 0.835015015015015, 0.8260060060060059, 0.8262462462462462, 0.8351351351351352, 0.6965165165165166, 0.8351351351351352, 0.834954954954955, 0.8304504504504505, 0.8171771771771773, 0.8350750750750752, 0.8306306306306306, 0.7903303303303303, 0.7947747747747748, 0.8038438438438439, 0.8351951951951953, 0.8127927927927928, 0.8396396396396396, 0.8440840840840841, 0.8351351351351352, 0.8395795795795795, 0.7009009009009008, 0.8080480480480481, 0.6696096096096097, 0.7634834834834835, 0.8395795795795795, 0.8305105105105105, 0.8393993993993994, 0.8395795795795795, 0.768048048048048, 0.8215615615615616, 0.8171771771771773, 0.8261261261261262, 0.7723723723723723, 0.8171771771771773, 0.861861861861862, 0.8395795795795795]}, {\"categories\": [\"0\", \"1\", \"2\", \"3\", \"4\", \"5\", \"6\", \"7\", \"8\", \"9\", \"10\", \"11\", \"12\", \"13\", \"14\", \"15\", \"16\", \"17\", \"18\", \"19\", \"20\", \"21\", \"22\", \"23\", \"24\", \"25\", \"26\", \"27\", \"28\", \"29\", \"30\", \"31\", \"32\", \"33\", \"34\", \"35\", \"36\", \"37\", \"38\"], \"mode\": \"lines\", \"name\": \"recall_score_micro_max\", \"stepped\": true, \"type\": \"scatter\", \"data\": [0.8081081081081081, 0.8305705705705706, 0.8305705705705706, 0.835015015015015, 0.835015015015015, 0.835015015015015, 0.8351351351351352, 0.8351351351351352, 0.8351351351351352, 0.8351351351351352, 0.8351351351351352, 0.8351351351351352, 0.8351351351351352, 0.8351351351351352, 0.8351351351351352, 0.8351351351351352, 0.8351351351351352, 0.8351951951951953, 0.8351951951951953, 0.8396396396396396, 0.8440840840840841, 0.8440840840840841, 0.8440840840840841, 0.8440840840840841, 0.8440840840840841, 0.8440840840840841, 0.8440840840840841, 0.8440840840840841, 0.8440840840840841, 0.8440840840840841, 0.8440840840840841, 0.8440840840840841, 0.8440840840840841, 0.8440840840840841, 0.8440840840840841, 0.8440840840840841, 0.8440840840840841, 0.861861861861862, 0.861861861861862]}], \"average_precision_score_micro\": [{\"categories\": [\"0\", \"1\", \"2\", \"3\", \"4\", \"5\", \"6\", \"7\", \"8\", \"9\", \"10\", \"11\", \"12\", \"13\", \"14\", \"15\", \"16\", \"17\", \"18\", \"19\", \"20\", \"21\", \"22\", \"23\", \"24\", \"25\", \"26\", \"27\", \"28\", \"29\", \"30\", \"31\", \"32\", \"33\", \"34\", \"35\", \"36\", \"37\", \"38\"], \"mode\": \"markers\", \"name\": \"average_precision_score_micro\", \"stepped\": false, \"type\": \"scatter\", \"data\": [0.8846188453449834, 0.8980177586124739, 0.8920673170785589, 0.8945172998115933, 0.8866063355689501, 0.8828905372397887, 0.8850745439775647, 0.809392671606564, 0.8802230681336433, 0.9069302540444134, 0.8969160212151733, 0.8758018234823242, 0.8956752291458837, 0.8958366027243686, 0.8873625084183235, 0.8955599355063789, 0.8505225170489146, 0.8837764265766325, 0.877611933838177, 0.8834215243715974, 0.9018433221057754, 0.8874409445741622, 0.8855712537884918, 0.8471837302825218, 0.8865011037014288, 0.8067052022376381, 0.8780122667613036, 0.8917300883376943, 0.8834235291207282, 0.8982132739965731, 0.9028440324590435, 0.8476390116305361, 0.8851765200065702, 0.8644086946124956, 0.8687324387181073, 0.8502895611016177, 0.8762194826729698, 0.9040604195422377, 0.8738242748857498]}, {\"categories\": [\"0\", \"1\", \"2\", \"3\", \"4\", \"5\", \"6\", \"7\", \"8\", \"9\", \"10\", \"11\", \"12\", \"13\", \"14\", \"15\", \"16\", \"17\", \"18\", \"19\", \"20\", \"21\", \"22\", \"23\", \"24\", \"25\", \"26\", \"27\", \"28\", \"29\", \"30\", \"31\", \"32\", \"33\", \"34\", \"35\", \"36\", \"37\", \"38\"], \"mode\": \"lines\", \"name\": \"average_precision_score_micro_max\", \"stepped\": true, \"type\": \"scatter\", \"data\": [0.8846188453449834, 0.8980177586124739, 0.8980177586124739, 0.8980177586124739, 0.8980177586124739, 0.8980177586124739, 0.8980177586124739, 0.8980177586124739, 0.8980177586124739, 0.9069302540444134, 0.9069302540444134, 0.9069302540444134, 0.9069302540444134, 0.9069302540444134, 0.9069302540444134, 0.9069302540444134, 0.9069302540444134, 0.9069302540444134, 0.9069302540444134, 0.9069302540444134, 0.9069302540444134, 0.9069302540444134, 0.9069302540444134, 0.9069302540444134, 0.9069302540444134, 0.9069302540444134, 0.9069302540444134, 0.9069302540444134, 0.9069302540444134, 0.9069302540444134, 0.9069302540444134, 0.9069302540444134, 0.9069302540444134, 0.9069302540444134, 0.9069302540444134, 0.9069302540444134, 0.9069302540444134, 0.9069302540444134, 0.9069302540444134]}], \"balanced_accuracy\": [{\"categories\": [\"0\", \"1\", \"2\", \"3\", \"4\", \"5\", \"6\", \"7\", \"8\", \"9\", \"10\", \"11\", \"12\", \"13\", \"14\", \"15\", \"16\", \"17\", \"18\", \"19\", \"20\", \"21\", \"22\", \"23\", \"24\", \"25\", \"26\", \"27\", \"28\", \"29\", \"30\", \"31\", \"32\", \"33\", \"34\", \"35\", \"36\", \"37\", \"38\"], \"mode\": \"markers\", \"name\": \"balanced_accuracy\", \"stepped\": false, \"type\": \"scatter\", \"data\": [0.7717677070828332, 0.7989135654261705, 0.772516673336001, 0.7951717353608109, 0.7887148192610377, 0.7886384553821529, 0.801705015339469, 0.5905855675603575, 0.7978187941843404, 0.802048152594371, 0.7919174336401227, 0.7546215152727758, 0.7951744030945712, 0.7952397625716953, 0.7339925970388155, 0.7309423769507802, 0.7415659597172203, 0.8056482593037214, 0.7581645991730025, 0.80156329198346, 0.8155828998265973, 0.7985730959050287, 0.7848339335734295, 0.5472222222222222, 0.7309477124183007, 0.5, 0.6758089902627717, 0.7985757636387888, 0.7917050153394691, 0.8053814859277045, 0.8055175403494732, 0.6970481525943711, 0.7647685740963052, 0.768641123115913, 0.7916369881285847, 0.7152260904361745, 0.7746925436841403, 0.8253868213952247, 0.8025273442710418]}, {\"categories\": [\"0\", \"1\", \"2\", \"3\", \"4\", \"5\", \"6\", \"7\", \"8\", \"9\", \"10\", \"11\", \"12\", \"13\", \"14\", \"15\", \"16\", \"17\", \"18\", \"19\", \"20\", \"21\", \"22\", \"23\", \"24\", \"25\", \"26\", \"27\", \"28\", \"29\", \"30\", \"31\", \"32\", \"33\", \"34\", \"35\", \"36\", \"37\", \"38\"], \"mode\": \"lines\", \"name\": \"balanced_accuracy_max\", \"stepped\": true, \"type\": \"scatter\", \"data\": [0.7717677070828332, 0.7989135654261705, 0.7989135654261705, 0.7989135654261705, 0.7989135654261705, 0.7989135654261705, 0.801705015339469, 0.801705015339469, 0.801705015339469, 0.802048152594371, 0.802048152594371, 0.802048152594371, 0.802048152594371, 0.802048152594371, 0.802048152594371, 0.802048152594371, 0.802048152594371, 0.8056482593037214, 0.8056482593037214, 0.8056482593037214, 0.8155828998265973, 0.8155828998265973, 0.8155828998265973, 0.8155828998265973, 0.8155828998265973, 0.8155828998265973, 0.8155828998265973, 0.8155828998265973, 0.8155828998265973, 0.8155828998265973, 0.8155828998265973, 0.8155828998265973, 0.8155828998265973, 0.8155828998265973, 0.8155828998265973, 0.8155828998265973, 0.8155828998265973, 0.8253868213952247, 0.8253868213952247]}], \"accuracy\": [{\"categories\": [\"0\", \"1\", \"2\", \"3\", \"4\", \"5\", \"6\", \"7\", \"8\", \"9\", \"10\", \"11\", \"12\", \"13\", \"14\", \"15\", \"16\", \"17\", \"18\", \"19\", \"20\", \"21\", \"22\", \"23\", \"24\", \"25\", \"26\", \"27\", \"28\", \"29\", \"30\", \"31\", \"32\", \"33\", \"34\", \"35\", \"36\", \"37\", \"38\"], \"mode\": \"markers\", \"name\": \"accuracy\", \"stepped\": false, \"type\": \"scatter\", \"data\": [0.8081081081081081, 0.8305705705705706, 0.7992192192192192, 0.835015015015015, 0.8260060060060059, 0.8262462462462462, 0.8351351351351352, 0.6965165165165166, 0.8351351351351352, 0.834954954954955, 0.8304504504504505, 0.8171771771771773, 0.8350750750750752, 0.8306306306306306, 0.7903303303303303, 0.7947747747747748, 0.8038438438438439, 0.8351951951951953, 0.8127927927927928, 0.8396396396396396, 0.8440840840840841, 0.8351351351351352, 0.8395795795795795, 0.7009009009009008, 0.8080480480480481, 0.6696096096096097, 0.7634834834834835, 0.8395795795795795, 0.8305105105105105, 0.8393993993993994, 0.8395795795795795, 0.768048048048048, 0.8215615615615616, 0.8171771771771773, 0.8261261261261262, 0.7723723723723723, 0.8171771771771773, 0.861861861861862, 0.8395795795795795]}, {\"categories\": [\"0\", \"1\", \"2\", \"3\", \"4\", \"5\", \"6\", \"7\", \"8\", \"9\", \"10\", \"11\", \"12\", \"13\", \"14\", \"15\", \"16\", \"17\", \"18\", \"19\", \"20\", \"21\", \"22\", \"23\", \"24\", \"25\", \"26\", \"27\", \"28\", \"29\", \"30\", \"31\", \"32\", \"33\", \"34\", \"35\", \"36\", \"37\", \"38\"], \"mode\": \"lines\", \"name\": \"accuracy_max\", \"stepped\": true, \"type\": \"scatter\", \"data\": [0.8081081081081081, 0.8305705705705706, 0.8305705705705706, 0.835015015015015, 0.835015015015015, 0.835015015015015, 0.8351351351351352, 0.8351351351351352, 0.8351351351351352, 0.8351351351351352, 0.8351351351351352, 0.8351351351351352, 0.8351351351351352, 0.8351351351351352, 0.8351351351351352, 0.8351351351351352, 0.8351351351351352, 0.8351951951951953, 0.8351951951951953, 0.8396396396396396, 0.8440840840840841, 0.8440840840840841, 0.8440840840840841, 0.8440840840840841, 0.8440840840840841, 0.8440840840840841, 0.8440840840840841, 0.8440840840840841, 0.8440840840840841, 0.8440840840840841, 0.8440840840840841, 0.8440840840840841, 0.8440840840840841, 0.8440840840840841, 0.8440840840840841, 0.8440840840840841, 0.8440840840840841, 0.861861861861862, 0.861861861861862]}], \"f1_score_macro\": [{\"categories\": [\"0\", \"1\", \"2\", \"3\", \"4\", \"5\", \"6\", \"7\", \"8\", \"9\", \"10\", \"11\", \"12\", \"13\", \"14\", \"15\", \"16\", \"17\", \"18\", \"19\", \"20\", \"21\", \"22\", \"23\", \"24\", \"25\", \"26\", \"27\", \"28\", \"29\", \"30\", \"31\", \"32\", \"33\", \"34\", \"35\", \"36\", \"37\", \"38\"], \"mode\": \"markers\", \"name\": \"f1_score_macro\", \"stepped\": false, \"type\": \"scatter\", \"data\": [0.7780064452775037, 0.8048930466589933, 0.772011824432043, 0.8055334735343163, 0.7961663388022894, 0.7957761427133061, 0.8055512370521467, 0.5727930813422936, 0.80597736776479, 0.8085831564554035, 0.8001178883236371, 0.7715197602469349, 0.8052193930325234, 0.8031306950706769, 0.7472925104406203, 0.7462166185853265, 0.7532457206649624, 0.8096379068148479, 0.7687538905760604, 0.8105675278381748, 0.8203603590391181, 0.8067278613776803, 0.8000012281386292, 0.4947559096982123, 0.7508559586848951, 0.40104529616724743, 0.6905341914113844, 0.810024008936387, 0.800429292929293, 0.8132999936571365, 0.8124100099169717, 0.7081473660537071, 0.7810786717695674, 0.7808736511566702, 0.79557886322289, 0.7228356982133809, 0.7815470873080863, 0.8356416031416032, 0.8087330561653734]}, {\"categories\": [\"0\", \"1\", \"2\", \"3\", \"4\", \"5\", \"6\", \"7\", \"8\", \"9\", \"10\", \"11\", \"12\", \"13\", \"14\", \"15\", \"16\", \"17\", \"18\", \"19\", \"20\", \"21\", \"22\", \"23\", \"24\", \"25\", \"26\", \"27\", \"28\", \"29\", \"30\", \"31\", \"32\", \"33\", \"34\", \"35\", \"36\", \"37\", \"38\"], \"mode\": \"lines\", \"name\": \"f1_score_macro_max\", \"stepped\": true, \"type\": \"scatter\", \"data\": [0.7780064452775037, 0.8048930466589933, 0.8048930466589933, 0.8055334735343163, 0.8055334735343163, 0.8055334735343163, 0.8055512370521467, 0.8055512370521467, 0.80597736776479, 0.8085831564554035, 0.8085831564554035, 0.8085831564554035, 0.8085831564554035, 0.8085831564554035, 0.8085831564554035, 0.8085831564554035, 0.8085831564554035, 0.8096379068148479, 0.8096379068148479, 0.8105675278381748, 0.8203603590391181, 0.8203603590391181, 0.8203603590391181, 0.8203603590391181, 0.8203603590391181, 0.8203603590391181, 0.8203603590391181, 0.8203603590391181, 0.8203603590391181, 0.8203603590391181, 0.8203603590391181, 0.8203603590391181, 0.8203603590391181, 0.8203603590391181, 0.8203603590391181, 0.8203603590391181, 0.8203603590391181, 0.8356416031416032, 0.8356416031416032]}], \"AUC_micro\": [{\"categories\": [\"0\", \"1\", \"2\", \"3\", \"4\", \"5\", \"6\", \"7\", \"8\", \"9\", \"10\", \"11\", \"12\", \"13\", \"14\", \"15\", \"16\", \"17\", \"18\", \"19\", \"20\", \"21\", \"22\", \"23\", \"24\", \"25\", \"26\", \"27\", \"28\", \"29\", \"30\", \"31\", \"32\", \"33\", \"34\", \"35\", \"36\", \"37\", \"38\"], \"mode\": \"markers\", \"name\": \"AUC_micro\", \"stepped\": false, \"type\": \"scatter\", \"data\": [0.8862274923572221, 0.900129221113005, 0.8905501934366798, 0.890804956307659, 0.8862532911289668, 0.8844311663014365, 0.8889626816005194, 0.8002677488299109, 0.8879391499607716, 0.903344944944945, 0.8973936206476747, 0.8739539755972189, 0.8940041555068583, 0.8954570137705273, 0.8800347049752455, 0.8894287043800557, 0.8623843194545898, 0.885288207126045, 0.882083369856343, 0.884596044693342, 0.8977391012634256, 0.8867293780266753, 0.8816234071909749, 0.8306391147904661, 0.8809393176960745, 0.7963723615507399, 0.8692761301842382, 0.891420534047561, 0.888788940291643, 0.8964148364580797, 0.9018683007331657, 0.8535176040905771, 0.8866044098152206, 0.8699545707870032, 0.8732356031707383, 0.8624169683196711, 0.8878222438654871, 0.9020355923491058, 0.882012012012012]}, {\"categories\": [\"0\", \"1\", \"2\", \"3\", \"4\", \"5\", \"6\", \"7\", \"8\", \"9\", \"10\", \"11\", \"12\", \"13\", \"14\", \"15\", \"16\", \"17\", \"18\", \"19\", \"20\", \"21\", \"22\", \"23\", \"24\", \"25\", \"26\", \"27\", \"28\", \"29\", \"30\", \"31\", \"32\", \"33\", \"34\", \"35\", \"36\", \"37\", \"38\"], \"mode\": \"lines\", \"name\": \"AUC_micro_max\", \"stepped\": true, \"type\": \"scatter\", \"data\": [0.8862274923572221, 0.900129221113005, 0.900129221113005, 0.900129221113005, 0.900129221113005, 0.900129221113005, 0.900129221113005, 0.900129221113005, 0.900129221113005, 0.903344944944945, 0.903344944944945, 0.903344944944945, 0.903344944944945, 0.903344944944945, 0.903344944944945, 0.903344944944945, 0.903344944944945, 0.903344944944945, 0.903344944944945, 0.903344944944945, 0.903344944944945, 0.903344944944945, 0.903344944944945, 0.903344944944945, 0.903344944944945, 0.903344944944945, 0.903344944944945, 0.903344944944945, 0.903344944944945, 0.903344944944945, 0.903344944944945, 0.903344944944945, 0.903344944944945, 0.903344944944945, 0.903344944944945, 0.903344944944945, 0.903344944944945, 0.903344944944945, 0.903344944944945]}], \"recall_score_macro\": [{\"categories\": [\"0\", \"1\", \"2\", \"3\", \"4\", \"5\", \"6\", \"7\", \"8\", \"9\", \"10\", \"11\", \"12\", \"13\", \"14\", \"15\", \"16\", \"17\", \"18\", \"19\", \"20\", \"21\", \"22\", \"23\", \"24\", \"25\", \"26\", \"27\", \"28\", \"29\", \"30\", \"31\", \"32\", \"33\", \"34\", \"35\", \"36\", \"37\", \"38\"], \"mode\": \"markers\", \"name\": \"recall_score_macro\", \"stepped\": false, \"type\": \"scatter\", \"data\": [0.7717677070828332, 0.7989135654261705, 0.772516673336001, 0.7951717353608109, 0.7887148192610377, 0.7886384553821529, 0.801705015339469, 0.5905855675603575, 0.7978187941843404, 0.802048152594371, 0.7919174336401227, 0.7546215152727758, 0.7951744030945712, 0.7952397625716953, 0.7339925970388155, 0.7309423769507802, 0.7415659597172203, 0.8056482593037214, 0.7581645991730025, 0.80156329198346, 0.8155828998265973, 0.7985730959050287, 0.7848339335734295, 0.5472222222222222, 0.7309477124183007, 0.5, 0.6758089902627717, 0.7985757636387888, 0.7917050153394691, 0.8053814859277045, 0.8055175403494732, 0.6970481525943711, 0.7647685740963052, 0.768641123115913, 0.7916369881285847, 0.7152260904361745, 0.7746925436841403, 0.8253868213952247, 0.8025273442710418]}, {\"categories\": [\"0\", \"1\", \"2\", \"3\", \"4\", \"5\", \"6\", \"7\", \"8\", \"9\", \"10\", \"11\", \"12\", \"13\", \"14\", \"15\", \"16\", \"17\", \"18\", \"19\", \"20\", \"21\", \"22\", \"23\", \"24\", \"25\", \"26\", \"27\", \"28\", \"29\", \"30\", \"31\", \"32\", \"33\", \"34\", \"35\", \"36\", \"37\", \"38\"], \"mode\": \"lines\", \"name\": \"recall_score_macro_max\", \"stepped\": true, \"type\": \"scatter\", \"data\": [0.7717677070828332, 0.7989135654261705, 0.7989135654261705, 0.7989135654261705, 0.7989135654261705, 0.7989135654261705, 0.801705015339469, 0.801705015339469, 0.801705015339469, 0.802048152594371, 0.802048152594371, 0.802048152594371, 0.802048152594371, 0.802048152594371, 0.802048152594371, 0.802048152594371, 0.802048152594371, 0.8056482593037214, 0.8056482593037214, 0.8056482593037214, 0.8155828998265973, 0.8155828998265973, 0.8155828998265973, 0.8155828998265973, 0.8155828998265973, 0.8155828998265973, 0.8155828998265973, 0.8155828998265973, 0.8155828998265973, 0.8155828998265973, 0.8155828998265973, 0.8155828998265973, 0.8155828998265973, 0.8155828998265973, 0.8155828998265973, 0.8155828998265973, 0.8155828998265973, 0.8253868213952247, 0.8253868213952247]}], \"average_precision_score_weighted\": [{\"categories\": [\"0\", \"1\", \"2\", \"3\", \"4\", \"5\", \"6\", \"7\", \"8\", \"9\", \"10\", \"11\", \"12\", \"13\", \"14\", \"15\", \"16\", \"17\", \"18\", \"19\", \"20\", \"21\", \"22\", \"23\", \"24\", \"25\", \"26\", \"27\", \"28\", \"29\", \"30\", \"31\", \"32\", \"33\", \"34\", \"35\", \"36\", \"37\", \"38\"], \"mode\": \"markers\", \"name\": \"average_precision_score_weighted\", \"stepped\": false, \"type\": \"scatter\", \"data\": [0.887953533238667, 0.9007293314603354, 0.8928068279085478, 0.8945504143512597, 0.8811202481236119, 0.8894239447413885, 0.884596036088273, 0.7990179524300393, 0.867946202058039, 0.9104540766494708, 0.8950236245032502, 0.8828374296495287, 0.9004579469805987, 0.897332671354055, 0.8766519436097169, 0.8928728165800361, 0.8585480557572343, 0.8831995809303642, 0.8709370867789229, 0.8852562848901676, 0.909671477685694, 0.8923590540337779, 0.8904992664291616, 0.8657901343847806, 0.9057688060186089, 0.8000786022703252, 0.8810693485786277, 0.9038622050682809, 0.8819701571933823, 0.896116699860798, 0.9019057444708308, 0.8457836865200519, 0.8875734641991123, 0.8701106341281469, 0.8649156282727223, 0.8435501856736662, 0.8912366161180714, 0.9086754935678973, 0.9044016592633407]}, {\"categories\": [\"0\", \"1\", \"2\", \"3\", \"4\", \"5\", \"6\", \"7\", \"8\", \"9\", \"10\", \"11\", \"12\", \"13\", \"14\", \"15\", \"16\", \"17\", \"18\", \"19\", \"20\", \"21\", \"22\", \"23\", \"24\", \"25\", \"26\", \"27\", \"28\", \"29\", \"30\", \"31\", \"32\", \"33\", \"34\", \"35\", \"36\", \"37\", \"38\"], \"mode\": \"lines\", \"name\": \"average_precision_score_weighted_max\", \"stepped\": true, \"type\": \"scatter\", \"data\": [0.887953533238667, 0.9007293314603354, 0.9007293314603354, 0.9007293314603354, 0.9007293314603354, 0.9007293314603354, 0.9007293314603354, 0.9007293314603354, 0.9007293314603354, 0.9104540766494708, 0.9104540766494708, 0.9104540766494708, 0.9104540766494708, 0.9104540766494708, 0.9104540766494708, 0.9104540766494708, 0.9104540766494708, 0.9104540766494708, 0.9104540766494708, 0.9104540766494708, 0.9104540766494708, 0.9104540766494708, 0.9104540766494708, 0.9104540766494708, 0.9104540766494708, 0.9104540766494708, 0.9104540766494708, 0.9104540766494708, 0.9104540766494708, 0.9104540766494708, 0.9104540766494708, 0.9104540766494708, 0.9104540766494708, 0.9104540766494708, 0.9104540766494708, 0.9104540766494708, 0.9104540766494708, 0.9104540766494708, 0.9104540766494708]}], \"matthews_correlation\": [{\"categories\": [\"0\", \"1\", \"2\", \"3\", \"4\", \"5\", \"6\", \"7\", \"8\", \"9\", \"10\", \"11\", \"12\", \"13\", \"14\", \"15\", \"16\", \"17\", \"18\", \"19\", \"20\", \"21\", \"22\", \"23\", \"24\", \"25\", \"26\", \"27\", \"28\", \"29\", \"30\", \"31\", \"32\", \"33\", \"34\", \"35\", \"36\", \"37\", \"38\"], \"mode\": \"markers\", \"name\": \"matthews_correlation\", \"stepped\": false, \"type\": \"scatter\", \"data\": [0.5679044831961759, 0.6268684048271029, 0.5687880467057803, 0.6328067849537947, 0.6103951085391571, 0.6088003628367563, 0.6259944085257968, 0.242278403937904, 0.6188236395450177, 0.6316219917715981, 0.6134451357976042, 0.5855109669023578, 0.6247322399745837, 0.6161212151646578, 0.51639926077419, 0.5219274814935275, 0.5442836217829283, 0.6350591113297305, 0.5653518359052313, 0.6333835182173513, 0.6530148376825974, 0.6272655127257083, 0.6365174039193447, 0.2543826862454599, 0.5644814437232591, 0.0, 0.43588707249278674, 0.6357907062421924, 0.6169860309077327, 0.6448520528416858, 0.6393943531118221, 0.4649534496222419, 0.5859167863155916, 0.5867177392967265, 0.6060447655432492, 0.48735898310341824, 0.5852954124469537, 0.6918649250264354, 0.6504190624768492]}, {\"categories\": [\"0\", \"1\", \"2\", \"3\", \"4\", \"5\", \"6\", \"7\", \"8\", \"9\", \"10\", \"11\", \"12\", \"13\", \"14\", \"15\", \"16\", \"17\", \"18\", \"19\", \"20\", \"21\", \"22\", \"23\", \"24\", \"25\", \"26\", \"27\", \"28\", \"29\", \"30\", \"31\", \"32\", \"33\", \"34\", \"35\", \"36\", \"37\", \"38\"], \"mode\": \"lines\", \"name\": \"matthews_correlation_max\", \"stepped\": true, \"type\": \"scatter\", \"data\": [0.5679044831961759, 0.6268684048271029, 0.6268684048271029, 0.6328067849537947, 0.6328067849537947, 0.6328067849537947, 0.6328067849537947, 0.6328067849537947, 0.6328067849537947, 0.6328067849537947, 0.6328067849537947, 0.6328067849537947, 0.6328067849537947, 0.6328067849537947, 0.6328067849537947, 0.6328067849537947, 0.6328067849537947, 0.6350591113297305, 0.6350591113297305, 0.6350591113297305, 0.6530148376825974, 0.6530148376825974, 0.6530148376825974, 0.6530148376825974, 0.6530148376825974, 0.6530148376825974, 0.6530148376825974, 0.6530148376825974, 0.6530148376825974, 0.6530148376825974, 0.6530148376825974, 0.6530148376825974, 0.6530148376825974, 0.6530148376825974, 0.6530148376825974, 0.6530148376825974, 0.6530148376825974, 0.6918649250264354, 0.6918649250264354]}], \"AUC_weighted\": [{\"categories\": [\"0\", \"1\", \"2\", \"3\", \"4\", \"5\", \"6\", \"7\", \"8\", \"9\", \"10\", \"11\", \"12\", \"13\", \"14\", \"15\", \"16\", \"17\", \"18\", \"19\", \"20\", \"21\", \"22\", \"23\", \"24\", \"25\", \"26\", \"27\", \"28\", \"29\", \"30\", \"31\", \"32\", \"33\", \"34\", \"35\", \"36\", \"37\", \"38\"], \"mode\": \"markers\", \"name\": \"AUC_weighted\", \"stepped\": false, \"type\": \"scatter\", \"data\": [0.8715703614779245, 0.8929915521764261, 0.8810690720732737, 0.8811109377084169, 0.8721398959583834, 0.8762154195011336, 0.8713519541149793, 0.7756015561780267, 0.8672929171668667, 0.8966767951625094, 0.8830172602374283, 0.8674677337601708, 0.8854862878484727, 0.8819521497487885, 0.865705357698635, 0.8860587701747363, 0.8687926859632743, 0.8656132275132276, 0.8620587657285137, 0.8701425636921435, 0.8952678804855275, 0.8806066515495087, 0.8716232270686053, 0.8536650393490729, 0.8927118847539015, 0.7858752078609221, 0.8701333955804543, 0.8885646125116713, 0.877641999021831, 0.8900846471922103, 0.8891260415277222, 0.8253257302921169, 0.8771874616513271, 0.8496840825218976, 0.8483472589035613, 0.8575123738384244, 0.8926456404784137, 0.8954638477613267, 0.89146429238362]}, {\"categories\": [\"0\", \"1\", \"2\", \"3\", \"4\", \"5\", \"6\", \"7\", \"8\", \"9\", \"10\", \"11\", \"12\", \"13\", \"14\", \"15\", \"16\", \"17\", \"18\", \"19\", \"20\", \"21\", \"22\", \"23\", \"24\", \"25\", \"26\", \"27\", \"28\", \"29\", \"30\", \"31\", \"32\", \"33\", \"34\", \"35\", \"36\", \"37\", \"38\"], \"mode\": \"lines\", \"name\": \"AUC_weighted_max\", \"stepped\": true, \"type\": \"scatter\", \"data\": [0.8715703614779245, 0.8929915521764261, 0.8929915521764261, 0.8929915521764261, 0.8929915521764261, 0.8929915521764261, 0.8929915521764261, 0.8929915521764261, 0.8929915521764261, 0.8966767951625094, 0.8966767951625094, 0.8966767951625094, 0.8966767951625094, 0.8966767951625094, 0.8966767951625094, 0.8966767951625094, 0.8966767951625094, 0.8966767951625094, 0.8966767951625094, 0.8966767951625094, 0.8966767951625094, 0.8966767951625094, 0.8966767951625094, 0.8966767951625094, 0.8966767951625094, 0.8966767951625094, 0.8966767951625094, 0.8966767951625094, 0.8966767951625094, 0.8966767951625094, 0.8966767951625094, 0.8966767951625094, 0.8966767951625094, 0.8966767951625094, 0.8966767951625094, 0.8966767951625094, 0.8966767951625094, 0.8966767951625094, 0.8966767951625094]}], \"f1_score_weighted\": [{\"categories\": [\"0\", \"1\", \"2\", \"3\", \"4\", \"5\", \"6\", \"7\", \"8\", \"9\", \"10\", \"11\", \"12\", \"13\", \"14\", \"15\", \"16\", \"17\", \"18\", \"19\", \"20\", \"21\", \"22\", \"23\", \"24\", \"25\", \"26\", \"27\", \"28\", \"29\", \"30\", \"31\", \"32\", \"33\", \"34\", \"35\", \"36\", \"37\", \"38\"], \"mode\": \"markers\", \"name\": \"f1_score_weighted\", \"stepped\": false, \"type\": \"scatter\", \"data\": [0.8054491130824052, 0.8284757501775544, 0.7975069263353692, 0.8309285318175142, 0.8222018931296972, 0.8222029859102898, 0.8310433502911367, 0.6488432107283687, 0.8317227119414837, 0.8324032575017934, 0.8262710461555617, 0.8058718752792947, 0.8309698486388727, 0.828034961407702, 0.7826732826608885, 0.7837420532615823, 0.790610377720606, 0.8328907045331301, 0.8025973769972395, 0.8357876421860789, 0.8423038680208167, 0.8317183984966995, 0.8299294583363048, 0.6043777774012059, 0.7910099734139641, 0.5371286268847245, 0.741882314163016, 0.8353481250604536, 0.8264912093912095, 0.8366598534455677, 0.8363691974332127, 0.7525541760584532, 0.8128879099283036, 0.8107149320356868, 0.8220762267090951, 0.7612384811273917, 0.8110828867599507, 0.8577191268191268, 0.8339432895806399]}, {\"categories\": [\"0\", \"1\", \"2\", \"3\", \"4\", \"5\", \"6\", \"7\", \"8\", \"9\", \"10\", \"11\", \"12\", \"13\", \"14\", \"15\", \"16\", \"17\", \"18\", \"19\", \"20\", \"21\", \"22\", \"23\", \"24\", \"25\", \"26\", \"27\", \"28\", \"29\", \"30\", \"31\", \"32\", \"33\", \"34\", \"35\", \"36\", \"37\", \"38\"], \"mode\": \"lines\", \"name\": \"f1_score_weighted_max\", \"stepped\": true, \"type\": \"scatter\", \"data\": [0.8054491130824052, 0.8284757501775544, 0.8284757501775544, 0.8309285318175142, 0.8309285318175142, 0.8309285318175142, 0.8310433502911367, 0.8310433502911367, 0.8317227119414837, 0.8324032575017934, 0.8324032575017934, 0.8324032575017934, 0.8324032575017934, 0.8324032575017934, 0.8324032575017934, 0.8324032575017934, 0.8324032575017934, 0.8328907045331301, 0.8328907045331301, 0.8357876421860789, 0.8423038680208167, 0.8423038680208167, 0.8423038680208167, 0.8423038680208167, 0.8423038680208167, 0.8423038680208167, 0.8423038680208167, 0.8423038680208167, 0.8423038680208167, 0.8423038680208167, 0.8423038680208167, 0.8423038680208167, 0.8423038680208167, 0.8423038680208167, 0.8423038680208167, 0.8423038680208167, 0.8423038680208167, 0.8577191268191268, 0.8577191268191268]}], \"precision_score_weighted\": [{\"categories\": [\"0\", \"1\", \"2\", \"3\", \"4\", \"5\", \"6\", \"7\", \"8\", \"9\", \"10\", \"11\", \"12\", \"13\", \"14\", \"15\", \"16\", \"17\", \"18\", \"19\", \"20\", \"21\", \"22\", \"23\", \"24\", \"25\", \"26\", \"27\", \"28\", \"29\", \"30\", \"31\", \"32\", \"33\", \"34\", \"35\", \"36\", \"37\", \"38\"], \"mode\": \"markers\", \"name\": \"precision_score_weighted\", \"stepped\": false, \"type\": \"scatter\", \"data\": [0.8133994916261543, 0.8416778424151307, 0.8180966978456219, 0.8465413710359065, 0.8346330183564227, 0.8336164571270954, 0.840316649066649, 0.6900987512805301, 0.8344286739652874, 0.8428074180123559, 0.833916809292112, 0.8335817589388056, 0.8396635579094806, 0.8342211361832348, 0.7947128062167265, 0.7992755725773794, 0.8116564016873614, 0.8446871302790936, 0.8175871109204443, 0.8429093525013157, 0.8514851106508218, 0.840657464485148, 0.8538981707459968, 0.793281941018773, 0.8318834505501173, 0.4484343911479047, 0.7700107650022904, 0.8452206648816817, 0.8369958767401222, 0.8503796088472587, 0.8461877845722059, 0.7824833843503157, 0.8255705960205013, 0.8267041009017273, 0.8313870463870464, 0.788220118393855, 0.8251462976624268, 0.8722476952207959, 0.8583876680543346]}, {\"categories\": [\"0\", \"1\", \"2\", \"3\", \"4\", \"5\", \"6\", \"7\", \"8\", \"9\", \"10\", \"11\", \"12\", \"13\", \"14\", \"15\", \"16\", \"17\", \"18\", \"19\", \"20\", \"21\", \"22\", \"23\", \"24\", \"25\", \"26\", \"27\", \"28\", \"29\", \"30\", \"31\", \"32\", \"33\", \"34\", \"35\", \"36\", \"37\", \"38\"], \"mode\": \"lines\", \"name\": \"precision_score_weighted_max\", \"stepped\": true, \"type\": \"scatter\", \"data\": [0.8133994916261543, 0.8416778424151307, 0.8416778424151307, 0.8465413710359065, 0.8465413710359065, 0.8465413710359065, 0.8465413710359065, 0.8465413710359065, 0.8465413710359065, 0.8465413710359065, 0.8465413710359065, 0.8465413710359065, 0.8465413710359065, 0.8465413710359065, 0.8465413710359065, 0.8465413710359065, 0.8465413710359065, 0.8465413710359065, 0.8465413710359065, 0.8465413710359065, 0.8514851106508218, 0.8514851106508218, 0.8538981707459968, 0.8538981707459968, 0.8538981707459968, 0.8538981707459968, 0.8538981707459968, 0.8538981707459968, 0.8538981707459968, 0.8538981707459968, 0.8538981707459968, 0.8538981707459968, 0.8538981707459968, 0.8538981707459968, 0.8538981707459968, 0.8538981707459968, 0.8538981707459968, 0.8722476952207959, 0.8722476952207959]}], \"norm_macro_recall\": [{\"categories\": [\"0\", \"1\", \"2\", \"3\", \"4\", \"5\", \"6\", \"7\", \"8\", \"9\", \"10\", \"11\", \"12\", \"13\", \"14\", \"15\", \"16\", \"17\", \"18\", \"19\", \"20\", \"21\", \"22\", \"23\", \"24\", \"25\", \"26\", \"27\", \"28\", \"29\", \"30\", \"31\", \"32\", \"33\", \"34\", \"35\", \"36\", \"37\", \"38\"], \"mode\": \"markers\", \"name\": \"norm_macro_recall\", \"stepped\": false, \"type\": \"scatter\", \"data\": [0.5435354141656663, 0.597827130852341, 0.5450333466720022, 0.590343470721622, 0.5774296385220755, 0.5772769107643058, 0.6034100306789382, 0.18117113512071495, 0.5956375883686809, 0.6040963051887422, 0.5838348672802455, 0.5092430305455515, 0.5903488061891423, 0.5904795251433906, 0.4679851940776311, 0.46188475390156064, 0.48313191943444034, 0.6112965186074429, 0.516329198346005, 0.6031265839669201, 0.6311657996531945, 0.5971461918100573, 0.5696678671468587, 0.09444444444444448, 0.46189542483660134, 0.0, 0.35161798052554355, 0.5971515272775777, 0.5834100306789383, 0.610762971855409, 0.6110350806989463, 0.3940963051887421, 0.5295371481926102, 0.537282246231826, 0.5832739762571695, 0.43045218087234893, 0.5493850873682806, 0.6507736427904495, 0.6050546885420834]}, {\"categories\": [\"0\", \"1\", \"2\", \"3\", \"4\", \"5\", \"6\", \"7\", \"8\", \"9\", \"10\", \"11\", \"12\", \"13\", \"14\", \"15\", \"16\", \"17\", \"18\", \"19\", \"20\", \"21\", \"22\", \"23\", \"24\", \"25\", \"26\", \"27\", \"28\", \"29\", \"30\", \"31\", \"32\", \"33\", \"34\", \"35\", \"36\", \"37\", \"38\"], \"mode\": \"lines\", \"name\": \"norm_macro_recall_max\", \"stepped\": true, \"type\": \"scatter\", \"data\": [0.5435354141656663, 0.597827130852341, 0.597827130852341, 0.597827130852341, 0.597827130852341, 0.597827130852341, 0.6034100306789382, 0.6034100306789382, 0.6034100306789382, 0.6040963051887422, 0.6040963051887422, 0.6040963051887422, 0.6040963051887422, 0.6040963051887422, 0.6040963051887422, 0.6040963051887422, 0.6040963051887422, 0.6112965186074429, 0.6112965186074429, 0.6112965186074429, 0.6311657996531945, 0.6311657996531945, 0.6311657996531945, 0.6311657996531945, 0.6311657996531945, 0.6311657996531945, 0.6311657996531945, 0.6311657996531945, 0.6311657996531945, 0.6311657996531945, 0.6311657996531945, 0.6311657996531945, 0.6311657996531945, 0.6311657996531945, 0.6311657996531945, 0.6311657996531945, 0.6311657996531945, 0.6507736427904495, 0.6507736427904495]}], \"precision_score_macro\": [{\"categories\": [\"0\", \"1\", \"2\", \"3\", \"4\", \"5\", \"6\", \"7\", \"8\", \"9\", \"10\", \"11\", \"12\", \"13\", \"14\", \"15\", \"16\", \"17\", \"18\", \"19\", \"20\", \"21\", \"22\", \"23\", \"24\", \"25\", \"26\", \"27\", \"28\", \"29\", \"30\", \"31\", \"32\", \"33\", \"34\", \"35\", \"36\", \"37\", \"38\"], \"mode\": \"markers\", \"name\": \"precision_score_macro\", \"stepped\": false, \"type\": \"scatter\", \"data\": [0.797837825647372, 0.8304878149157812, 0.7994787183165949, 0.8419533626159309, 0.8247940003259152, 0.8229684027556369, 0.8268849206349206, 0.6732357596132146, 0.8219986211347767, 0.8319409901105898, 0.8236640780526979, 0.8406047872854475, 0.8318504484358339, 0.8222075651217491, 0.7864770633658731, 0.7961762202852202, 0.8102112455827627, 0.8316396824020691, 0.8125687311961821, 0.8338619046242913, 0.8391343543914317, 0.8308821135445429, 0.8603241514926298, 0.8456170814843399, 0.8482683982683982, 0.33480480480480485, 0.7712629472693031, 0.8397395369852997, 0.82823815144787, 0.8428284665701001, 0.8361156588933364, 0.7807117851805042, 0.8250876179057315, 0.8222907827848488, 0.8170024420024421, 0.7804468341332261, 0.815226447899259, 0.8706904915958744, 0.8548016798016796]}, {\"categories\": [\"0\", \"1\", \"2\", \"3\", \"4\", \"5\", \"6\", \"7\", \"8\", \"9\", \"10\", \"11\", \"12\", \"13\", \"14\", \"15\", \"16\", \"17\", \"18\", \"19\", \"20\", \"21\", \"22\", \"23\", \"24\", \"25\", \"26\", \"27\", \"28\", \"29\", \"30\", \"31\", \"32\", \"33\", \"34\", \"35\", \"36\", \"37\", \"38\"], \"mode\": \"lines\", \"name\": \"precision_score_macro_max\", \"stepped\": true, \"type\": \"scatter\", \"data\": [0.797837825647372, 0.8304878149157812, 0.8304878149157812, 0.8419533626159309, 0.8419533626159309, 0.8419533626159309, 0.8419533626159309, 0.8419533626159309, 0.8419533626159309, 0.8419533626159309, 0.8419533626159309, 0.8419533626159309, 0.8419533626159309, 0.8419533626159309, 0.8419533626159309, 0.8419533626159309, 0.8419533626159309, 0.8419533626159309, 0.8419533626159309, 0.8419533626159309, 0.8419533626159309, 0.8419533626159309, 0.8603241514926298, 0.8603241514926298, 0.8603241514926298, 0.8603241514926298, 0.8603241514926298, 0.8603241514926298, 0.8603241514926298, 0.8603241514926298, 0.8603241514926298, 0.8603241514926298, 0.8603241514926298, 0.8603241514926298, 0.8603241514926298, 0.8603241514926298, 0.8603241514926298, 0.8706904915958744, 0.8706904915958744]}], \"AUC_macro\": [{\"categories\": [\"0\", \"1\", \"2\", \"3\", \"4\", \"5\", \"6\", \"7\", \"8\", \"9\", \"10\", \"11\", \"12\", \"13\", \"14\", \"15\", \"16\", \"17\", \"18\", \"19\", \"20\", \"21\", \"22\", \"23\", \"24\", \"25\", \"26\", \"27\", \"28\", \"29\", \"30\", \"31\", \"32\", \"33\", \"34\", \"35\", \"36\", \"37\", \"38\"], \"mode\": \"markers\", \"name\": \"AUC_macro\", \"stepped\": false, \"type\": \"scatter\", \"data\": [0.8715703614779245, 0.8929915521764261, 0.8810690720732737, 0.8811109377084168, 0.8721398959583834, 0.8762154195011337, 0.8713519541149793, 0.7756015561780267, 0.8672929171668669, 0.8966767951625094, 0.8830172602374283, 0.8674677337601707, 0.8854862878484727, 0.8819521497487885, 0.865705357698635, 0.8860587701747366, 0.8687926859632743, 0.8656132275132276, 0.8620587657285136, 0.8701425636921435, 0.8952678804855275, 0.8806066515495088, 0.8716232270686053, 0.8536650393490729, 0.8927118847539015, 0.7858752078609221, 0.8701333955804543, 0.8885646125116713, 0.877641999021831, 0.8900846471922103, 0.8891260415277221, 0.8253257302921169, 0.8771874616513271, 0.8496840825218976, 0.8483472589035613, 0.8575123738384244, 0.8926456404784137, 0.8954638477613267, 0.8914642923836201]}, {\"categories\": [\"0\", \"1\", \"2\", \"3\", \"4\", \"5\", \"6\", \"7\", \"8\", \"9\", \"10\", \"11\", \"12\", \"13\", \"14\", \"15\", \"16\", \"17\", \"18\", \"19\", \"20\", \"21\", \"22\", \"23\", \"24\", \"25\", \"26\", \"27\", \"28\", \"29\", \"30\", \"31\", \"32\", \"33\", \"34\", \"35\", \"36\", \"37\", \"38\"], \"mode\": \"lines\", \"name\": \"AUC_macro_max\", \"stepped\": true, \"type\": \"scatter\", \"data\": [0.8715703614779245, 0.8929915521764261, 0.8929915521764261, 0.8929915521764261, 0.8929915521764261, 0.8929915521764261, 0.8929915521764261, 0.8929915521764261, 0.8929915521764261, 0.8966767951625094, 0.8966767951625094, 0.8966767951625094, 0.8966767951625094, 0.8966767951625094, 0.8966767951625094, 0.8966767951625094, 0.8966767951625094, 0.8966767951625094, 0.8966767951625094, 0.8966767951625094, 0.8966767951625094, 0.8966767951625094, 0.8966767951625094, 0.8966767951625094, 0.8966767951625094, 0.8966767951625094, 0.8966767951625094, 0.8966767951625094, 0.8966767951625094, 0.8966767951625094, 0.8966767951625094, 0.8966767951625094, 0.8966767951625094, 0.8966767951625094, 0.8966767951625094, 0.8966767951625094, 0.8966767951625094, 0.8966767951625094, 0.8966767951625094]}], \"log_loss\": [{\"categories\": [\"0\", \"1\", \"2\", \"3\", \"4\", \"5\", \"6\", \"7\", \"8\", \"9\", \"10\", \"11\", \"12\", \"13\", \"14\", \"15\", \"16\", \"17\", \"18\", \"19\", \"20\", \"21\", \"22\", \"23\", \"24\", \"25\", \"26\", \"27\", \"28\", \"29\", \"30\", \"31\", \"32\", \"33\", \"34\", \"35\", \"36\", \"37\", \"38\"], \"mode\": \"markers\", \"name\": \"log_loss\", \"stepped\": false, \"type\": \"scatter\", \"data\": [0.5469299915525344, 0.4601801228247972, 0.41505056180660516, 0.41375338590856425, 0.422928349339257, 0.43776150664030783, 0.43116814211815774, 0.5404491042934207, 0.4248519278634233, 0.40684669987568567, 0.42624596125983927, 0.45758400519520454, 0.4263213906868575, 0.41396257120089125, 0.46261144251550396, 0.44348827748160885, 0.49740334176565476, 0.42300840348598573, 0.4357594504425896, 0.4265644865423433, 0.41703625871988786, 0.4345261807170635, 0.43694947490505515, 0.5462486474588534, 0.48030464288899877, 0.6116847466932005, 0.47277754238535685, 0.4511994529945887, 0.4862211292459376, 0.4133743092908004, 0.4170741419892496, 0.4998546883903144, 0.4328185253610795, 0.45457183763988446, 0.46526480685590155, 0.5057673013148535, 0.4642083500785292, 0.40371404625988344, 0.4829220866128623]}, {\"categories\": [\"0\", \"1\", \"2\", \"3\", \"4\", \"5\", \"6\", \"7\", \"8\", \"9\", \"10\", \"11\", \"12\", \"13\", \"14\", \"15\", \"16\", \"17\", \"18\", \"19\", \"20\", \"21\", \"22\", \"23\", \"24\", \"25\", \"26\", \"27\", \"28\", \"29\", \"30\", \"31\", \"32\", \"33\", \"34\", \"35\", \"36\", \"37\", \"38\"], \"mode\": \"lines\", \"name\": \"log_loss_min\", \"stepped\": true, \"type\": \"scatter\", \"data\": [0.5469299915525344, 0.4601801228247972, 0.41505056180660516, 0.41375338590856425, 0.41375338590856425, 0.41375338590856425, 0.41375338590856425, 0.41375338590856425, 0.41375338590856425, 0.40684669987568567, 0.40684669987568567, 0.40684669987568567, 0.40684669987568567, 0.40684669987568567, 0.40684669987568567, 0.40684669987568567, 0.40684669987568567, 0.40684669987568567, 0.40684669987568567, 0.40684669987568567, 0.40684669987568567, 0.40684669987568567, 0.40684669987568567, 0.40684669987568567, 0.40684669987568567, 0.40684669987568567, 0.40684669987568567, 0.40684669987568567, 0.40684669987568567, 0.40684669987568567, 0.40684669987568567, 0.40684669987568567, 0.40684669987568567, 0.40684669987568567, 0.40684669987568567, 0.40684669987568567, 0.40684669987568567, 0.40371404625988344, 0.40371404625988344]}]}, \"metricName\": null, \"primaryMetricName\": \"accuracy\", \"showLegend\": false}, \"run_metrics\": [{\"name\": \"experiment_status\", \"run_id\": \"AutoML_8654528d-254c-42ff-9c19-f36daff00d1f\", \"categories\": [0, 1, 2, 3, 4, 5], \"series\": [{\"data\": [\"DatasetEvaluation\", \"FeaturesGeneration\", \"DatasetFeaturization\", \"DatasetFeaturizationCompleted\", \"DatasetCrossValidationSplit\", \"ModelSelection\"]}]}, {\"name\": \"experiment_status_description\", \"run_id\": \"AutoML_8654528d-254c-42ff-9c19-f36daff00d1f\", \"categories\": [0, 1, 2, 3, 4, 5], \"series\": [{\"data\": [\"Gathering dataset statistics.\", \"Generating features for the dataset.\", \"Beginning to fit featurizers and featurize the dataset.\", \"Completed fit featurizers and featurizing the dataset.\", \"Generating individually featurized CV splits.\", \"Beginning model selection.\"]}]}, {\"name\": \"log_loss\", \"run_id\": \"AutoML_8654528d-254c-42ff-9c19-f36daff00d1f\", \"categories\": [0], \"series\": [{\"data\": [0.40371404625988344]}]}, {\"name\": \"f1_score_micro\", \"run_id\": \"AutoML_8654528d-254c-42ff-9c19-f36daff00d1f\", \"categories\": [0], \"series\": [{\"data\": [0.861861861861862]}]}, {\"name\": \"recall_score_macro\", \"run_id\": \"AutoML_8654528d-254c-42ff-9c19-f36daff00d1f\", \"categories\": [0], \"series\": [{\"data\": [0.8253868213952247]}]}, {\"name\": \"precision_score_weighted\", \"run_id\": \"AutoML_8654528d-254c-42ff-9c19-f36daff00d1f\", \"categories\": [0], \"series\": [{\"data\": [0.8722476952207959]}]}, {\"name\": \"precision_score_macro\", \"run_id\": \"AutoML_8654528d-254c-42ff-9c19-f36daff00d1f\", \"categories\": [0], \"series\": [{\"data\": [0.8706904915958744]}]}, {\"name\": \"recall_score_weighted\", \"run_id\": \"AutoML_8654528d-254c-42ff-9c19-f36daff00d1f\", \"categories\": [0], \"series\": [{\"data\": [0.861861861861862]}]}, {\"name\": \"average_precision_score_weighted\", \"run_id\": \"AutoML_8654528d-254c-42ff-9c19-f36daff00d1f\", \"categories\": [0], \"series\": [{\"data\": [0.9086754935678973]}]}, {\"name\": \"matthews_correlation\", \"run_id\": \"AutoML_8654528d-254c-42ff-9c19-f36daff00d1f\", \"categories\": [0], \"series\": [{\"data\": [0.6918649250264354]}]}, {\"name\": \"norm_macro_recall\", \"run_id\": \"AutoML_8654528d-254c-42ff-9c19-f36daff00d1f\", \"categories\": [0], \"series\": [{\"data\": [0.6507736427904495]}]}, {\"name\": \"AUC_micro\", \"run_id\": \"AutoML_8654528d-254c-42ff-9c19-f36daff00d1f\", \"categories\": [0], \"series\": [{\"data\": [0.9020355923491058]}]}, {\"name\": \"weighted_accuracy\", \"run_id\": \"AutoML_8654528d-254c-42ff-9c19-f36daff00d1f\", \"categories\": [0], \"series\": [{\"data\": [0.8909394218732998]}]}, {\"name\": \"average_precision_score_micro\", \"run_id\": \"AutoML_8654528d-254c-42ff-9c19-f36daff00d1f\", \"categories\": [0], \"series\": [{\"data\": [0.9040604195422377]}]}, {\"name\": \"precision_score_micro\", \"run_id\": \"AutoML_8654528d-254c-42ff-9c19-f36daff00d1f\", \"categories\": [0], \"series\": [{\"data\": [0.861861861861862]}]}, {\"name\": \"balanced_accuracy\", \"run_id\": \"AutoML_8654528d-254c-42ff-9c19-f36daff00d1f\", \"categories\": [0], \"series\": [{\"data\": [0.8253868213952247]}]}, {\"name\": \"f1_score_macro\", \"run_id\": \"AutoML_8654528d-254c-42ff-9c19-f36daff00d1f\", \"categories\": [0], \"series\": [{\"data\": [0.8356416031416032]}]}, {\"name\": \"AUC_macro\", \"run_id\": \"AutoML_8654528d-254c-42ff-9c19-f36daff00d1f\", \"categories\": [0], \"series\": [{\"data\": [0.8954638477613267]}]}, {\"name\": \"f1_score_weighted\", \"run_id\": \"AutoML_8654528d-254c-42ff-9c19-f36daff00d1f\", \"categories\": [0], \"series\": [{\"data\": [0.8577191268191268]}]}, {\"name\": \"accuracy\", \"run_id\": \"AutoML_8654528d-254c-42ff-9c19-f36daff00d1f\", \"categories\": [0], \"series\": [{\"data\": [0.861861861861862]}]}, {\"name\": \"AUC_weighted\", \"run_id\": \"AutoML_8654528d-254c-42ff-9c19-f36daff00d1f\", \"categories\": [0], \"series\": [{\"data\": [0.8954638477613267]}]}, {\"name\": \"recall_score_micro\", \"run_id\": \"AutoML_8654528d-254c-42ff-9c19-f36daff00d1f\", \"categories\": [0], \"series\": [{\"data\": [0.861861861861862]}]}, {\"name\": \"average_precision_score_macro\", \"run_id\": \"AutoML_8654528d-254c-42ff-9c19-f36daff00d1f\", \"categories\": [0], \"series\": [{\"data\": [0.8902107859808899]}]}], \"run_logs\": \"\\nRun is completed.\", \"graph\": {}, \"widget_settings\": {\"childWidgetDisplay\": \"popup\", \"send_telemetry\": false, \"log_level\": \"INFO\", \"sdk_version\": \"1.19.0\"}, \"loading\": false}"
          },
          "metadata": {}
        },
        {
          "output_type": "stream",
          "name": "stdout",
          "text": [
            "\n",
            "\n",
            "****************************************************************************************************\n",
            "DATA GUARDRAILS: \n",
            "\n",
            "TYPE:         Class balancing detection\n",
            "STATUS:       PASSED\n",
            "DESCRIPTION:  Your inputs were analyzed, and all classes are balanced in your training data.\n",
            "              Learn more about imbalanced data: https://aka.ms/AutomatedMLImbalancedData\n",
            "\n",
            "****************************************************************************************************\n",
            "\n",
            "TYPE:         Missing feature values imputation\n",
            "STATUS:       PASSED\n",
            "DESCRIPTION:  No feature missing values were detected in the training data.\n",
            "              Learn more about missing value imputation: https://aka.ms/AutomatedMLFeaturization\n",
            "\n",
            "****************************************************************************************************\n",
            "\n",
            "TYPE:         High cardinality feature detection\n",
            "STATUS:       PASSED\n",
            "DESCRIPTION:  Your inputs were analyzed, and no high cardinality features were detected.\n",
            "              Learn more about high cardinality feature handling: https://aka.ms/AutomatedMLFeaturization\n",
            "\n",
            "****************************************************************************************************\n",
            "\n",
            "****************************************************************************************************\n",
            "ITERATION: The iteration being evaluated.\n",
            "PIPELINE: A summary description of the pipeline being evaluated.\n",
            "DURATION: Time taken for the current iteration.\n",
            "METRIC: The result of computing score on the fitted pipeline.\n",
            "BEST: The best observed score thus far.\n",
            "****************************************************************************************************\n",
            "\n",
            " ITERATION   PIPELINE                                       DURATION      METRIC      BEST\n",
            "         0   MaxAbsScaler LightGBM                          0:00:53       0.8081    0.8081\n",
            "         1   MaxAbsScaler XGBoostClassifier                 0:00:44       0.8306    0.8306\n",
            "         2   MinMaxScaler RandomForest                      0:00:50       0.7992    0.8306\n",
            "         3   MinMaxScaler RandomForest                      0:00:49       0.8350    0.8350\n",
            "         4   MinMaxScaler RandomForest                      0:00:48       0.8260    0.8350\n",
            "         5   MinMaxScaler LightGBM                          0:01:59       0.8262    0.8350\n",
            "         6   SparseNormalizer XGBoostClassifier             0:02:01       0.8351    0.8351\n",
            "         7   MinMaxScaler SVM                               0:01:49       0.6965    0.8351\n",
            "        10   StandardScalerWrapper RandomForest             0:00:42       0.8305    0.8351\n",
            "        11   MaxAbsScaler ExtremeRandomTrees                0:00:48       0.8172    0.8351\n",
            "         8   SparseNormalizer XGBoostClassifier             0:00:54       0.8351    0.8351\n",
            "         9   MaxAbsScaler GradientBoosting                  0:00:43       0.8350    0.8351\n",
            "        12   StandardScalerWrapper LightGBM                 0:00:46       0.8351    0.8351\n",
            "        13   SparseNormalizer XGBoostClassifier             0:00:43       0.8306    0.8351\n",
            "        14   StandardScalerWrapper LightGBM                 0:00:41       0.7903    0.8351\n",
            "        15   MinMaxScaler LightGBM                          0:00:46       0.7948    0.8351\n",
            "        16   MaxAbsScaler LightGBM                          0:00:46       0.8038    0.8351\n",
            "        17   MinMaxScaler LightGBM                          0:00:36       0.8352    0.8352\n",
            "        18   SparseNormalizer XGBoostClassifier             0:00:45       0.8128    0.8352\n",
            "        19   StandardScalerWrapper LightGBM                 0:00:40       0.8396    0.8396\n",
            "        20   MaxAbsScaler LightGBM                          0:00:39       0.8441    0.8441\n",
            "        21   RobustScaler LightGBM                          0:00:50       0.8351    0.8441\n",
            "        22   MaxAbsScaler ExtremeRandomTrees                0:00:43       0.8396    0.8441\n",
            "        23   MaxAbsScaler LightGBM                          0:00:38       0.7009    0.8441\n",
            "        24   MinMaxScaler LightGBM                          0:00:35       0.8080    0.8441\n",
            "        25   SparseNormalizer LightGBM                      0:00:43       0.6696    0.8441\n",
            "        26   MinMaxScaler LightGBM                          0:00:40       0.7635    0.8441\n",
            "        27   MinMaxScaler LightGBM                          0:00:37       0.8396    0.8441\n",
            "        28   StandardScalerWrapper XGBoostClassifier        0:00:46       0.8305    0.8441\n",
            "        29   RobustScaler RandomForest                      0:00:44       0.8394    0.8441\n",
            "        30   RobustScaler LightGBM                          0:00:43       0.8396    0.8441\n",
            "        31   RobustScaler LightGBM                          0:00:37       0.7680    0.8441\n",
            "        32   SparseNormalizer XGBoostClassifier             0:00:43       0.8216    0.8441\n",
            "        33   SparseNormalizer LightGBM                      0:00:41       0.8172    0.8441\n",
            "        34   SparseNormalizer LightGBM                      0:00:47       0.8261    0.8441\n",
            "        35   MaxAbsScaler LightGBM                          0:00:40       0.7724    0.8441\n",
            "        36   StandardScalerWrapper XGBoostClassifier        0:00:29       0.8172    0.8441\n",
            "        37    VotingEnsemble                                0:01:15       0.8619    0.8619\n",
            "        38    StackEnsemble                                 0:01:07       0.8396    0.8619\n"
          ]
        },
        {
          "output_type": "execute_result",
          "execution_count": 6,
          "data": {
            "text/plain": "{'runId': 'AutoML_8654528d-254c-42ff-9c19-f36daff00d1f',\n 'target': 'final-compute',\n 'status': 'Completed',\n 'startTimeUtc': '2021-01-19T10:15:28.024231Z',\n 'endTimeUtc': '2021-01-19T10:33:19.579228Z',\n 'properties': {'num_iterations': '1000',\n  'training_type': 'TrainFull',\n  'acquisition_function': 'EI',\n  'primary_metric': 'accuracy',\n  'train_split': '0',\n  'acquisition_parameter': '0',\n  'num_cross_validation': '3',\n  'target': 'final-compute',\n  'AMLSettingsJsonString': '{\"path\":null,\"name\":\"capstoneproject\",\"subscription_id\":\"610d6e37-4747-4a20-80eb-3aad70a55f43\",\"resource_group\":\"aml-quickstarts-135328\",\"workspace_name\":\"quick-starts-ws-135328\",\"region\":\"southcentralus\",\"compute_target\":\"final-compute\",\"spark_service\":null,\"azure_service\":\"remote\",\"many_models\":false,\"pipeline_fetch_max_batch_size\":1,\"iterations\":1000,\"primary_metric\":\"accuracy\",\"task_type\":\"classification\",\"data_script\":null,\"validation_size\":0.0,\"n_cross_validations\":3,\"y_min\":null,\"y_max\":null,\"num_classes\":null,\"featurization\":\"auto\",\"_ignore_package_version_incompatibilities\":false,\"is_timeseries\":false,\"max_cores_per_iteration\":1,\"max_concurrent_iterations\":4,\"iteration_timeout_minutes\":null,\"mem_in_mb\":null,\"enforce_time_on_windows\":false,\"experiment_timeout_minutes\":30,\"experiment_exit_score\":null,\"whitelist_models\":null,\"blacklist_algos\":[\"TensorFlowLinearClassifier\",\"TensorFlowDNN\"],\"supported_models\":[\"XGBoostClassifier\",\"KNN\",\"LinearSVM\",\"DecisionTree\",\"MultinomialNaiveBayes\",\"AveragedPerceptronClassifier\",\"TensorFlowDNN\",\"RandomForest\",\"SVM\",\"LogisticRegression\",\"SGD\",\"TensorFlowLinearClassifier\",\"BernoulliNaiveBayes\",\"ExtremeRandomTrees\",\"LightGBM\",\"GradientBoosting\"],\"auto_blacklist\":true,\"blacklist_samples_reached\":false,\"exclude_nan_labels\":true,\"verbosity\":20,\"_debug_log\":\"azureml_automl.log\",\"show_warnings\":false,\"model_explainability\":true,\"service_url\":null,\"sdk_url\":null,\"sdk_packages\":null,\"enable_onnx_compatible_models\":false,\"enable_split_onnx_featurizer_estimator_models\":false,\"vm_type\":\"STANDARD_DS3_V2\",\"telemetry_verbosity\":20,\"send_telemetry\":true,\"enable_dnn\":false,\"scenario\":\"SDK-1.13.0\",\"environment_label\":null,\"force_text_dnn\":false,\"enable_feature_sweeping\":true,\"enable_early_stopping\":true,\"early_stopping_n_iters\":10,\"metrics\":null,\"enable_ensembling\":true,\"enable_stack_ensembling\":true,\"ensemble_iterations\":15,\"enable_tf\":false,\"enable_subsampling\":null,\"subsample_seed\":null,\"enable_nimbusml\":false,\"enable_streaming\":false,\"force_streaming\":false,\"track_child_runs\":true,\"allowed_private_models\":[],\"label_column_name\":\"DEATH_EVENT\",\"weight_column_name\":null,\"cv_split_column_names\":null,\"enable_local_managed\":false,\"_local_managed_run_id\":null,\"cost_mode\":1,\"lag_length\":0,\"metric_operation\":\"maximize\",\"preprocess\":true}',\n  'DataPrepJsonString': '{\\\\\"training_data\\\\\": \\\\\"{\\\\\\\\\\\\\"blocks\\\\\\\\\\\\\": [{\\\\\\\\\\\\\"id\\\\\\\\\\\\\": \\\\\\\\\\\\\"c74b914f-ae52-49d6-9adb-bc62bf6c2255\\\\\\\\\\\\\", \\\\\\\\\\\\\"type\\\\\\\\\\\\\": \\\\\\\\\\\\\"Microsoft.DPrep.GetDatastoreFilesBlock\\\\\\\\\\\\\", \\\\\\\\\\\\\"arguments\\\\\\\\\\\\\": {\\\\\\\\\\\\\"datastores\\\\\\\\\\\\\": [{\\\\\\\\\\\\\"datastoreName\\\\\\\\\\\\\": \\\\\\\\\\\\\"workspaceblobstore\\\\\\\\\\\\\", \\\\\\\\\\\\\"path\\\\\\\\\\\\\": \\\\\\\\\\\\\"train.csv\\\\\\\\\\\\\", \\\\\\\\\\\\\"resourceGroup\\\\\\\\\\\\\": \\\\\\\\\\\\\"aml-quickstarts-135328\\\\\\\\\\\\\", \\\\\\\\\\\\\"subscription\\\\\\\\\\\\\": \\\\\\\\\\\\\"610d6e37-4747-4a20-80eb-3aad70a55f43\\\\\\\\\\\\\", \\\\\\\\\\\\\"workspaceName\\\\\\\\\\\\\": \\\\\\\\\\\\\"quick-starts-ws-135328\\\\\\\\\\\\\"}]}, \\\\\\\\\\\\\"localData\\\\\\\\\\\\\": {}, \\\\\\\\\\\\\"isEnabled\\\\\\\\\\\\\": true, \\\\\\\\\\\\\"name\\\\\\\\\\\\\": null, \\\\\\\\\\\\\"annotation\\\\\\\\\\\\\": null}, {\\\\\\\\\\\\\"id\\\\\\\\\\\\\": \\\\\\\\\\\\\"adda1c9d-be7c-4425-b1b3-1834aad5f409\\\\\\\\\\\\\", \\\\\\\\\\\\\"type\\\\\\\\\\\\\": \\\\\\\\\\\\\"Microsoft.DPrep.ParseDelimitedBlock\\\\\\\\\\\\\", \\\\\\\\\\\\\"arguments\\\\\\\\\\\\\": {\\\\\\\\\\\\\"columnHeadersMode\\\\\\\\\\\\\": 3, \\\\\\\\\\\\\"fileEncoding\\\\\\\\\\\\\": 0, \\\\\\\\\\\\\"handleQuotedLineBreaks\\\\\\\\\\\\\": false, \\\\\\\\\\\\\"preview\\\\\\\\\\\\\": false, \\\\\\\\\\\\\"separator\\\\\\\\\\\\\": \\\\\\\\\\\\\",\\\\\\\\\\\\\", \\\\\\\\\\\\\"skipRows\\\\\\\\\\\\\": 0, \\\\\\\\\\\\\"skipRowsMode\\\\\\\\\\\\\": 0}, \\\\\\\\\\\\\"localData\\\\\\\\\\\\\": {}, \\\\\\\\\\\\\"isEnabled\\\\\\\\\\\\\": true, \\\\\\\\\\\\\"name\\\\\\\\\\\\\": null, \\\\\\\\\\\\\"annotation\\\\\\\\\\\\\": null}, {\\\\\\\\\\\\\"id\\\\\\\\\\\\\": \\\\\\\\\\\\\"1c1dd805-cb5f-4640-bbd6-3f2f9aa820d9\\\\\\\\\\\\\", \\\\\\\\\\\\\"type\\\\\\\\\\\\\": \\\\\\\\\\\\\"Microsoft.DPrep.DropColumnsBlock\\\\\\\\\\\\\", \\\\\\\\\\\\\"arguments\\\\\\\\\\\\\": {\\\\\\\\\\\\\"columns\\\\\\\\\\\\\": {\\\\\\\\\\\\\"type\\\\\\\\\\\\\": 0, \\\\\\\\\\\\\"details\\\\\\\\\\\\\": {\\\\\\\\\\\\\"selectedColumns\\\\\\\\\\\\\": [\\\\\\\\\\\\\"Path\\\\\\\\\\\\\"]}}}, \\\\\\\\\\\\\"localData\\\\\\\\\\\\\": {}, \\\\\\\\\\\\\"isEnabled\\\\\\\\\\\\\": true, \\\\\\\\\\\\\"name\\\\\\\\\\\\\": null, \\\\\\\\\\\\\"annotation\\\\\\\\\\\\\": null}, {\\\\\\\\\\\\\"id\\\\\\\\\\\\\": \\\\\\\\\\\\\"60dac0fb-e164-49fe-9721-f38ff0e5b9e9\\\\\\\\\\\\\", \\\\\\\\\\\\\"type\\\\\\\\\\\\\": \\\\\\\\\\\\\"Microsoft.DPrep.SetColumnTypesBlock\\\\\\\\\\\\\", \\\\\\\\\\\\\"arguments\\\\\\\\\\\\\": {\\\\\\\\\\\\\"columnConversion\\\\\\\\\\\\\": [{\\\\\\\\\\\\\"column\\\\\\\\\\\\\": {\\\\\\\\\\\\\"type\\\\\\\\\\\\\": 2, \\\\\\\\\\\\\"details\\\\\\\\\\\\\": {\\\\\\\\\\\\\"selectedColumn\\\\\\\\\\\\\": \\\\\\\\\\\\\"age\\\\\\\\\\\\\"}}, \\\\\\\\\\\\\"typeProperty\\\\\\\\\\\\\": 3}, {\\\\\\\\\\\\\"column\\\\\\\\\\\\\": {\\\\\\\\\\\\\"type\\\\\\\\\\\\\": 2, \\\\\\\\\\\\\"details\\\\\\\\\\\\\": {\\\\\\\\\\\\\"selectedColumn\\\\\\\\\\\\\": \\\\\\\\\\\\\"anaemia\\\\\\\\\\\\\"}}, \\\\\\\\\\\\\"typeProperty\\\\\\\\\\\\\": 2}, {\\\\\\\\\\\\\"column\\\\\\\\\\\\\": {\\\\\\\\\\\\\"type\\\\\\\\\\\\\": 2, \\\\\\\\\\\\\"details\\\\\\\\\\\\\": {\\\\\\\\\\\\\"selectedColumn\\\\\\\\\\\\\": \\\\\\\\\\\\\"creatinine_phosphokinase\\\\\\\\\\\\\"}}, \\\\\\\\\\\\\"typeProperty\\\\\\\\\\\\\": 2}, {\\\\\\\\\\\\\"column\\\\\\\\\\\\\": {\\\\\\\\\\\\\"type\\\\\\\\\\\\\": 2, \\\\\\\\\\\\\"details\\\\\\\\\\\\\": {\\\\\\\\\\\\\"selectedColumn\\\\\\\\\\\\\": \\\\\\\\\\\\\"diabetes\\\\\\\\\\\\\"}}, \\\\\\\\\\\\\"typeProperty\\\\\\\\\\\\\": 2}, {\\\\\\\\\\\\\"column\\\\\\\\\\\\\": {\\\\\\\\\\\\\"type\\\\\\\\\\\\\": 2, \\\\\\\\\\\\\"details\\\\\\\\\\\\\": {\\\\\\\\\\\\\"selectedColumn\\\\\\\\\\\\\": \\\\\\\\\\\\\"ejection_fraction\\\\\\\\\\\\\"}}, \\\\\\\\\\\\\"typeProperty\\\\\\\\\\\\\": 2}, {\\\\\\\\\\\\\"column\\\\\\\\\\\\\": {\\\\\\\\\\\\\"type\\\\\\\\\\\\\": 2, \\\\\\\\\\\\\"details\\\\\\\\\\\\\": {\\\\\\\\\\\\\"selectedColumn\\\\\\\\\\\\\": \\\\\\\\\\\\\"high_blood_pressure\\\\\\\\\\\\\"}}, \\\\\\\\\\\\\"typeProperty\\\\\\\\\\\\\": 2}, {\\\\\\\\\\\\\"column\\\\\\\\\\\\\": {\\\\\\\\\\\\\"type\\\\\\\\\\\\\": 2, \\\\\\\\\\\\\"details\\\\\\\\\\\\\": {\\\\\\\\\\\\\"selectedColumn\\\\\\\\\\\\\": \\\\\\\\\\\\\"platelets\\\\\\\\\\\\\"}}, \\\\\\\\\\\\\"typeProperty\\\\\\\\\\\\\": 3}, {\\\\\\\\\\\\\"column\\\\\\\\\\\\\": {\\\\\\\\\\\\\"type\\\\\\\\\\\\\": 2, \\\\\\\\\\\\\"details\\\\\\\\\\\\\": {\\\\\\\\\\\\\"selectedColumn\\\\\\\\\\\\\": \\\\\\\\\\\\\"serum_creatinine\\\\\\\\\\\\\"}}, \\\\\\\\\\\\\"typeProperty\\\\\\\\\\\\\": 3}, {\\\\\\\\\\\\\"column\\\\\\\\\\\\\": {\\\\\\\\\\\\\"type\\\\\\\\\\\\\": 2, \\\\\\\\\\\\\"details\\\\\\\\\\\\\": {\\\\\\\\\\\\\"selectedColumn\\\\\\\\\\\\\": \\\\\\\\\\\\\"serum_sodium\\\\\\\\\\\\\"}}, \\\\\\\\\\\\\"typeProperty\\\\\\\\\\\\\": 2}, {\\\\\\\\\\\\\"column\\\\\\\\\\\\\": {\\\\\\\\\\\\\"type\\\\\\\\\\\\\": 2, \\\\\\\\\\\\\"details\\\\\\\\\\\\\": {\\\\\\\\\\\\\"selectedColumn\\\\\\\\\\\\\": \\\\\\\\\\\\\"sex\\\\\\\\\\\\\"}}, \\\\\\\\\\\\\"typeProperty\\\\\\\\\\\\\": 2}, {\\\\\\\\\\\\\"column\\\\\\\\\\\\\": {\\\\\\\\\\\\\"type\\\\\\\\\\\\\": 2, \\\\\\\\\\\\\"details\\\\\\\\\\\\\": {\\\\\\\\\\\\\"selectedColumn\\\\\\\\\\\\\": \\\\\\\\\\\\\"smoking\\\\\\\\\\\\\"}}, \\\\\\\\\\\\\"typeProperty\\\\\\\\\\\\\": 2}, {\\\\\\\\\\\\\"column\\\\\\\\\\\\\": {\\\\\\\\\\\\\"type\\\\\\\\\\\\\": 2, \\\\\\\\\\\\\"details\\\\\\\\\\\\\": {\\\\\\\\\\\\\"selectedColumn\\\\\\\\\\\\\": \\\\\\\\\\\\\"time\\\\\\\\\\\\\"}}, \\\\\\\\\\\\\"typeProperty\\\\\\\\\\\\\": 2}, {\\\\\\\\\\\\\"column\\\\\\\\\\\\\": {\\\\\\\\\\\\\"type\\\\\\\\\\\\\": 2, \\\\\\\\\\\\\"details\\\\\\\\\\\\\": {\\\\\\\\\\\\\"selectedColumn\\\\\\\\\\\\\": \\\\\\\\\\\\\"DEATH_EVENT\\\\\\\\\\\\\"}}, \\\\\\\\\\\\\"typeProperty\\\\\\\\\\\\\": 2}]}, \\\\\\\\\\\\\"localData\\\\\\\\\\\\\": {}, \\\\\\\\\\\\\"isEnabled\\\\\\\\\\\\\": true, \\\\\\\\\\\\\"name\\\\\\\\\\\\\": null, \\\\\\\\\\\\\"annotation\\\\\\\\\\\\\": null}], \\\\\\\\\\\\\"inspectors\\\\\\\\\\\\\": [], \\\\\\\\\\\\\"meta\\\\\\\\\\\\\": {\\\\\\\\\\\\\"savedDatasetId\\\\\\\\\\\\\": \\\\\\\\\\\\\"89eb3079-6ba2-4829-9107-dcbfabc4be97\\\\\\\\\\\\\", \\\\\\\\\\\\\"datasetType\\\\\\\\\\\\\": \\\\\\\\\\\\\"tabular\\\\\\\\\\\\\", \\\\\\\\\\\\\"subscriptionId\\\\\\\\\\\\\": \\\\\\\\\\\\\"610d6e37-4747-4a20-80eb-3aad70a55f43\\\\\\\\\\\\\", \\\\\\\\\\\\\"workspaceId\\\\\\\\\\\\\": \\\\\\\\\\\\\"4613c3bf-b4e3-4738-a200-a497507bbe81\\\\\\\\\\\\\", \\\\\\\\\\\\\"workspaceLocation\\\\\\\\\\\\\": \\\\\\\\\\\\\"southcentralus\\\\\\\\\\\\\"}}\\\\\", \\\\\"activities\\\\\": 0}',\n  'EnableSubsampling': None,\n  'runTemplate': 'AutoML',\n  'azureml.runsource': 'automl',\n  'display_task_type': 'classification',\n  'dependencies_versions': '{\"azureml-widgets\": \"1.19.0\", \"azureml-train\": \"1.19.0\", \"azureml-train-restclients-hyperdrive\": \"1.19.0\", \"azureml-train-core\": \"1.19.0\", \"azureml-train-automl\": \"1.19.0\", \"azureml-train-automl-runtime\": \"1.19.0\", \"azureml-train-automl-client\": \"1.19.0\", \"azureml-tensorboard\": \"1.19.0\", \"azureml-telemetry\": \"1.19.0\", \"azureml-sdk\": \"1.19.0\", \"azureml-samples\": \"0+unknown\", \"azureml-pipeline\": \"1.19.0\", \"azureml-pipeline-steps\": \"1.19.0\", \"azureml-pipeline-core\": \"1.19.0\", \"azureml-opendatasets\": \"1.19.0\", \"azureml-model-management-sdk\": \"1.0.1b6.post1\", \"azureml-mlflow\": \"1.19.0\", \"azureml-interpret\": \"1.19.0\", \"azureml-explain-model\": \"1.19.0\", \"azureml-defaults\": \"1.19.0\", \"azureml-dataset-runtime\": \"1.19.0.post1\", \"azureml-dataprep\": \"2.6.1\", \"azureml-dataprep-rslex\": \"1.4.0\", \"azureml-dataprep-native\": \"26.0.0\", \"azureml-datadrift\": \"1.19.0\", \"azureml-core\": \"1.19.0\", \"azureml-contrib-services\": \"1.19.0\", \"azureml-contrib-server\": \"1.19.0\", \"azureml-contrib-reinforcementlearning\": \"1.19.0\", \"azureml-contrib-pipeline-steps\": \"1.19.0\", \"azureml-contrib-notebook\": \"1.19.0\", \"azureml-contrib-interpret\": \"1.19.0\", \"azureml-contrib-gbdt\": \"1.19.0\", \"azureml-contrib-fairness\": \"1.19.0\", \"azureml-contrib-dataset\": \"1.19.0\", \"azureml-cli-common\": \"1.19.0\", \"azureml-automl-runtime\": \"1.19.0\", \"azureml-automl-core\": \"1.19.0\", \"azureml-accel-models\": \"1.19.0\"}',\n  '_aml_system_scenario_identification': 'Remote.Parent',\n  'ClientType': 'SDK',\n  'environment_cpu_name': 'AzureML-AutoML',\n  'environment_cpu_label': 'prod',\n  'environment_gpu_name': 'AzureML-AutoML-GPU',\n  'environment_gpu_label': 'prod',\n  'root_attribution': 'automl',\n  'attribution': 'AutoML',\n  'Orchestrator': 'AutoML',\n  'CancelUri': 'https://southcentralus.experiments.azureml.net/jasmine/v1.0/subscriptions/610d6e37-4747-4a20-80eb-3aad70a55f43/resourceGroups/aml-quickstarts-135328/providers/Microsoft.MachineLearningServices/workspaces/quick-starts-ws-135328/experimentids/20841130-7cd5-4359-af01-23edea705243/cancel/AutoML_8654528d-254c-42ff-9c19-f36daff00d1f',\n  'ClientSdkVersion': '1.20.0',\n  'snapshotId': '00000000-0000-0000-0000-000000000000',\n  'SetupRunId': 'AutoML_8654528d-254c-42ff-9c19-f36daff00d1f_setup',\n  'SetupRunContainerId': 'dcid.AutoML_8654528d-254c-42ff-9c19-f36daff00d1f_setup',\n  'FeaturizationRunJsonPath': 'featurizer_container.json',\n  'FeaturizationRunId': 'AutoML_8654528d-254c-42ff-9c19-f36daff00d1f_featurize',\n  'ProblemInfoJsonString': '{\"dataset_num_categorical\": 0, \"is_sparse\": false, \"subsampling\": false, \"dataset_classes\": 2, \"dataset_features\": 12, \"dataset_samples\": 224, \"single_frequency_class_detected\": false}',\n  'ModelExplainRunId': 'AutoML_8654528d-254c-42ff-9c19-f36daff00d1f_ModelExplain'},\n 'inputDatasets': [{'dataset': {'id': '89eb3079-6ba2-4829-9107-dcbfabc4be97'}, 'consumptionDetails': {'type': 'RunInput', 'inputName': 'training_data', 'mechanism': 'Direct'}}],\n 'outputDatasets': [],\n 'logFiles': {}}"
          },
          "metadata": {}
        }
      ],
      "execution_count": 6,
      "metadata": {
        "gather": {
          "logged": 1611052589220
        },
        "jupyter": {
          "outputs_hidden": false,
          "source_hidden": false
        },
        "nteract": {
          "transient": {
            "deleting": false
          }
        }
      }
    },
    {
      "cell_type": "markdown",
      "source": [
        "## Best Model\n",
        "\n",
        "TODO: In the cell below, get the best model from the automl experiments and display all the properties of the model.\n",
        "\n"
      ],
      "metadata": {}
    },
    {
      "cell_type": "code",
      "source": [
        "best_run, model = remote_run.get_output()\n",
        "print(best_run)\n",
        "print(model)\n",
        "best_run.get_tags()\n",
        "best_run_metrics = best_run.get_metrics()\n",
        "for metric_name in best_run_metrics:\n",
        "    metric = best_run_metrics[metric_name]\n",
        "    print(metric_name, metric)"
      ],
      "outputs": [
        {
          "output_type": "stream",
          "name": "stderr",
          "text": [
            "WARNING:root:The version of the SDK does not match the version the model was trained on.\n",
            "WARNING:root:The consistency in the result may not be guaranteed.\n",
            "WARNING:root:Package:azureml-automl-core, training version:1.20.0, current version:1.19.0\n",
            "Package:azureml-automl-runtime, training version:1.20.0, current version:1.19.0\n",
            "Package:azureml-core, training version:1.20.0, current version:1.19.0\n",
            "Package:azureml-dataprep, training version:2.7.2, current version:2.6.1\n",
            "Package:azureml-dataprep-native, training version:27.0.0, current version:26.0.0\n",
            "Package:azureml-dataprep-rslex, training version:1.5.0, current version:1.4.0\n",
            "Package:azureml-dataset-runtime, training version:1.20.0, current version:1.19.0.post1\n",
            "Package:azureml-defaults, training version:1.20.0, current version:1.19.0\n",
            "Package:azureml-interpret, training version:1.20.0, current version:1.19.0\n",
            "Package:azureml-pipeline-core, training version:1.20.0, current version:1.19.0\n",
            "Package:azureml-telemetry, training version:1.20.0, current version:1.19.0\n",
            "Package:azureml-train-automl-client, training version:1.20.0, current version:1.19.0\n",
            "Package:azureml-train-automl-runtime, training version:1.20.0, current version:1.19.0\n",
            "WARNING:root:Please ensure the version of your local conda dependencies match the version on which your model was trained in order to properly retrieve your model.\n"
          ]
        },
        {
          "output_type": "stream",
          "name": "stdout",
          "text": [
            "Run(Experiment: capstoneproject,\n",
            "Id: AutoML_8654528d-254c-42ff-9c19-f36daff00d1f_37,\n",
            "Type: azureml.scriptrun,\n",
            "Status: Completed)\n",
            "Pipeline(memory=None,\n",
            "         steps=[('datatransformer',\n",
            "                 DataTransformer(enable_dnn=None, enable_feature_sweeping=None,\n",
            "                                 feature_sweeping_config=None,\n",
            "                                 feature_sweeping_timeout=None,\n",
            "                                 featurization_config=None, force_text_dnn=None,\n",
            "                                 is_cross_validation=None,\n",
            "                                 is_onnx_compatible=None, logger=None,\n",
            "                                 observer=None, task=None, working_dir=None)),\n",
            "                ('prefittedsoftvotingclassifier',...\n",
            "                                                                                               random_state=0,\n",
            "                                                                                               reg_alpha=2.0833333333333335,\n",
            "                                                                                               reg_lambda=1.0416666666666667,\n",
            "                                                                                               scale_pos_weight=1,\n",
            "                                                                                               seed=None,\n",
            "                                                                                               silent=None,\n",
            "                                                                                               subsample=0.9,\n",
            "                                                                                               tree_method='hist',\n",
            "                                                                                               verbose=-10,\n",
            "                                                                                               verbosity=0))],\n",
            "                                                                     verbose=False))],\n",
            "                                               flatten_transform=None,\n",
            "                                               weights=[0.14285714285714285,\n",
            "                                                        0.14285714285714285,\n",
            "                                                        0.14285714285714285,\n",
            "                                                        0.14285714285714285,\n",
            "                                                        0.14285714285714285,\n",
            "                                                        0.2857142857142857]))],\n",
            "         verbose=False)\n",
            "recall_score_micro 0.861861861861862\n",
            "average_precision_score_macro 0.8902107859808899\n",
            "recall_score_weighted 0.861861861861862\n",
            "AUC_weighted 0.8954638477613267\n",
            "precision_score_micro 0.861861861861862\n",
            "average_precision_score_weighted 0.9086754935678973\n",
            "log_loss 0.40371404625988344\n",
            "f1_score_weighted 0.8577191268191268\n",
            "balanced_accuracy 0.8253868213952247\n",
            "accuracy 0.861861861861862\n",
            "AUC_micro 0.9020355923491058\n",
            "AUC_macro 0.8954638477613267\n",
            "matthews_correlation 0.6918649250264354\n",
            "norm_macro_recall 0.6507736427904495\n",
            "weighted_accuracy 0.8909394218732998\n",
            "precision_score_macro 0.8706904915958744\n",
            "f1_score_micro 0.861861861861862\n",
            "precision_score_weighted 0.8722476952207959\n",
            "recall_score_macro 0.8253868213952247\n",
            "average_precision_score_micro 0.9040604195422377\n",
            "f1_score_macro 0.8356416031416032\n",
            "confusion_matrix aml://artifactId/ExperimentRun/dcid.AutoML_8654528d-254c-42ff-9c19-f36daff00d1f_37/confusion_matrix\n",
            "accuracy_table aml://artifactId/ExperimentRun/dcid.AutoML_8654528d-254c-42ff-9c19-f36daff00d1f_37/accuracy_table\n"
          ]
        }
      ],
      "execution_count": 7,
      "metadata": {
        "gather": {
          "logged": 1611052620675
        },
        "jupyter": {
          "outputs_hidden": false,
          "source_hidden": false
        },
        "nteract": {
          "transient": {
            "deleting": false
          }
        }
      }
    },
    {
      "cell_type": "code",
      "source": [
        "best_run_metrics"
      ],
      "outputs": [
        {
          "output_type": "execute_result",
          "execution_count": 8,
          "data": {
            "text/plain": "{'recall_score_micro': 0.861861861861862,\n 'average_precision_score_macro': 0.8902107859808899,\n 'recall_score_weighted': 0.861861861861862,\n 'AUC_weighted': 0.8954638477613267,\n 'precision_score_micro': 0.861861861861862,\n 'average_precision_score_weighted': 0.9086754935678973,\n 'log_loss': 0.40371404625988344,\n 'f1_score_weighted': 0.8577191268191268,\n 'balanced_accuracy': 0.8253868213952247,\n 'accuracy': 0.861861861861862,\n 'AUC_micro': 0.9020355923491058,\n 'AUC_macro': 0.8954638477613267,\n 'matthews_correlation': 0.6918649250264354,\n 'norm_macro_recall': 0.6507736427904495,\n 'weighted_accuracy': 0.8909394218732998,\n 'precision_score_macro': 0.8706904915958744,\n 'f1_score_micro': 0.861861861861862,\n 'precision_score_weighted': 0.8722476952207959,\n 'recall_score_macro': 0.8253868213952247,\n 'average_precision_score_micro': 0.9040604195422377,\n 'f1_score_macro': 0.8356416031416032,\n 'confusion_matrix': 'aml://artifactId/ExperimentRun/dcid.AutoML_8654528d-254c-42ff-9c19-f36daff00d1f_37/confusion_matrix',\n 'accuracy_table': 'aml://artifactId/ExperimentRun/dcid.AutoML_8654528d-254c-42ff-9c19-f36daff00d1f_37/accuracy_table'}"
          },
          "metadata": {}
        }
      ],
      "execution_count": 8,
      "metadata": {
        "collapsed": true,
        "jupyter": {
          "source_hidden": false,
          "outputs_hidden": false
        },
        "nteract": {
          "transient": {
            "deleting": false
          }
        },
        "gather": {
          "logged": 1611052625148
        }
      }
    },
    {
      "cell_type": "markdown",
      "source": [
        "## Model Deployment\n",
        "\n",
        "Remember you have to deploy only one of the two models you trained.. Perform the steps in the rest of this notebook only if you wish to deploy this model.\n",
        "\n",
        "TODO: In the cell below, register the model, create an inference config and deploy the model as a web service."
      ],
      "metadata": {}
    },
    {
      "cell_type": "code",
      "source": [
        "#TODO: Save the best model\n",
        "from azureml.core import Model\n",
        "\n",
        "# Register model\n",
        "best_run.register_model(model_path='outputs/model.pkl', model_name='automl_model',\n",
        "                        tags={'Training context':'Auto ML'},\n",
        "                        properties={'AUC': best_run_metrics['AUC_weighted'], 'Accuracy': best_run_metrics['accuracy']})\n",
        "\n",
        "# List registered models\n",
        "for model in Model.list(ws):\n",
        "    print(model.name, 'version:', model.version)\n",
        "    for tag_name in model.tags:\n",
        "        tag = model.tags[tag_name]\n",
        "        print ('\\t',tag_name, ':', tag)\n",
        "    for prop_name in model.properties:\n",
        "        prop = model.properties[prop_name]\n",
        "        print ('\\t',prop_name, ':', prop)\n",
        "    print('\\n')"
      ],
      "outputs": [
        {
          "output_type": "stream",
          "name": "stdout",
          "text": [
            "automl_model version: 1\n",
            "\t Training context : Auto ML\n",
            "\t AUC : 0.8954638477613267\n",
            "\t Accuracy : 0.861861861861862\n",
            "\n",
            "\n"
          ]
        }
      ],
      "execution_count": 9,
      "metadata": {
        "gather": {
          "logged": 1611052636995
        }
      }
    },
    {
      "cell_type": "code",
      "source": [
        "from azureml.automl.core.shared import constants\n",
        "best_run.download_file(constants.CONDA_ENV_FILE_PATH, 'myenv.yml')"
      ],
      "outputs": [],
      "execution_count": 10,
      "metadata": {
        "collapsed": true,
        "jupyter": {
          "source_hidden": false,
          "outputs_hidden": false
        },
        "nteract": {
          "transient": {
            "deleting": false
          }
        },
        "gather": {
          "logged": 1611052683730
        }
      }
    },
    {
      "cell_type": "code",
      "source": [
        "# create inference_config\r\n",
        "from azureml.core.model import InferenceConfig\r\n",
        "from azureml.core.environment import Environment\r\n",
        "\r\n",
        "inference_config = InferenceConfig(entry_script=\"scoring.py\",environment=myenv)"
      ],
      "outputs": [],
      "execution_count": null,
      "metadata": {
        "collapsed": true,
        "jupyter": {
          "source_hidden": false,
          "outputs_hidden": false
        },
        "nteract": {
          "transient": {
            "deleting": false
          }
        },
        "gather": {
          "logged": 1611017292129
        }
      }
    },
    {
      "cell_type": "code",
      "source": [
        "from azureml.core.webservice import Webservice, AciWebservice\r\n",
        "deployment_config = AciWebservice.deploy_configuration(cpu_cores=1, memory_gb = 1)"
      ],
      "outputs": [],
      "execution_count": null,
      "metadata": {
        "collapsed": true,
        "jupyter": {
          "source_hidden": false,
          "outputs_hidden": false
        },
        "nteract": {
          "transient": {
            "deleting": false
          }
        },
        "gather": {
          "logged": 1611017295054
        }
      }
    },
    {
      "cell_type": "markdown",
      "source": [
        "TODO: In the cell below, send a request to the web service you deployed to test it."
      ],
      "metadata": {
        "collapsed": true,
        "gather": {
          "logged": 1598431657736
        },
        "jupyter": {
          "outputs_hidden": false,
          "source_hidden": false
        },
        "nteract": {
          "transient": {
            "deleting": false
          }
        }
      }
    },
    {
      "cell_type": "code",
      "source": [
        "#deploy the model\n",
        "service=Model.deploy(workspace=ws,\n",
        "                    name=\"heart-deploy-service\",\n",
        "                    models=[model],\n",
        "                    inference_config=inference_config,\n",
        "                    deployment_config=deployment_config)\n",
        "service.wait_for_deployment(show_output=True)"
      ],
      "outputs": [
        {
          "output_type": "stream",
          "name": "stdout",
          "text": [
            "Tips: You can try get_logs(): https://aka.ms/debugimage#dockerlog or local deployment: https://aka.ms/debugimage#debug-locally to debug if deployment takes longer than 10 minutes.\n",
            "Running..................................\n",
            "Succeeded\n",
            "ACI service creation operation finished, operation \"Succeeded\"\n"
          ]
        }
      ],
      "execution_count": 15,
      "metadata": {
        "gather": {
          "logged": 1611017492274
        },
        "jupyter": {
          "outputs_hidden": false,
          "source_hidden": false
        },
        "nteract": {
          "transient": {
            "deleting": false
          }
        }
      }
    },
    {
      "cell_type": "markdown",
      "source": [
        "TODO: In the cell below, print the logs of the web service and delete the service"
      ],
      "metadata": {
        "collapsed": true,
        "gather": {
          "logged": 1598432765711
        },
        "jupyter": {
          "outputs_hidden": false,
          "source_hidden": false
        },
        "nteract": {
          "transient": {
            "deleting": false
          }
        }
      }
    },
    {
      "cell_type": "code",
      "source": [
        "print(service.get_logs())"
      ],
      "outputs": [
        {
          "output_type": "stream",
          "name": "stdout",
          "text": [
            "2021-01-19T00:50:57,776027517+00:00 - rsyslog/run \n",
            "2021-01-19T00:50:57,776144220+00:00 - gunicorn/run \n",
            "2021-01-19T00:50:57,776145420+00:00 - iot-server/run \n",
            "2021-01-19T00:50:57,827470300+00:00 - nginx/run \n",
            "/usr/sbin/nginx: /azureml-envs/azureml_8eff28b157f42edcd2424a5aae6c8074/lib/libcrypto.so.1.0.0: no version information available (required by /usr/sbin/nginx)\n",
            "/usr/sbin/nginx: /azureml-envs/azureml_8eff28b157f42edcd2424a5aae6c8074/lib/libcrypto.so.1.0.0: no version information available (required by /usr/sbin/nginx)\n",
            "/usr/sbin/nginx: /azureml-envs/azureml_8eff28b157f42edcd2424a5aae6c8074/lib/libssl.so.1.0.0: no version information available (required by /usr/sbin/nginx)\n",
            "/usr/sbin/nginx: /azureml-envs/azureml_8eff28b157f42edcd2424a5aae6c8074/lib/libssl.so.1.0.0: no version information available (required by /usr/sbin/nginx)\n",
            "/usr/sbin/nginx: /azureml-envs/azureml_8eff28b157f42edcd2424a5aae6c8074/lib/libssl.so.1.0.0: no version information available (required by /usr/sbin/nginx)\n",
            "EdgeHubConnectionString and IOTEDGE_IOTHUBHOSTNAME are not set. Exiting...\n",
            "2021-01-19T00:50:58,030657961+00:00 - iot-server/finish 1 0\n",
            "2021-01-19T00:50:58,031916695+00:00 - Exit code 1 is normal. Not restarting iot-server.\n",
            "rsyslogd: /azureml-envs/azureml_8eff28b157f42edcd2424a5aae6c8074/lib/libuuid.so.1: no version information available (required by rsyslogd)\n",
            "Starting gunicorn 19.9.0\n",
            "Listening at: http://127.0.0.1:31311 (15)\n",
            "Using worker: sync\n",
            "worker timeout is set to 300\n",
            "Booting worker with pid: 43\n",
            "SPARK_HOME not set. Skipping PySpark Initialization.\n",
            "Initializing logger\n",
            "2021-01-19 00:50:58,889 | root | INFO | Starting up app insights client\n",
            "Starting up app insights client\n",
            "2021-01-19 00:50:58,889 | root | INFO | Starting up request id generator\n",
            "Starting up request id generator\n",
            "2021-01-19 00:50:58,889 | root | INFO | Starting up app insight hooks\n",
            "Starting up app insight hooks\n",
            "2021-01-19 00:50:58,889 | root | INFO | Invoking user's init function\n",
            "Invoking user's init function\n",
            "Generating new fontManager, this may take some time...\n",
            "2021-01-19 00:51:01,595 | root | INFO | Users's init has completed successfully\n",
            "Users's init has completed successfully\n",
            "2021-01-19 00:51:01,599 | root | INFO | Skipping middleware: dbg_model_info as it's not enabled.\n",
            "Skipping middleware: dbg_model_info as it's not enabled.\n",
            "2021-01-19 00:51:01,599 | root | INFO | Skipping middleware: dbg_resource_usage as it's not enabled.\n",
            "Skipping middleware: dbg_resource_usage as it's not enabled.\n",
            "2021-01-19 00:51:01,600 | root | INFO | Scoring timeout is found from os.environ: 60000 ms\n",
            "Scoring timeout is found from os.environ: 60000 ms\n",
            "2021-01-19 00:51:13,678 | root | INFO | Swagger file not present\n",
            "Swagger file not present\n",
            "2021-01-19 00:51:13,678 | root | INFO | 404\n",
            "404\n",
            "127.0.0.1 - - [19/Jan/2021:00:51:13 +0000] \"GET /swagger.json HTTP/1.0\" 404 19 \"-\" \"Go-http-client/1.1\"\n",
            "2021-01-19 00:51:31,958 | root | INFO | Swagger file not present\n",
            "Swagger file not present\n",
            "2021-01-19 00:51:31,958 | root | INFO | 404\n",
            "404\n",
            "127.0.0.1 - - [19/Jan/2021:00:51:31 +0000] \"GET /swagger.json HTTP/1.0\" 404 19 \"-\" \"Go-http-client/1.1\"\n",
            "\n"
          ]
        }
      ],
      "execution_count": 16,
      "metadata": {
        "jupyter": {
          "outputs_hidden": false,
          "source_hidden": false
        },
        "nteract": {
          "transient": {
            "deleting": false
          }
        },
        "gather": {
          "logged": 1611017521568
        }
      }
    },
    {
      "cell_type": "code",
      "source": [
        "scoring_uri = service.scoring_uri\n",
        "\n",
        "print(f'\\nservice state: {service.state}\\n')\n",
        "print(f'scoring URI: \\n{service.scoring_uri}\\n')\n",
        "print(f'swagger URI: \\n{service.swagger_uri}\\n')\n",
        "\n",
        "print(service.scoring_uri)\n",
        "print(service.swagger_uri)"
      ],
      "outputs": [
        {
          "output_type": "stream",
          "name": "stdout",
          "text": [
            "\n",
            "service state: Healthy\n",
            "\n",
            "scoring URI: \n",
            "http://ec7be877-6f29-47ac-aab9-cbdf6f72b95f.southcentralus.azurecontainer.io/score\n",
            "\n",
            "swagger URI: \n",
            "http://ec7be877-6f29-47ac-aab9-cbdf6f72b95f.southcentralus.azurecontainer.io/swagger.json\n",
            "\n",
            "http://ec7be877-6f29-47ac-aab9-cbdf6f72b95f.southcentralus.azurecontainer.io/score\n",
            "http://ec7be877-6f29-47ac-aab9-cbdf6f72b95f.southcentralus.azurecontainer.io/swagger.json\n"
          ]
        }
      ],
      "execution_count": 17,
      "metadata": {
        "gather": {
          "logged": 1611017525452
        }
      }
    },
    {
      "cell_type": "code",
      "source": [
        "import requests\n",
        "import json\n",
        "\n",
        "data={\"data\":\n",
        "  [{'age': 87.0,\n",
        "  'anaemia': 0,\n",
        "  'creatinine_phosphokinase': 981,\n",
        "  'diabetes': 0,\n",
        "  'ejection_fraction': 55,\n",
        "  'high_blood_pressure': 1,\n",
        "  'platelets': 368000,\n",
        "  'serum_creatinine': 3.5,\n",
        "  'serum_sodium': 137,\n",
        "  'sex': 0,\n",
        "  'smoking': 0,\n",
        "  'time': 4}]\n",
        "  }\n",
        "\n",
        "input_data=json.dumps(data)\n",
        "\n",
        "with open(\"data.json\",\"w\") as file:\n",
        "    file.write(input_data)\n",
        "\n",
        "headers={\"Content-Type\":\"application/json\"}\n",
        "\n",
        "result=requests.post(scoring_uri, input_data, headers=headers)\n",
        "print(\"The output is: \",result.json())"
      ],
      "outputs": [
        {
          "output_type": "stream",
          "name": "stdout",
          "text": [
            "The output is:  Must pass 2-d input\n"
          ]
        }
      ],
      "execution_count": 18,
      "metadata": {
        "gather": {
          "logged": 1611017529091
        }
      }
    },
    {
      "cell_type": "code",
      "source": [
        "result.status_code"
      ],
      "outputs": [
        {
          "output_type": "execute_result",
          "execution_count": 19,
          "data": {
            "text/plain": "200"
          },
          "metadata": {}
        }
      ],
      "execution_count": 19,
      "metadata": {
        "gather": {
          "logged": 1611017652290
        }
      }
    },
    {
      "cell_type": "code",
      "source": [
        "service.delete()\n",
        "compute_target.delete()\n",
        "model.delete()\n",
        "run.delete()\n",
        "experiment.delete()"
      ],
      "outputs": [
        {
          "output_type": "error",
          "ename": "NameError",
          "evalue": "name 'run' is not defined",
          "traceback": [
            "\u001b[0;31m---------------------------------------------------------------------------\u001b[0m",
            "\u001b[0;31mNameError\u001b[0m                                 Traceback (most recent call last)",
            "\u001b[0;32m<ipython-input-20-8ba60bbe9b4c>\u001b[0m in \u001b[0;36m<module>\u001b[0;34m\u001b[0m\n\u001b[1;32m      2\u001b[0m \u001b[0mcompute_target\u001b[0m\u001b[0;34m.\u001b[0m\u001b[0mdelete\u001b[0m\u001b[0;34m(\u001b[0m\u001b[0;34m)\u001b[0m\u001b[0;34m\u001b[0m\u001b[0;34m\u001b[0m\u001b[0m\n\u001b[1;32m      3\u001b[0m \u001b[0mmodel\u001b[0m\u001b[0;34m.\u001b[0m\u001b[0mdelete\u001b[0m\u001b[0;34m(\u001b[0m\u001b[0;34m)\u001b[0m\u001b[0;34m\u001b[0m\u001b[0;34m\u001b[0m\u001b[0m\n\u001b[0;32m----> 4\u001b[0;31m \u001b[0mrun\u001b[0m\u001b[0;34m.\u001b[0m\u001b[0mdelete\u001b[0m\u001b[0;34m(\u001b[0m\u001b[0;34m)\u001b[0m\u001b[0;34m\u001b[0m\u001b[0;34m\u001b[0m\u001b[0m\n\u001b[0m\u001b[1;32m      5\u001b[0m \u001b[0mexperiment\u001b[0m\u001b[0;34m.\u001b[0m\u001b[0mdelete\u001b[0m\u001b[0;34m(\u001b[0m\u001b[0;34m)\u001b[0m\u001b[0;34m\u001b[0m\u001b[0;34m\u001b[0m\u001b[0m\n",
            "\u001b[0;31mNameError\u001b[0m: name 'run' is not defined"
          ]
        }
      ],
      "execution_count": 20,
      "metadata": {}
    }
  ],
  "metadata": {
    "kernel_info": {
      "name": "python3"
    },
    "kernelspec": {
      "name": "python3",
      "language": "python",
      "display_name": "Python 3"
    },
    "language_info": {
      "name": "python",
      "version": "3.6.9",
      "mimetype": "text/x-python",
      "codemirror_mode": {
        "name": "ipython",
        "version": 3
      },
      "pygments_lexer": "ipython3",
      "nbconvert_exporter": "python",
      "file_extension": ".py"
    },
    "nteract": {
      "version": "nteract-front-end@1.0.0"
    }
  },
  "nbformat": 4,
  "nbformat_minor": 2
}