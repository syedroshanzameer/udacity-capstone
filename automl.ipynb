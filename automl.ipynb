{
  "cells": [
    {
      "cell_type": "markdown",
      "source": [
        "# Automated ML\n",
        "\n",
        "TODO: Import Dependencies. In the cell below, import all the dependencies that you will need to complete the project."
      ],
      "metadata": {}
    },
    {
      "cell_type": "markdown",
      "source": [
        "## Dataset\n",
        "\n",
        "### Overview\n",
        "TODO: In this markdown cell, give an overview of the dataset you are using. Also mention the task you will be performing.\n",
        "\n",
        "\n",
        "TODO: Get data. In the cell below, write code to access the data you will be using in this project. Remember that the dataset needs to be external."
      ],
      "metadata": {}
    },
    {
      "cell_type": "code",
      "source": [
        "from azureml.core.experiment import Experiment\n",
        "from azureml.core.workspace import Workspace\n",
        "\n",
        "ws = Workspace.from_config()\n",
        "\n",
        "experiment_name = 'capstoneproject'\n",
        "\n",
        "experiment=Experiment(ws, experiment_name)"
      ],
      "outputs": [],
      "execution_count": 1,
      "metadata": {
        "gather": {
          "logged": 1611031678978
        },
        "jupyter": {
          "outputs_hidden": false,
          "source_hidden": false
        },
        "nteract": {
          "transient": {
            "deleting": false
          }
        }
      }
    },
    {
      "cell_type": "code",
      "source": [
        "from azureml.core.compute import ComputeTarget, AmlCompute\n",
        "from azureml.core.compute_target import ComputeTargetException\n",
        "\n",
        "compute_cluster_name = 'final-compute'\n",
        "\n",
        "try:\n",
        "    compute_target = ComputeTarget(workspace=ws, name = compute_cluster_name)\n",
        "    print('Found the compute cluster')\n",
        "\n",
        "except ComputeTargetException:\n",
        "    compute_config = AmlCompute.provisioning_configuration(vm_size=\"STANDARD_D3_V2\", max_nodes=4)\n",
        "    compute_target = ComputeTarget.create(ws, compute_cluster_name, compute_config)\n",
        "    compute_target.wait_for_completion(show_output=True)"
      ],
      "outputs": [
        {
          "output_type": "stream",
          "name": "stdout",
          "text": [
            "Found the compute cluster\n"
          ]
        }
      ],
      "execution_count": 2,
      "metadata": {
        "collapsed": true,
        "jupyter": {
          "source_hidden": false,
          "outputs_hidden": false
        },
        "nteract": {
          "transient": {
            "deleting": false
          }
        },
        "gather": {
          "logged": 1611031682275
        }
      }
    },
    {
      "cell_type": "code",
      "source": [
        "from azureml.core.dataset import Dataset\r\n",
        "from sklearn.model_selection import train_test_split\r\n",
        "\r\n",
        "key = 'heart_failure_clinical_records_dataset'\r\n",
        "if key in ws.datasets.keys():\r\n",
        "    dataset = ws.datasets[key]\r\n",
        "    print(\"dataset found!\")\r\n",
        "\r\n",
        "else:\r\n",
        "    url = 'https://archive.ics.uci.edu/ml/machine-learning-databases/00519/heart_failure_clinical_records_dataset.csv'\r\n",
        "    dataset = Dataset.Tabular.from_delimited_files(url)\r\n",
        "    dataset = dataset.register(ws,key)\r\n",
        "\r\n",
        "df = dataset.to_pandas_dataframe()\r\n",
        "train, test = train_test_split(df, shuffle=True)\r\n",
        "train.to_csv('train.csv',index = False)\r\n",
        "\r\n",
        "datastore = ws.get_default_datastore()\r\n",
        "datastore.upload_files(files = ['./train.csv'])\r\n",
        "\r\n",
        "train = Dataset.Tabular.from_delimited_files([(datastore,'train.csv')])"
      ],
      "outputs": [
        {
          "output_type": "stream",
          "name": "stdout",
          "text": [
            "dataset found!\n",
            "Uploading an estimated of 1 files\n",
            "Target already exists. Skipping upload for train.csv\n",
            "Uploaded 0 files\n"
          ]
        }
      ],
      "execution_count": 3,
      "metadata": {
        "collapsed": true,
        "jupyter": {
          "source_hidden": false,
          "outputs_hidden": false
        },
        "nteract": {
          "transient": {
            "deleting": false
          }
        },
        "gather": {
          "logged": 1611031690199
        }
      }
    },
    {
      "cell_type": "markdown",
      "source": [
        "## AutoML Configuration\n",
        "\n",
        "TODO: Explain why you chose the automl settings and cofiguration you used below."
      ],
      "metadata": {}
    },
    {
      "cell_type": "code",
      "source": [
        "from azureml.train.automl import AutoMLConfig\n",
        "\n",
        "# TODO: Put your automl settings here\n",
        "automl_settings = {\"primary_metric\":\"accuracy\", \"experiment_timeout_minutes\":30, \"enable_early_stopping\":True, \"n_cross_validations\":3,\"max_concurrent_iterations\": 4}\n",
        "\n",
        "# TODO: Put your automl config here\n",
        "automl_config = AutoMLConfig(compute_target = compute_target, task = 'classification', training_data = train, label_column_name = 'DEATH_EVENT',**automl_settings)"
      ],
      "outputs": [],
      "execution_count": 4,
      "metadata": {
        "gather": {
          "logged": 1611031692066
        },
        "jupyter": {
          "outputs_hidden": false,
          "source_hidden": false
        },
        "nteract": {
          "transient": {
            "deleting": false
          }
        }
      }
    },
    {
      "cell_type": "code",
      "source": [
        "# TODO: Submit your experiment\n",
        "remote_run = experiment.submit(automl_config, show_output=True)"
      ],
      "outputs": [
        {
          "output_type": "stream",
          "name": "stdout",
          "text": [
            "Running on remote.\n",
            "No run_configuration provided, running on final-compute with default configuration\n",
            "Running on remote compute: final-compute\n",
            "Parent Run ID: AutoML_00d20164-fd7d-4ffe-af4f-085a8b0b3d25\n",
            "\n",
            "Current status: FeaturesGeneration. Generating features for the dataset.\n",
            "Current status: DatasetCrossValidationSplit. Generating individually featurized CV splits.\n",
            "Current status: ModelSelection. Beginning model selection.\n",
            "\n",
            "****************************************************************************************************\n",
            "DATA GUARDRAILS: \n",
            "\n",
            "TYPE:         Class balancing detection\n",
            "STATUS:       PASSED\n",
            "DESCRIPTION:  Your inputs were analyzed, and all classes are balanced in your training data.\n",
            "              Learn more about imbalanced data: https://aka.ms/AutomatedMLImbalancedData\n",
            "\n",
            "****************************************************************************************************\n",
            "\n",
            "TYPE:         Missing feature values imputation\n",
            "STATUS:       PASSED\n",
            "DESCRIPTION:  No feature missing values were detected in the training data.\n",
            "              Learn more about missing value imputation: https://aka.ms/AutomatedMLFeaturization\n",
            "\n",
            "****************************************************************************************************\n",
            "\n",
            "TYPE:         High cardinality feature detection\n",
            "STATUS:       PASSED\n",
            "DESCRIPTION:  Your inputs were analyzed, and no high cardinality features were detected.\n",
            "              Learn more about high cardinality feature handling: https://aka.ms/AutomatedMLFeaturization\n",
            "\n",
            "****************************************************************************************************\n",
            "\n",
            "****************************************************************************************************\n",
            "ITERATION: The iteration being evaluated.\n",
            "PIPELINE: A summary description of the pipeline being evaluated.\n",
            "DURATION: Time taken for the current iteration.\n",
            "METRIC: The result of computing score on the fitted pipeline.\n",
            "BEST: The best observed score thus far.\n",
            "****************************************************************************************************\n",
            "\n",
            " ITERATION   PIPELINE                                       DURATION      METRIC      BEST\n",
            "         2   MinMaxScaler RandomForest                      0:01:02       0.8523    0.8523\n",
            "         3   MinMaxScaler RandomForest                      0:00:50       0.7945    0.8523\n",
            "         0   MaxAbsScaler LightGBM                          0:00:53       0.8256    0.8523\n",
            "         6   MinMaxScaler SVM                               0:00:46       0.7366    0.8523\n",
            "         4   MinMaxScaler RandomForest                      0:02:02       0.8213    0.8523\n",
            "         5   MinMaxScaler SVM                               0:01:59       0.7274    0.8523\n",
            "         1   MaxAbsScaler XGBoostClassifier                 0:02:10       0.8479    0.8523\n",
            "         7   MaxAbsScaler GradientBoosting                  0:00:49       0.8390    0.8523\n",
            "         8   SparseNormalizer XGBoostClassifier             0:00:48       0.8259    0.8523\n",
            "        10   RobustScaler RandomForest                      0:00:49       0.8524    0.8524\n",
            "         9   StandardScalerWrapper LightGBM                 0:00:48       0.8435    0.8524\n",
            "        11   SparseNormalizer XGBoostClassifier             0:00:45       0.8436    0.8524\n",
            "        12   MaxAbsScaler LightGBM                          0:00:40       0.8168    0.8524\n",
            "        13   RobustScaler LightGBM                          0:00:43       0.7721    0.8524\n",
            "        14   MaxAbsScaler LightGBM                          0:00:40       0.8123    0.8524\n",
            "        15   StandardScalerWrapper RandomForest             0:00:45       0.8301    0.8524\n",
            "        16   StandardScalerWrapper LightGBM                 0:00:39       0.8168    0.8524\n",
            "        17   StandardScalerWrapper GradientBoosting         0:00:45       0.8390    0.8524\n",
            "        18   StandardScalerWrapper ExtremeRandomTrees       0:00:50       0.8436    0.8524\n",
            "        19   SparseNormalizer RandomForest                  0:00:48       0.8261    0.8524\n",
            "        20   StandardScalerWrapper LightGBM                 0:00:45       0.8257    0.8524\n",
            "        21   SparseNormalizer LightGBM                      0:00:52       0.8212    0.8524\n",
            "        22   RobustScaler LightGBM                          0:00:45       0.8435    0.8524\n",
            "        23   StandardScalerWrapper LightGBM                 0:00:43       0.8570    0.8570\n",
            "        24   StandardScalerWrapper LightGBM                 0:00:44       0.8391    0.8570\n",
            "        25   StandardScalerWrapper RandomForest             0:00:42       0.6739    0.8570\n",
            "        26   SparseNormalizer XGBoostClassifier             0:00:46       0.8392    0.8570\n",
            "        29   SparseNormalizer XGBoostClassifier             0:00:36       0.7947    0.8570\n",
            "        28   StandardScalerWrapper XGBoostClassifier        0:00:50       0.8079    0.8570\n",
            "        30   RobustScaler LightGBM                          0:00:43       0.6739    0.8570\n",
            "        27   RobustScaler LightGBM                          0:01:47       0.7990    0.8570\n",
            "        31   MinMaxScaler LightGBM                          0:00:43       0.8168    0.8570\n",
            "        32   TruncatedSVDWrapper XGBoostClassifier          0:00:47       0.8079    0.8570\n",
            "        33   MaxAbsScaler LightGBM                          0:00:44       0.7813    0.8570\n",
            "        34   StandardScalerWrapper LightGBM                 0:00:49       0.8480    0.8570\n",
            "        35   StandardScalerWrapper LightGBM                 0:00:40       0.8480    0.8570\n",
            "        36   StandardScalerWrapper RandomForest             0:00:42       0.8390    0.8570\n",
            "        38   RobustScaler RandomForest                      0:00:28       0.8434    0.8570\n",
            "        39                                                  0:00:07          nan    0.8570\n",
            "        37   MinMaxScaler LightGBM                          0:00:47       0.8035    0.8570\n",
            "        40    VotingEnsemble                                0:01:19       0.8748    0.8748\n",
            "        41    StackEnsemble                                 0:01:18       0.8524    0.8748\n"
          ]
        }
      ],
      "execution_count": 5,
      "metadata": {
        "gather": {
          "logged": 1611032754413
        },
        "jupyter": {
          "outputs_hidden": false,
          "source_hidden": false
        },
        "nteract": {
          "transient": {
            "deleting": false
          }
        }
      }
    },
    {
      "cell_type": "markdown",
      "source": [
        "## Run Details\n",
        "\n",
        "OPTIONAL: Write about the different models trained and their performance. Why do you think some models did better than others?\n",
        "\n",
        "TODO: In the cell below, use the `RunDetails` widget to show the different experiments."
      ],
      "metadata": {}
    },
    {
      "cell_type": "code",
      "source": [
        "from azureml.widgets import RunDetails\r\n",
        "\r\n",
        "RunDetails(remote_run).show()\r\n",
        "remote_run.wait_for_completion(show_output=True)"
      ],
      "outputs": [
        {
          "output_type": "display_data",
          "data": {
            "text/plain": "_AutoMLWidget(widget_settings={'childWidgetDisplay': 'popup', 'send_telemetry': False, 'log_level': 'INFO', 's…",
            "application/vnd.jupyter.widget-view+json": {
              "version_major": 2,
              "version_minor": 0,
              "model_id": "cefc17a80c05406d8ca46c2f195cd030"
            }
          },
          "metadata": {}
        },
        {
          "output_type": "display_data",
          "data": {
            "application/aml.mini.widget.v1": "{\"status\": \"Completed\", \"workbench_run_details_uri\": \"https://ml.azure.com/experiments/capstoneproject/runs/AutoML_00d20164-fd7d-4ffe-af4f-085a8b0b3d25?wsid=/subscriptions/a0a76bad-11a1-4a2d-9887-97a29122c8ed/resourcegroups/aml-quickstarts-135301/workspaces/quick-starts-ws-135301\", \"run_id\": \"AutoML_00d20164-fd7d-4ffe-af4f-085a8b0b3d25\", \"run_properties\": {\"run_id\": \"AutoML_00d20164-fd7d-4ffe-af4f-085a8b0b3d25\", \"created_utc\": \"2021-01-19T04:48:17.501007Z\", \"properties\": {\"num_iterations\": \"1000\", \"training_type\": \"TrainFull\", \"acquisition_function\": \"EI\", \"primary_metric\": \"accuracy\", \"train_split\": \"0\", \"acquisition_parameter\": \"0\", \"num_cross_validation\": \"3\", \"target\": \"final-compute\", \"AMLSettingsJsonString\": \"{\\\"path\\\":null,\\\"name\\\":\\\"capstoneproject\\\",\\\"subscription_id\\\":\\\"a0a76bad-11a1-4a2d-9887-97a29122c8ed\\\",\\\"resource_group\\\":\\\"aml-quickstarts-135301\\\",\\\"workspace_name\\\":\\\"quick-starts-ws-135301\\\",\\\"region\\\":\\\"southcentralus\\\",\\\"compute_target\\\":\\\"final-compute\\\",\\\"spark_service\\\":null,\\\"azure_service\\\":\\\"remote\\\",\\\"many_models\\\":false,\\\"pipeline_fetch_max_batch_size\\\":1,\\\"iterations\\\":1000,\\\"primary_metric\\\":\\\"accuracy\\\",\\\"task_type\\\":\\\"classification\\\",\\\"data_script\\\":null,\\\"validation_size\\\":0.0,\\\"n_cross_validations\\\":3,\\\"y_min\\\":null,\\\"y_max\\\":null,\\\"num_classes\\\":null,\\\"featurization\\\":\\\"auto\\\",\\\"_ignore_package_version_incompatibilities\\\":false,\\\"is_timeseries\\\":false,\\\"max_cores_per_iteration\\\":1,\\\"max_concurrent_iterations\\\":4,\\\"iteration_timeout_minutes\\\":null,\\\"mem_in_mb\\\":null,\\\"enforce_time_on_windows\\\":false,\\\"experiment_timeout_minutes\\\":30,\\\"experiment_exit_score\\\":null,\\\"whitelist_models\\\":null,\\\"blacklist_algos\\\":[\\\"TensorFlowLinearClassifier\\\",\\\"TensorFlowDNN\\\"],\\\"supported_models\\\":[\\\"SGD\\\",\\\"LogisticRegression\\\",\\\"DecisionTree\\\",\\\"GradientBoosting\\\",\\\"SVM\\\",\\\"RandomForest\\\",\\\"TensorFlowLinearClassifier\\\",\\\"LightGBM\\\",\\\"XGBoostClassifier\\\",\\\"MultinomialNaiveBayes\\\",\\\"LinearSVM\\\",\\\"BernoulliNaiveBayes\\\",\\\"AveragedPerceptronClassifier\\\",\\\"ExtremeRandomTrees\\\",\\\"KNN\\\",\\\"TensorFlowDNN\\\"],\\\"auto_blacklist\\\":true,\\\"blacklist_samples_reached\\\":false,\\\"exclude_nan_labels\\\":true,\\\"verbosity\\\":20,\\\"_debug_log\\\":\\\"azureml_automl.log\\\",\\\"show_warnings\\\":false,\\\"model_explainability\\\":true,\\\"service_url\\\":null,\\\"sdk_url\\\":null,\\\"sdk_packages\\\":null,\\\"enable_onnx_compatible_models\\\":false,\\\"enable_split_onnx_featurizer_estimator_models\\\":false,\\\"vm_type\\\":\\\"STANDARD_DS3_V2\\\",\\\"telemetry_verbosity\\\":20,\\\"send_telemetry\\\":true,\\\"enable_dnn\\\":false,\\\"scenario\\\":\\\"SDK-1.13.0\\\",\\\"environment_label\\\":null,\\\"force_text_dnn\\\":false,\\\"enable_feature_sweeping\\\":true,\\\"enable_early_stopping\\\":true,\\\"early_stopping_n_iters\\\":10,\\\"metrics\\\":null,\\\"enable_ensembling\\\":true,\\\"enable_stack_ensembling\\\":true,\\\"ensemble_iterations\\\":15,\\\"enable_tf\\\":false,\\\"enable_subsampling\\\":null,\\\"subsample_seed\\\":null,\\\"enable_nimbusml\\\":false,\\\"enable_streaming\\\":false,\\\"force_streaming\\\":false,\\\"track_child_runs\\\":true,\\\"allowed_private_models\\\":[],\\\"label_column_name\\\":\\\"DEATH_EVENT\\\",\\\"weight_column_name\\\":null,\\\"cv_split_column_names\\\":null,\\\"enable_local_managed\\\":false,\\\"_local_managed_run_id\\\":null,\\\"cost_mode\\\":1,\\\"lag_length\\\":0,\\\"metric_operation\\\":\\\"maximize\\\",\\\"preprocess\\\":true}\", \"DataPrepJsonString\": \"{\\\\\\\"training_data\\\\\\\": \\\\\\\"{\\\\\\\\\\\\\\\"blocks\\\\\\\\\\\\\\\": [{\\\\\\\\\\\\\\\"id\\\\\\\\\\\\\\\": \\\\\\\\\\\\\\\"bc18d2a6-c340-4019-827f-df4b1ffaa74b\\\\\\\\\\\\\\\", \\\\\\\\\\\\\\\"type\\\\\\\\\\\\\\\": \\\\\\\\\\\\\\\"Microsoft.DPrep.GetDatastoreFilesBlock\\\\\\\\\\\\\\\", \\\\\\\\\\\\\\\"arguments\\\\\\\\\\\\\\\": {\\\\\\\\\\\\\\\"datastores\\\\\\\\\\\\\\\": [{\\\\\\\\\\\\\\\"datastoreName\\\\\\\\\\\\\\\": \\\\\\\\\\\\\\\"workspaceblobstore\\\\\\\\\\\\\\\", \\\\\\\\\\\\\\\"path\\\\\\\\\\\\\\\": \\\\\\\\\\\\\\\"train.csv\\\\\\\\\\\\\\\", \\\\\\\\\\\\\\\"resourceGroup\\\\\\\\\\\\\\\": \\\\\\\\\\\\\\\"aml-quickstarts-135301\\\\\\\\\\\\\\\", \\\\\\\\\\\\\\\"subscription\\\\\\\\\\\\\\\": \\\\\\\\\\\\\\\"a0a76bad-11a1-4a2d-9887-97a29122c8ed\\\\\\\\\\\\\\\", \\\\\\\\\\\\\\\"workspaceName\\\\\\\\\\\\\\\": \\\\\\\\\\\\\\\"quick-starts-ws-135301\\\\\\\\\\\\\\\"}]}, \\\\\\\\\\\\\\\"localData\\\\\\\\\\\\\\\": {}, \\\\\\\\\\\\\\\"isEnabled\\\\\\\\\\\\\\\": true, \\\\\\\\\\\\\\\"name\\\\\\\\\\\\\\\": null, \\\\\\\\\\\\\\\"annotation\\\\\\\\\\\\\\\": null}, {\\\\\\\\\\\\\\\"id\\\\\\\\\\\\\\\": \\\\\\\\\\\\\\\"99f53dd3-b9e5-4aee-91f9-6c4c26593b53\\\\\\\\\\\\\\\", \\\\\\\\\\\\\\\"type\\\\\\\\\\\\\\\": \\\\\\\\\\\\\\\"Microsoft.DPrep.ParseDelimitedBlock\\\\\\\\\\\\\\\", \\\\\\\\\\\\\\\"arguments\\\\\\\\\\\\\\\": {\\\\\\\\\\\\\\\"columnHeadersMode\\\\\\\\\\\\\\\": 3, \\\\\\\\\\\\\\\"fileEncoding\\\\\\\\\\\\\\\": 0, \\\\\\\\\\\\\\\"handleQuotedLineBreaks\\\\\\\\\\\\\\\": false, \\\\\\\\\\\\\\\"preview\\\\\\\\\\\\\\\": false, \\\\\\\\\\\\\\\"separator\\\\\\\\\\\\\\\": \\\\\\\\\\\\\\\",\\\\\\\\\\\\\\\", \\\\\\\\\\\\\\\"skipRows\\\\\\\\\\\\\\\": 0, \\\\\\\\\\\\\\\"skipRowsMode\\\\\\\\\\\\\\\": 0}, \\\\\\\\\\\\\\\"localData\\\\\\\\\\\\\\\": {}, \\\\\\\\\\\\\\\"isEnabled\\\\\\\\\\\\\\\": true, \\\\\\\\\\\\\\\"name\\\\\\\\\\\\\\\": null, \\\\\\\\\\\\\\\"annotation\\\\\\\\\\\\\\\": null}, {\\\\\\\\\\\\\\\"id\\\\\\\\\\\\\\\": \\\\\\\\\\\\\\\"7a45c019-2382-4929-9e99-284474e9584f\\\\\\\\\\\\\\\", \\\\\\\\\\\\\\\"type\\\\\\\\\\\\\\\": \\\\\\\\\\\\\\\"Microsoft.DPrep.DropColumnsBlock\\\\\\\\\\\\\\\", \\\\\\\\\\\\\\\"arguments\\\\\\\\\\\\\\\": {\\\\\\\\\\\\\\\"columns\\\\\\\\\\\\\\\": {\\\\\\\\\\\\\\\"type\\\\\\\\\\\\\\\": 0, \\\\\\\\\\\\\\\"details\\\\\\\\\\\\\\\": {\\\\\\\\\\\\\\\"selectedColumns\\\\\\\\\\\\\\\": [\\\\\\\\\\\\\\\"Path\\\\\\\\\\\\\\\"]}}}, \\\\\\\\\\\\\\\"localData\\\\\\\\\\\\\\\": {}, \\\\\\\\\\\\\\\"isEnabled\\\\\\\\\\\\\\\": true, \\\\\\\\\\\\\\\"name\\\\\\\\\\\\\\\": null, \\\\\\\\\\\\\\\"annotation\\\\\\\\\\\\\\\": null}, {\\\\\\\\\\\\\\\"id\\\\\\\\\\\\\\\": \\\\\\\\\\\\\\\"b1cb8938-2ed6-4ac9-b7e2-fe728fc34a90\\\\\\\\\\\\\\\", \\\\\\\\\\\\\\\"type\\\\\\\\\\\\\\\": \\\\\\\\\\\\\\\"Microsoft.DPrep.SetColumnTypesBlock\\\\\\\\\\\\\\\", \\\\\\\\\\\\\\\"arguments\\\\\\\\\\\\\\\": {\\\\\\\\\\\\\\\"columnConversion\\\\\\\\\\\\\\\": [{\\\\\\\\\\\\\\\"column\\\\\\\\\\\\\\\": {\\\\\\\\\\\\\\\"type\\\\\\\\\\\\\\\": 2, \\\\\\\\\\\\\\\"details\\\\\\\\\\\\\\\": {\\\\\\\\\\\\\\\"selectedColumn\\\\\\\\\\\\\\\": \\\\\\\\\\\\\\\"age\\\\\\\\\\\\\\\"}}, \\\\\\\\\\\\\\\"typeProperty\\\\\\\\\\\\\\\": 3}, {\\\\\\\\\\\\\\\"column\\\\\\\\\\\\\\\": {\\\\\\\\\\\\\\\"type\\\\\\\\\\\\\\\": 2, \\\\\\\\\\\\\\\"details\\\\\\\\\\\\\\\": {\\\\\\\\\\\\\\\"selectedColumn\\\\\\\\\\\\\\\": \\\\\\\\\\\\\\\"anaemia\\\\\\\\\\\\\\\"}}, \\\\\\\\\\\\\\\"typeProperty\\\\\\\\\\\\\\\": 2}, {\\\\\\\\\\\\\\\"column\\\\\\\\\\\\\\\": {\\\\\\\\\\\\\\\"type\\\\\\\\\\\\\\\": 2, \\\\\\\\\\\\\\\"details\\\\\\\\\\\\\\\": {\\\\\\\\\\\\\\\"selectedColumn\\\\\\\\\\\\\\\": \\\\\\\\\\\\\\\"creatinine_phosphokinase\\\\\\\\\\\\\\\"}}, \\\\\\\\\\\\\\\"typeProperty\\\\\\\\\\\\\\\": 2}, {\\\\\\\\\\\\\\\"column\\\\\\\\\\\\\\\": {\\\\\\\\\\\\\\\"type\\\\\\\\\\\\\\\": 2, \\\\\\\\\\\\\\\"details\\\\\\\\\\\\\\\": {\\\\\\\\\\\\\\\"selectedColumn\\\\\\\\\\\\\\\": \\\\\\\\\\\\\\\"diabetes\\\\\\\\\\\\\\\"}}, \\\\\\\\\\\\\\\"typeProperty\\\\\\\\\\\\\\\": 2}, {\\\\\\\\\\\\\\\"column\\\\\\\\\\\\\\\": {\\\\\\\\\\\\\\\"type\\\\\\\\\\\\\\\": 2, \\\\\\\\\\\\\\\"details\\\\\\\\\\\\\\\": {\\\\\\\\\\\\\\\"selectedColumn\\\\\\\\\\\\\\\": \\\\\\\\\\\\\\\"ejection_fraction\\\\\\\\\\\\\\\"}}, \\\\\\\\\\\\\\\"typeProperty\\\\\\\\\\\\\\\": 2}, {\\\\\\\\\\\\\\\"column\\\\\\\\\\\\\\\": {\\\\\\\\\\\\\\\"type\\\\\\\\\\\\\\\": 2, \\\\\\\\\\\\\\\"details\\\\\\\\\\\\\\\": {\\\\\\\\\\\\\\\"selectedColumn\\\\\\\\\\\\\\\": \\\\\\\\\\\\\\\"high_blood_pressure\\\\\\\\\\\\\\\"}}, \\\\\\\\\\\\\\\"typeProperty\\\\\\\\\\\\\\\": 2}, {\\\\\\\\\\\\\\\"column\\\\\\\\\\\\\\\": {\\\\\\\\\\\\\\\"type\\\\\\\\\\\\\\\": 2, \\\\\\\\\\\\\\\"details\\\\\\\\\\\\\\\": {\\\\\\\\\\\\\\\"selectedColumn\\\\\\\\\\\\\\\": \\\\\\\\\\\\\\\"platelets\\\\\\\\\\\\\\\"}}, \\\\\\\\\\\\\\\"typeProperty\\\\\\\\\\\\\\\": 3}, {\\\\\\\\\\\\\\\"column\\\\\\\\\\\\\\\": {\\\\\\\\\\\\\\\"type\\\\\\\\\\\\\\\": 2, \\\\\\\\\\\\\\\"details\\\\\\\\\\\\\\\": {\\\\\\\\\\\\\\\"selectedColumn\\\\\\\\\\\\\\\": \\\\\\\\\\\\\\\"serum_creatinine\\\\\\\\\\\\\\\"}}, \\\\\\\\\\\\\\\"typeProperty\\\\\\\\\\\\\\\": 3}, {\\\\\\\\\\\\\\\"column\\\\\\\\\\\\\\\": {\\\\\\\\\\\\\\\"type\\\\\\\\\\\\\\\": 2, \\\\\\\\\\\\\\\"details\\\\\\\\\\\\\\\": {\\\\\\\\\\\\\\\"selectedColumn\\\\\\\\\\\\\\\": \\\\\\\\\\\\\\\"serum_sodium\\\\\\\\\\\\\\\"}}, \\\\\\\\\\\\\\\"typeProperty\\\\\\\\\\\\\\\": 2}, {\\\\\\\\\\\\\\\"column\\\\\\\\\\\\\\\": {\\\\\\\\\\\\\\\"type\\\\\\\\\\\\\\\": 2, \\\\\\\\\\\\\\\"details\\\\\\\\\\\\\\\": {\\\\\\\\\\\\\\\"selectedColumn\\\\\\\\\\\\\\\": \\\\\\\\\\\\\\\"sex\\\\\\\\\\\\\\\"}}, \\\\\\\\\\\\\\\"typeProperty\\\\\\\\\\\\\\\": 2}, {\\\\\\\\\\\\\\\"column\\\\\\\\\\\\\\\": {\\\\\\\\\\\\\\\"type\\\\\\\\\\\\\\\": 2, \\\\\\\\\\\\\\\"details\\\\\\\\\\\\\\\": {\\\\\\\\\\\\\\\"selectedColumn\\\\\\\\\\\\\\\": \\\\\\\\\\\\\\\"smoking\\\\\\\\\\\\\\\"}}, \\\\\\\\\\\\\\\"typeProperty\\\\\\\\\\\\\\\": 2}, {\\\\\\\\\\\\\\\"column\\\\\\\\\\\\\\\": {\\\\\\\\\\\\\\\"type\\\\\\\\\\\\\\\": 2, \\\\\\\\\\\\\\\"details\\\\\\\\\\\\\\\": {\\\\\\\\\\\\\\\"selectedColumn\\\\\\\\\\\\\\\": \\\\\\\\\\\\\\\"time\\\\\\\\\\\\\\\"}}, \\\\\\\\\\\\\\\"typeProperty\\\\\\\\\\\\\\\": 2}, {\\\\\\\\\\\\\\\"column\\\\\\\\\\\\\\\": {\\\\\\\\\\\\\\\"type\\\\\\\\\\\\\\\": 2, \\\\\\\\\\\\\\\"details\\\\\\\\\\\\\\\": {\\\\\\\\\\\\\\\"selectedColumn\\\\\\\\\\\\\\\": \\\\\\\\\\\\\\\"DEATH_EVENT\\\\\\\\\\\\\\\"}}, \\\\\\\\\\\\\\\"typeProperty\\\\\\\\\\\\\\\": 2}]}, \\\\\\\\\\\\\\\"localData\\\\\\\\\\\\\\\": {}, \\\\\\\\\\\\\\\"isEnabled\\\\\\\\\\\\\\\": true, \\\\\\\\\\\\\\\"name\\\\\\\\\\\\\\\": null, \\\\\\\\\\\\\\\"annotation\\\\\\\\\\\\\\\": null}], \\\\\\\\\\\\\\\"inspectors\\\\\\\\\\\\\\\": [], \\\\\\\\\\\\\\\"meta\\\\\\\\\\\\\\\": {\\\\\\\\\\\\\\\"savedDatasetId\\\\\\\\\\\\\\\": \\\\\\\\\\\\\\\"d6c13499-aa28-4ab2-b022-0fbb959a65a6\\\\\\\\\\\\\\\", \\\\\\\\\\\\\\\"datasetType\\\\\\\\\\\\\\\": \\\\\\\\\\\\\\\"tabular\\\\\\\\\\\\\\\", \\\\\\\\\\\\\\\"subscriptionId\\\\\\\\\\\\\\\": \\\\\\\\\\\\\\\"a0a76bad-11a1-4a2d-9887-97a29122c8ed\\\\\\\\\\\\\\\", \\\\\\\\\\\\\\\"workspaceId\\\\\\\\\\\\\\\": \\\\\\\\\\\\\\\"075812b2-794f-4cdd-82ec-d4c5378e281c\\\\\\\\\\\\\\\", \\\\\\\\\\\\\\\"workspaceLocation\\\\\\\\\\\\\\\": \\\\\\\\\\\\\\\"southcentralus\\\\\\\\\\\\\\\"}}\\\\\\\", \\\\\\\"activities\\\\\\\": 0}\", \"EnableSubsampling\": null, \"runTemplate\": \"AutoML\", \"azureml.runsource\": \"automl\", \"display_task_type\": \"classification\", \"dependencies_versions\": \"{\\\"azureml-widgets\\\": \\\"1.19.0\\\", \\\"azureml-train\\\": \\\"1.19.0\\\", \\\"azureml-train-restclients-hyperdrive\\\": \\\"1.19.0\\\", \\\"azureml-train-core\\\": \\\"1.19.0\\\", \\\"azureml-train-automl\\\": \\\"1.19.0\\\", \\\"azureml-train-automl-runtime\\\": \\\"1.19.0\\\", \\\"azureml-train-automl-client\\\": \\\"1.19.0\\\", \\\"azureml-tensorboard\\\": \\\"1.19.0\\\", \\\"azureml-telemetry\\\": \\\"1.19.0\\\", \\\"azureml-sdk\\\": \\\"1.19.0\\\", \\\"azureml-samples\\\": \\\"0+unknown\\\", \\\"azureml-pipeline\\\": \\\"1.19.0\\\", \\\"azureml-pipeline-steps\\\": \\\"1.19.0\\\", \\\"azureml-pipeline-core\\\": \\\"1.19.0\\\", \\\"azureml-opendatasets\\\": \\\"1.19.0\\\", \\\"azureml-model-management-sdk\\\": \\\"1.0.1b6.post1\\\", \\\"azureml-mlflow\\\": \\\"1.19.0\\\", \\\"azureml-interpret\\\": \\\"1.19.0\\\", \\\"azureml-explain-model\\\": \\\"1.19.0\\\", \\\"azureml-defaults\\\": \\\"1.19.0\\\", \\\"azureml-dataset-runtime\\\": \\\"1.19.0.post1\\\", \\\"azureml-dataprep\\\": \\\"2.6.1\\\", \\\"azureml-dataprep-rslex\\\": \\\"1.4.0\\\", \\\"azureml-dataprep-native\\\": \\\"26.0.0\\\", \\\"azureml-datadrift\\\": \\\"1.19.0\\\", \\\"azureml-core\\\": \\\"1.19.0\\\", \\\"azureml-contrib-services\\\": \\\"1.19.0\\\", \\\"azureml-contrib-server\\\": \\\"1.19.0\\\", \\\"azureml-contrib-reinforcementlearning\\\": \\\"1.19.0\\\", \\\"azureml-contrib-pipeline-steps\\\": \\\"1.19.0\\\", \\\"azureml-contrib-notebook\\\": \\\"1.19.0\\\", \\\"azureml-contrib-interpret\\\": \\\"1.19.0\\\", \\\"azureml-contrib-gbdt\\\": \\\"1.19.0\\\", \\\"azureml-contrib-fairness\\\": \\\"1.19.0\\\", \\\"azureml-contrib-dataset\\\": \\\"1.19.0\\\", \\\"azureml-cli-common\\\": \\\"1.19.0\\\", \\\"azureml-automl-runtime\\\": \\\"1.19.0\\\", \\\"azureml-automl-core\\\": \\\"1.19.0\\\", \\\"azureml-accel-models\\\": \\\"1.19.0\\\"}\", \"_aml_system_scenario_identification\": \"Remote.Parent\", \"ClientType\": \"SDK\", \"environment_cpu_name\": \"AzureML-AutoML\", \"environment_cpu_label\": \"prod\", \"environment_gpu_name\": \"AzureML-AutoML-GPU\", \"environment_gpu_label\": \"prod\", \"root_attribution\": \"automl\", \"attribution\": \"AutoML\", \"Orchestrator\": \"AutoML\", \"CancelUri\": \"https://southcentralus.experiments.azureml.net/jasmine/v1.0/subscriptions/a0a76bad-11a1-4a2d-9887-97a29122c8ed/resourceGroups/aml-quickstarts-135301/providers/Microsoft.MachineLearningServices/workspaces/quick-starts-ws-135301/experimentids/da7df2f7-1c9d-48a7-ac5b-e6cd15a44379/cancel/AutoML_00d20164-fd7d-4ffe-af4f-085a8b0b3d25\", \"ClientSdkVersion\": \"1.20.0\", \"snapshotId\": \"00000000-0000-0000-0000-000000000000\", \"SetupRunId\": \"AutoML_00d20164-fd7d-4ffe-af4f-085a8b0b3d25_setup\", \"SetupRunContainerId\": \"dcid.AutoML_00d20164-fd7d-4ffe-af4f-085a8b0b3d25_setup\", \"FeaturizationRunJsonPath\": \"featurizer_container.json\", \"FeaturizationRunId\": \"AutoML_00d20164-fd7d-4ffe-af4f-085a8b0b3d25_featurize\", \"ProblemInfoJsonString\": \"{\\\"dataset_num_categorical\\\": 0, \\\"is_sparse\\\": false, \\\"subsampling\\\": false, \\\"dataset_classes\\\": 2, \\\"dataset_features\\\": 12, \\\"dataset_samples\\\": 224, \\\"single_frequency_class_detected\\\": false}\", \"ModelExplainRunId\": \"AutoML_00d20164-fd7d-4ffe-af4f-085a8b0b3d25_ModelExplain\"}, \"tags\": {\"model_explain_run\": \"best_run\", \"_aml_system_azureml.automlComponent\": \"AutoML\", \"pipeline_id\": \"\", \"score\": \"\", \"predicted_cost\": \"\", \"fit_time\": \"\", \"training_percent\": \"\", \"iteration\": \"\", \"run_preprocessor\": \"\", \"run_algorithm\": \"\", \"dynamic_whitelisting_iterations\": \"<25>;<30>;<35>;\", \"automl_best_child_run_id\": \"AutoML_00d20164-fd7d-4ffe-af4f-085a8b0b3d25_40\", \"model_explain_best_run_child_id\": \"AutoML_00d20164-fd7d-4ffe-af4f-085a8b0b3d25_40\"}, \"end_time_utc\": \"2021-01-19T05:05:53.780455Z\", \"status\": \"Completed\", \"log_files\": {}, \"log_groups\": [], \"run_duration\": \"0:17:36\"}, \"child_runs\": [{\"run_id\": \"AutoML_00d20164-fd7d-4ffe-af4f-085a8b0b3d25_0\", \"run_number\": 78, \"metric\": null, \"status\": \"Completed\", \"run_type\": \"azureml.scriptrun\", \"training_percent\": \"100\", \"start_time\": \"2021-01-19T04:53:06.887202Z\", \"end_time\": \"2021-01-19T04:53:59.55977Z\", \"created_time\": \"2021-01-19T04:50:55.477077Z\", \"created_time_dt\": \"2021-01-19T04:50:55.477077Z\", \"duration\": \"0:03:04\", \"iteration\": \"0\", \"goal\": \"accuracy_max\", \"run_name\": \"MaxAbsScaler, LightGBM\", \"run_properties\": \"copy=True\", \"primary_metric\": 0.82558559, \"best_metric\": 0.82558559}, {\"run_id\": \"AutoML_00d20164-fd7d-4ffe-af4f-085a8b0b3d25_1\", \"run_number\": 79, \"metric\": null, \"status\": \"Completed\", \"run_type\": \"azureml.scriptrun\", \"training_percent\": \"100\", \"start_time\": \"2021-01-19T04:53:23.998806Z\", \"end_time\": \"2021-01-19T04:55:34.409189Z\", \"created_time\": \"2021-01-19T04:50:55.607523Z\", \"created_time_dt\": \"2021-01-19T04:50:55.607523Z\", \"duration\": \"0:04:38\", \"iteration\": \"1\", \"goal\": \"accuracy_max\", \"run_name\": \"MaxAbsScaler, XGBoostClassifier\", \"run_properties\": \"copy=True\", \"primary_metric\": 0.84786787, \"best_metric\": 0.84786787}, {\"run_id\": \"AutoML_00d20164-fd7d-4ffe-af4f-085a8b0b3d25_3\", \"run_number\": 80, \"metric\": null, \"status\": \"Completed\", \"run_type\": \"azureml.scriptrun\", \"training_percent\": \"100\", \"start_time\": \"2021-01-19T04:52:16.173705Z\", \"end_time\": \"2021-01-19T04:53:06.485551Z\", \"created_time\": \"2021-01-19T04:50:55.60833Z\", \"created_time_dt\": \"2021-01-19T04:50:55.60833Z\", \"duration\": \"0:02:10\", \"iteration\": \"3\", \"goal\": \"accuracy_max\", \"run_name\": \"MinMaxScaler, RandomForest\", \"run_properties\": \"copy=True, feature_range=(0, 1\", \"primary_metric\": 0.79447447, \"best_metric\": 0.85231231}, {\"run_id\": \"AutoML_00d20164-fd7d-4ffe-af4f-085a8b0b3d25_2\", \"run_number\": 81, \"metric\": null, \"status\": \"Completed\", \"run_type\": \"azureml.scriptrun\", \"training_percent\": \"100\", \"start_time\": \"2021-01-19T04:51:07.211872Z\", \"end_time\": \"2021-01-19T04:52:09.637233Z\", \"created_time\": \"2021-01-19T04:50:55.650208Z\", \"created_time_dt\": \"2021-01-19T04:50:55.650208Z\", \"duration\": \"0:01:13\", \"iteration\": \"2\", \"goal\": \"accuracy_max\", \"run_name\": \"MinMaxScaler, RandomForest\", \"run_properties\": \"copy=True, feature_range=(0, 1\", \"primary_metric\": 0.85231231, \"best_metric\": 0.85231231}, {\"run_id\": \"AutoML_00d20164-fd7d-4ffe-af4f-085a8b0b3d25_4\", \"run_number\": 82, \"metric\": null, \"status\": \"Completed\", \"run_type\": \"azureml.scriptrun\", \"training_percent\": \"100\", \"start_time\": \"2021-01-19T04:53:26.865892Z\", \"end_time\": \"2021-01-19T04:55:28.885219Z\", \"created_time\": \"2021-01-19T04:52:14.280317Z\", \"created_time_dt\": \"2021-01-19T04:52:14.280317Z\", \"duration\": \"0:03:14\", \"iteration\": \"4\", \"goal\": \"accuracy_max\", \"run_name\": \"MinMaxScaler, RandomForest\", \"run_properties\": \"copy=True, feature_range=(0, 1\", \"primary_metric\": 0.82126126, \"best_metric\": 0.85231231}, {\"run_id\": \"AutoML_00d20164-fd7d-4ffe-af4f-085a8b0b3d25_5\", \"run_number\": 83, \"metric\": null, \"status\": \"Completed\", \"run_type\": \"azureml.scriptrun\", \"training_percent\": \"100\", \"start_time\": \"2021-01-19T04:53:27.342013Z\", \"end_time\": \"2021-01-19T04:55:25.91697Z\", \"created_time\": \"2021-01-19T04:53:10.658403Z\", \"created_time_dt\": \"2021-01-19T04:53:10.658403Z\", \"duration\": \"0:02:15\", \"iteration\": \"5\", \"goal\": \"accuracy_max\", \"run_name\": \"MinMaxScaler, SVM\", \"run_properties\": \"copy=True, feature_range=(0, 1\", \"primary_metric\": 0.72738739, \"best_metric\": 0.85231231}, {\"run_id\": \"AutoML_00d20164-fd7d-4ffe-af4f-085a8b0b3d25_6\", \"run_number\": 84, \"metric\": null, \"status\": \"Completed\", \"run_type\": \"azureml.scriptrun\", \"training_percent\": \"100\", \"start_time\": \"2021-01-19T04:54:16.765213Z\", \"end_time\": \"2021-01-19T04:55:02.44185Z\", \"created_time\": \"2021-01-19T04:54:03.134089Z\", \"created_time_dt\": \"2021-01-19T04:54:03.134089Z\", \"duration\": \"0:00:59\", \"iteration\": \"6\", \"goal\": \"accuracy_max\", \"run_name\": \"MinMaxScaler, SVM\", \"run_properties\": \"copy=True, feature_range=(0, 1\", \"primary_metric\": 0.73657658, \"best_metric\": 0.85231231}, {\"run_id\": \"AutoML_00d20164-fd7d-4ffe-af4f-085a8b0b3d25_7\", \"run_number\": 85, \"metric\": null, \"status\": \"Completed\", \"run_type\": \"azureml.scriptrun\", \"training_percent\": \"100\", \"start_time\": \"2021-01-19T04:55:19.603982Z\", \"end_time\": \"2021-01-19T04:56:08.46489Z\", \"created_time\": \"2021-01-19T04:55:06.088054Z\", \"created_time_dt\": \"2021-01-19T04:55:06.088054Z\", \"duration\": \"0:01:02\", \"iteration\": \"7\", \"goal\": \"accuracy_max\", \"run_name\": \"MaxAbsScaler, GradientBoosting\", \"run_properties\": \"copy=True\", \"primary_metric\": 0.83903904, \"best_metric\": 0.85231231}, {\"run_id\": \"AutoML_00d20164-fd7d-4ffe-af4f-085a8b0b3d25_8\", \"run_number\": 86, \"metric\": null, \"status\": \"Completed\", \"run_type\": \"azureml.scriptrun\", \"training_percent\": \"100\", \"start_time\": \"2021-01-19T04:55:43.26448Z\", \"end_time\": \"2021-01-19T04:56:31.756908Z\", \"created_time\": \"2021-01-19T04:55:29.393594Z\", \"created_time_dt\": \"2021-01-19T04:55:29.393594Z\", \"duration\": \"0:01:02\", \"iteration\": \"8\", \"goal\": \"accuracy_max\", \"run_name\": \"SparseNormalizer, XGBoostClassifier\", \"run_properties\": \"<azureml.automl.runtime.shared.model_wrappers.SparseNormalizer object at 0x7fe86d9c5400\", \"primary_metric\": 0.82588589, \"best_metric\": 0.85231231}, {\"run_id\": \"AutoML_00d20164-fd7d-4ffe-af4f-085a8b0b3d25_9\", \"run_number\": 87, \"metric\": null, \"status\": \"Completed\", \"run_type\": \"azureml.scriptrun\", \"training_percent\": \"100\", \"start_time\": \"2021-01-19T04:55:49.075882Z\", \"end_time\": \"2021-01-19T04:56:37.495532Z\", \"created_time\": \"2021-01-19T04:55:35.652461Z\", \"created_time_dt\": \"2021-01-19T04:55:35.652461Z\", \"duration\": \"0:01:01\", \"iteration\": \"9\", \"goal\": \"accuracy_max\", \"run_name\": \"StandardScalerWrapper, LightGBM\", \"run_properties\": \"<azureml.automl.runtime.shared.model_wrappers.StandardScalerWrapper object at 0x7fb289a4eb38\", \"primary_metric\": 0.84354354, \"best_metric\": 0.85231231}, {\"run_id\": \"AutoML_00d20164-fd7d-4ffe-af4f-085a8b0b3d25_10\", \"run_number\": 88, \"metric\": null, \"status\": \"Completed\", \"run_type\": \"azureml.scriptrun\", \"training_percent\": \"100\", \"start_time\": \"2021-01-19T04:55:54.213527Z\", \"end_time\": \"2021-01-19T04:56:42.80429Z\", \"created_time\": \"2021-01-19T04:55:41.38058Z\", \"created_time_dt\": \"2021-01-19T04:55:41.38058Z\", \"duration\": \"0:01:01\", \"iteration\": \"10\", \"goal\": \"accuracy_max\", \"run_name\": \"RobustScaler, RandomForest\", \"run_properties\": \"copy=True, quantile_range=[10, 90], with_centering=True,\\n             with_scaling=True\", \"primary_metric\": 0.85243243, \"best_metric\": 0.85243243}, {\"run_id\": \"AutoML_00d20164-fd7d-4ffe-af4f-085a8b0b3d25_11\", \"run_number\": 89, \"metric\": null, \"status\": \"Completed\", \"run_type\": \"azureml.scriptrun\", \"training_percent\": \"100\", \"start_time\": \"2021-01-19T04:56:24.25552Z\", \"end_time\": \"2021-01-19T04:57:08.872894Z\", \"created_time\": \"2021-01-19T04:56:11.767175Z\", \"created_time_dt\": \"2021-01-19T04:56:11.767175Z\", \"duration\": \"0:00:57\", \"iteration\": \"11\", \"goal\": \"accuracy_max\", \"run_name\": \"SparseNormalizer, XGBoostClassifier\", \"run_properties\": \"<azureml.automl.runtime.shared.model_wrappers.SparseNormalizer object at 0x7ffa548ae4e0\", \"primary_metric\": 0.8436036, \"best_metric\": 0.85243243}, {\"run_id\": \"AutoML_00d20164-fd7d-4ffe-af4f-085a8b0b3d25_12\", \"run_number\": 90, \"metric\": null, \"status\": \"Completed\", \"run_type\": \"azureml.scriptrun\", \"training_percent\": \"100\", \"start_time\": \"2021-01-19T04:56:47.828921Z\", \"end_time\": \"2021-01-19T04:57:28.163812Z\", \"created_time\": \"2021-01-19T04:56:34.697893Z\", \"created_time_dt\": \"2021-01-19T04:56:34.697893Z\", \"duration\": \"0:00:53\", \"iteration\": \"12\", \"goal\": \"accuracy_max\", \"run_name\": \"MaxAbsScaler, LightGBM\", \"run_properties\": \"copy=True\", \"primary_metric\": 0.81681682, \"best_metric\": 0.85243243}, {\"run_id\": \"AutoML_00d20164-fd7d-4ffe-af4f-085a8b0b3d25_13\", \"run_number\": 91, \"metric\": null, \"status\": \"Completed\", \"run_type\": \"azureml.scriptrun\", \"training_percent\": \"100\", \"start_time\": \"2021-01-19T04:56:54.078484Z\", \"end_time\": \"2021-01-19T04:57:36.991515Z\", \"created_time\": \"2021-01-19T04:56:40.469511Z\", \"created_time_dt\": \"2021-01-19T04:56:40.469511Z\", \"duration\": \"0:00:56\", \"iteration\": \"13\", \"goal\": \"accuracy_max\", \"run_name\": \"RobustScaler, LightGBM\", \"run_properties\": \"copy=True, quantile_range=[10, 90], with_centering=True,\\n             with_scaling=False\", \"primary_metric\": 0.77213213, \"best_metric\": 0.85243243}, {\"run_id\": \"AutoML_00d20164-fd7d-4ffe-af4f-085a8b0b3d25_14\", \"run_number\": 92, \"metric\": null, \"status\": \"Completed\", \"run_type\": \"azureml.scriptrun\", \"training_percent\": \"100\", \"start_time\": \"2021-01-19T04:56:59.249762Z\", \"end_time\": \"2021-01-19T04:57:39.246382Z\", \"created_time\": \"2021-01-19T04:56:46.311273Z\", \"created_time_dt\": \"2021-01-19T04:56:46.311273Z\", \"duration\": \"0:00:52\", \"iteration\": \"14\", \"goal\": \"accuracy_max\", \"run_name\": \"MaxAbsScaler, LightGBM\", \"run_properties\": \"copy=True\", \"primary_metric\": 0.81231231, \"best_metric\": 0.85243243}, {\"run_id\": \"AutoML_00d20164-fd7d-4ffe-af4f-085a8b0b3d25_15\", \"run_number\": 93, \"metric\": null, \"status\": \"Completed\", \"run_type\": \"azureml.scriptrun\", \"training_percent\": \"100\", \"start_time\": \"2021-01-19T04:57:24.387051Z\", \"end_time\": \"2021-01-19T04:58:08.959904Z\", \"created_time\": \"2021-01-19T04:57:12.469734Z\", \"created_time_dt\": \"2021-01-19T04:57:12.469734Z\", \"duration\": \"0:00:56\", \"iteration\": \"15\", \"goal\": \"accuracy_max\", \"run_name\": \"StandardScalerWrapper, RandomForest\", \"run_properties\": \"<azureml.automl.runtime.shared.model_wrappers.StandardScalerWrapper object at 0x7fc95039e518\", \"primary_metric\": 0.83009009, \"best_metric\": 0.85243243}, {\"run_id\": \"AutoML_00d20164-fd7d-4ffe-af4f-085a8b0b3d25_16\", \"run_number\": 94, \"metric\": null, \"status\": \"Completed\", \"run_type\": \"azureml.scriptrun\", \"training_percent\": \"100\", \"start_time\": \"2021-01-19T04:57:41.012569Z\", \"end_time\": \"2021-01-19T04:58:19.922468Z\", \"created_time\": \"2021-01-19T04:57:30.612123Z\", \"created_time_dt\": \"2021-01-19T04:57:30.612123Z\", \"duration\": \"0:00:49\", \"iteration\": \"16\", \"goal\": \"accuracy_max\", \"run_name\": \"StandardScalerWrapper, LightGBM\", \"run_properties\": \"<azureml.automl.runtime.shared.model_wrappers.StandardScalerWrapper object at 0x7f79c4155f28\", \"primary_metric\": 0.81681682, \"best_metric\": 0.85243243}, {\"run_id\": \"AutoML_00d20164-fd7d-4ffe-af4f-085a8b0b3d25_17\", \"run_number\": 95, \"metric\": null, \"status\": \"Completed\", \"run_type\": \"azureml.scriptrun\", \"training_percent\": \"100\", \"start_time\": \"2021-01-19T04:57:50.109314Z\", \"end_time\": \"2021-01-19T04:58:34.628544Z\", \"created_time\": \"2021-01-19T04:57:39.303819Z\", \"created_time_dt\": \"2021-01-19T04:57:39.303819Z\", \"duration\": \"0:00:55\", \"iteration\": \"17\", \"goal\": \"accuracy_max\", \"run_name\": \"StandardScalerWrapper, GradientBoosting\", \"run_properties\": \"<azureml.automl.runtime.shared.model_wrappers.StandardScalerWrapper object at 0x7fd86c1527b8\", \"primary_metric\": 0.83903904, \"best_metric\": 0.85243243}, {\"run_id\": \"AutoML_00d20164-fd7d-4ffe-af4f-085a8b0b3d25_18\", \"run_number\": 96, \"metric\": null, \"status\": \"Completed\", \"run_type\": \"azureml.scriptrun\", \"training_percent\": \"100\", \"start_time\": \"2021-01-19T04:58:13.260874Z\", \"end_time\": \"2021-01-19T04:59:03.54552Z\", \"created_time\": \"2021-01-19T04:57:44.061346Z\", \"created_time_dt\": \"2021-01-19T04:57:44.061346Z\", \"duration\": \"0:01:19\", \"iteration\": \"18\", \"goal\": \"accuracy_max\", \"run_name\": \"StandardScalerWrapper, ExtremeRandomTrees\", \"run_properties\": \"<azureml.automl.runtime.shared.model_wrappers.StandardScalerWrapper object at 0x7f0df5465fd0\", \"primary_metric\": 0.8436036, \"best_metric\": 0.85243243}, {\"run_id\": \"AutoML_00d20164-fd7d-4ffe-af4f-085a8b0b3d25_19\", \"run_number\": 97, \"metric\": null, \"status\": \"Completed\", \"run_type\": \"azureml.scriptrun\", \"training_percent\": \"100\", \"start_time\": \"2021-01-19T04:58:24.79772Z\", \"end_time\": \"2021-01-19T04:59:12.892143Z\", \"created_time\": \"2021-01-19T04:58:11.54169Z\", \"created_time_dt\": \"2021-01-19T04:58:11.54169Z\", \"duration\": \"0:01:01\", \"iteration\": \"19\", \"goal\": \"accuracy_max\", \"run_name\": \"SparseNormalizer, RandomForest\", \"run_properties\": \"<azureml.automl.runtime.shared.model_wrappers.SparseNormalizer object at 0x7f1a291fb6d8\", \"primary_metric\": 0.82612613, \"best_metric\": 0.85243243}, {\"run_id\": \"AutoML_00d20164-fd7d-4ffe-af4f-085a8b0b3d25_20\", \"run_number\": 98, \"metric\": null, \"status\": \"Completed\", \"run_type\": \"azureml.scriptrun\", \"training_percent\": \"100\", \"start_time\": \"2021-01-19T04:58:39.398911Z\", \"end_time\": \"2021-01-19T04:59:24.256911Z\", \"created_time\": \"2021-01-19T04:58:22.166177Z\", \"created_time_dt\": \"2021-01-19T04:58:22.166177Z\", \"duration\": \"0:01:02\", \"iteration\": \"20\", \"goal\": \"accuracy_max\", \"run_name\": \"StandardScalerWrapper, LightGBM\", \"run_properties\": \"<azureml.automl.runtime.shared.model_wrappers.StandardScalerWrapper object at 0x7f8056b73e48\", \"primary_metric\": 0.82570571, \"best_metric\": 0.85243243}, {\"run_id\": \"AutoML_00d20164-fd7d-4ffe-af4f-085a8b0b3d25_21\", \"run_number\": 99, \"metric\": null, \"status\": \"Completed\", \"run_type\": \"azureml.scriptrun\", \"training_percent\": \"100\", \"start_time\": \"2021-01-19T04:59:08.647089Z\", \"end_time\": \"2021-01-19T05:00:00.352344Z\", \"created_time\": \"2021-01-19T04:58:36.878014Z\", \"created_time_dt\": \"2021-01-19T04:58:36.878014Z\", \"duration\": \"0:01:23\", \"iteration\": \"21\", \"goal\": \"accuracy_max\", \"run_name\": \"SparseNormalizer, LightGBM\", \"run_properties\": \"<azureml.automl.runtime.shared.model_wrappers.SparseNormalizer object at 0x7f27487546a0\", \"primary_metric\": 0.8212012, \"best_metric\": 0.85243243}, {\"run_id\": \"AutoML_00d20164-fd7d-4ffe-af4f-085a8b0b3d25_22\", \"run_number\": 100, \"metric\": null, \"status\": \"Completed\", \"run_type\": \"azureml.scriptrun\", \"training_percent\": \"100\", \"start_time\": \"2021-01-19T04:59:18.311129Z\", \"end_time\": \"2021-01-19T05:00:02.845153Z\", \"created_time\": \"2021-01-19T04:59:06.564168Z\", \"created_time_dt\": \"2021-01-19T04:59:06.564168Z\", \"duration\": \"0:00:56\", \"iteration\": \"22\", \"goal\": \"accuracy_max\", \"run_name\": \"RobustScaler, LightGBM\", \"run_properties\": \"copy=True, quantile_range=[25, 75], with_centering=False,\\n             with_scaling=False\", \"primary_metric\": 0.84348348, \"best_metric\": 0.85243243}, {\"run_id\": \"AutoML_00d20164-fd7d-4ffe-af4f-085a8b0b3d25_23\", \"run_number\": 101, \"metric\": null, \"status\": \"Completed\", \"run_type\": \"azureml.scriptrun\", \"training_percent\": \"100\", \"start_time\": \"2021-01-19T04:59:31.940752Z\", \"end_time\": \"2021-01-19T05:00:14.963751Z\", \"created_time\": \"2021-01-19T04:59:16.375793Z\", \"created_time_dt\": \"2021-01-19T04:59:16.375793Z\", \"duration\": \"0:00:58\", \"iteration\": \"23\", \"goal\": \"accuracy_max\", \"run_name\": \"StandardScalerWrapper, LightGBM\", \"run_properties\": \"<azureml.automl.runtime.shared.model_wrappers.StandardScalerWrapper object at 0x7f31910a1eb8\", \"primary_metric\": 0.856997, \"best_metric\": 0.856997}, {\"run_id\": \"AutoML_00d20164-fd7d-4ffe-af4f-085a8b0b3d25_24\", \"run_number\": 102, \"metric\": null, \"status\": \"Completed\", \"run_type\": \"azureml.scriptrun\", \"training_percent\": \"100\", \"start_time\": \"2021-01-19T05:00:05.985655Z\", \"end_time\": \"2021-01-19T05:00:49.882432Z\", \"created_time\": \"2021-01-19T04:59:26.760811Z\", \"created_time_dt\": \"2021-01-19T04:59:26.760811Z\", \"duration\": \"0:01:23\", \"iteration\": \"24\", \"goal\": \"accuracy_max\", \"run_name\": \"StandardScalerWrapper, LightGBM\", \"run_properties\": \"<azureml.automl.runtime.shared.model_wrappers.StandardScalerWrapper object at 0x7fb548651438\", \"primary_metric\": 0.8390991, \"best_metric\": 0.856997}, {\"run_id\": \"AutoML_00d20164-fd7d-4ffe-af4f-085a8b0b3d25_25\", \"run_number\": 103, \"metric\": null, \"status\": \"Completed\", \"run_type\": \"azureml.scriptrun\", \"training_percent\": \"100\", \"start_time\": \"2021-01-19T05:00:16.495473Z\", \"end_time\": \"2021-01-19T05:00:58.774999Z\", \"created_time\": \"2021-01-19T05:00:04.170616Z\", \"created_time_dt\": \"2021-01-19T05:00:04.170616Z\", \"duration\": \"0:00:54\", \"iteration\": \"25\", \"goal\": \"accuracy_max\", \"run_name\": \"StandardScalerWrapper, RandomForest\", \"run_properties\": \"<azureml.automl.runtime.shared.model_wrappers.StandardScalerWrapper object at 0x7f6c8c212080\", \"primary_metric\": 0.67387387, \"best_metric\": 0.856997}, {\"run_id\": \"AutoML_00d20164-fd7d-4ffe-af4f-085a8b0b3d25_26\", \"run_number\": 104, \"metric\": null, \"status\": \"Completed\", \"run_type\": \"azureml.scriptrun\", \"training_percent\": \"100\", \"start_time\": \"2021-01-19T05:00:21.559314Z\", \"end_time\": \"2021-01-19T05:01:07.265125Z\", \"created_time\": \"2021-01-19T05:00:09.187886Z\", \"created_time_dt\": \"2021-01-19T05:00:09.187886Z\", \"duration\": \"0:00:58\", \"iteration\": \"26\", \"goal\": \"accuracy_max\", \"run_name\": \"SparseNormalizer, XGBoostClassifier\", \"run_properties\": \"<azureml.automl.runtime.shared.model_wrappers.SparseNormalizer object at 0x7f2848fe3c50\", \"primary_metric\": 0.83915916, \"best_metric\": 0.856997}, {\"run_id\": \"AutoML_00d20164-fd7d-4ffe-af4f-085a8b0b3d25_27\", \"run_number\": 105, \"metric\": null, \"status\": \"Completed\", \"run_type\": \"azureml.scriptrun\", \"training_percent\": \"100\", \"start_time\": \"2021-01-19T05:00:32.809773Z\", \"end_time\": \"2021-01-19T05:02:19.332096Z\", \"created_time\": \"2021-01-19T05:00:17.511181Z\", \"created_time_dt\": \"2021-01-19T05:00:17.511181Z\", \"duration\": \"0:02:01\", \"iteration\": \"27\", \"goal\": \"accuracy_max\", \"run_name\": \"RobustScaler, LightGBM\", \"run_properties\": \"copy=True, quantile_range=[10, 90], with_centering=False,\\n             with_scaling=False\", \"primary_metric\": 0.79897898, \"best_metric\": 0.856997}, {\"run_id\": \"AutoML_00d20164-fd7d-4ffe-af4f-085a8b0b3d25_28\", \"run_number\": 106, \"metric\": null, \"status\": \"Completed\", \"run_type\": \"azureml.scriptrun\", \"training_percent\": \"100\", \"start_time\": \"2021-01-19T05:01:04.337277Z\", \"end_time\": \"2021-01-19T05:01:54.604785Z\", \"created_time\": \"2021-01-19T05:00:52.533666Z\", \"created_time_dt\": \"2021-01-19T05:00:52.533666Z\", \"duration\": \"0:01:02\", \"iteration\": \"28\", \"goal\": \"accuracy_max\", \"run_name\": \"StandardScalerWrapper, XGBoostClassifier\", \"run_properties\": \"<azureml.automl.runtime.shared.model_wrappers.StandardScalerWrapper object at 0x7f82212e4eb8\", \"primary_metric\": 0.80792793, \"best_metric\": 0.856997}, {\"run_id\": \"AutoML_00d20164-fd7d-4ffe-af4f-085a8b0b3d25_29\", \"run_number\": 107, \"metric\": null, \"status\": \"Completed\", \"run_type\": \"azureml.scriptrun\", \"training_percent\": \"100\", \"start_time\": \"2021-01-19T05:01:11.778596Z\", \"end_time\": \"2021-01-19T05:01:48.042854Z\", \"created_time\": \"2021-01-19T05:01:01.028508Z\", \"created_time_dt\": \"2021-01-19T05:01:01.028508Z\", \"duration\": \"0:00:47\", \"iteration\": \"29\", \"goal\": \"accuracy_max\", \"run_name\": \"SparseNormalizer, XGBoostClassifier\", \"run_properties\": \"<azureml.automl.runtime.shared.model_wrappers.SparseNormalizer object at 0x7fc7441484e0\", \"primary_metric\": 0.79465465, \"best_metric\": 0.856997}, {\"run_id\": \"AutoML_00d20164-fd7d-4ffe-af4f-085a8b0b3d25_30\", \"run_number\": 108, \"metric\": null, \"status\": \"Completed\", \"run_type\": \"azureml.scriptrun\", \"training_percent\": \"100\", \"start_time\": \"2021-01-19T05:01:24.562988Z\", \"end_time\": \"2021-01-19T05:02:07.185549Z\", \"created_time\": \"2021-01-19T05:01:12.062709Z\", \"created_time_dt\": \"2021-01-19T05:01:12.062709Z\", \"duration\": \"0:00:55\", \"iteration\": \"30\", \"goal\": \"accuracy_max\", \"run_name\": \"RobustScaler, LightGBM\", \"run_properties\": \"copy=True, quantile_range=[10, 90], with_centering=True,\\n             with_scaling=False\", \"primary_metric\": 0.67387387, \"best_metric\": 0.856997}, {\"run_id\": \"AutoML_00d20164-fd7d-4ffe-af4f-085a8b0b3d25_31\", \"run_number\": 109, \"metric\": null, \"status\": \"Completed\", \"run_type\": \"azureml.scriptrun\", \"training_percent\": \"100\", \"start_time\": \"2021-01-19T05:02:07.889146Z\", \"end_time\": \"2021-01-19T05:02:50.514088Z\", \"created_time\": \"2021-01-19T05:01:55.515306Z\", \"created_time_dt\": \"2021-01-19T05:01:55.515306Z\", \"duration\": \"0:00:54\", \"iteration\": \"31\", \"goal\": \"accuracy_max\", \"run_name\": \"MinMaxScaler, LightGBM\", \"run_properties\": \"copy=True, feature_range=(0, 1\", \"primary_metric\": 0.81681682, \"best_metric\": 0.856997}, {\"run_id\": \"AutoML_00d20164-fd7d-4ffe-af4f-085a8b0b3d25_32\", \"run_number\": 110, \"metric\": null, \"status\": \"Completed\", \"run_type\": \"azureml.scriptrun\", \"training_percent\": \"100\", \"start_time\": \"2021-01-19T05:02:14.722089Z\", \"end_time\": \"2021-01-19T05:03:02.132938Z\", \"created_time\": \"2021-01-19T05:02:00.532135Z\", \"created_time_dt\": \"2021-01-19T05:02:00.532135Z\", \"duration\": \"0:01:01\", \"iteration\": \"32\", \"goal\": \"accuracy_max\", \"run_name\": \"TruncatedSVDWrapper, XGBoostClassifier\", \"run_properties\": \"n_components=0.9005263157894737, random_state=None\", \"primary_metric\": 0.80786787, \"best_metric\": 0.856997}, {\"run_id\": \"AutoML_00d20164-fd7d-4ffe-af4f-085a8b0b3d25_33\", \"run_number\": 111, \"metric\": null, \"status\": \"Completed\", \"run_type\": \"azureml.scriptrun\", \"training_percent\": \"100\", \"start_time\": \"2021-01-19T05:02:20.43899Z\", \"end_time\": \"2021-01-19T05:03:04.909971Z\", \"created_time\": \"2021-01-19T05:02:09.629439Z\", \"created_time_dt\": \"2021-01-19T05:02:09.629439Z\", \"duration\": \"0:00:55\", \"iteration\": \"33\", \"goal\": \"accuracy_max\", \"run_name\": \"MaxAbsScaler, LightGBM\", \"run_properties\": \"copy=True\", \"primary_metric\": 0.78126126, \"best_metric\": 0.856997}, {\"run_id\": \"AutoML_00d20164-fd7d-4ffe-af4f-085a8b0b3d25_34\", \"run_number\": 112, \"metric\": null, \"status\": \"Completed\", \"run_type\": \"azureml.scriptrun\", \"training_percent\": \"100\", \"start_time\": \"2021-01-19T05:02:34.536938Z\", \"end_time\": \"2021-01-19T05:03:23.480943Z\", \"created_time\": \"2021-01-19T05:02:21.887487Z\", \"created_time_dt\": \"2021-01-19T05:02:21.887487Z\", \"duration\": \"0:01:01\", \"iteration\": \"34\", \"goal\": \"accuracy_max\", \"run_name\": \"StandardScalerWrapper, LightGBM\", \"run_properties\": \"<azureml.automl.runtime.shared.model_wrappers.StandardScalerWrapper object at 0x7f8d580f4588\", \"primary_metric\": 0.84798799, \"best_metric\": 0.856997}, {\"run_id\": \"AutoML_00d20164-fd7d-4ffe-af4f-085a8b0b3d25_35\", \"run_number\": 113, \"metric\": null, \"status\": \"Completed\", \"run_type\": \"azureml.scriptrun\", \"training_percent\": \"100\", \"start_time\": \"2021-01-19T05:03:04.610372Z\", \"end_time\": \"2021-01-19T05:03:44.932915Z\", \"created_time\": \"2021-01-19T05:02:54.053264Z\", \"created_time_dt\": \"2021-01-19T05:02:54.053264Z\", \"duration\": \"0:00:50\", \"iteration\": \"35\", \"goal\": \"accuracy_max\", \"run_name\": \"StandardScalerWrapper, LightGBM\", \"run_properties\": \"<azureml.automl.runtime.shared.model_wrappers.StandardScalerWrapper object at 0x7f5157257780\", \"primary_metric\": 0.84804805, \"best_metric\": 0.856997}, {\"run_id\": \"AutoML_00d20164-fd7d-4ffe-af4f-085a8b0b3d25_36\", \"run_number\": 114, \"metric\": null, \"status\": \"Completed\", \"run_type\": \"azureml.scriptrun\", \"training_percent\": \"100\", \"start_time\": \"2021-01-19T05:03:16.324822Z\", \"end_time\": \"2021-01-19T05:03:58.46841Z\", \"created_time\": \"2021-01-19T05:03:04.45433Z\", \"created_time_dt\": \"2021-01-19T05:03:04.45433Z\", \"duration\": \"0:00:54\", \"iteration\": \"36\", \"goal\": \"accuracy_max\", \"run_name\": \"StandardScalerWrapper, RandomForest\", \"run_properties\": \"<azureml.automl.runtime.shared.model_wrappers.StandardScalerWrapper object at 0x7fc8e9893940\", \"primary_metric\": 0.83897898, \"best_metric\": 0.856997}, {\"run_id\": \"AutoML_00d20164-fd7d-4ffe-af4f-085a8b0b3d25_37\", \"run_number\": 115, \"metric\": null, \"status\": \"Canceled\", \"run_type\": \"azureml.scriptrun\", \"training_percent\": \"100\", \"start_time\": \"2021-01-19T05:03:21.272782Z\", \"end_time\": \"2021-01-19T05:04:08.129884Z\", \"created_time\": \"2021-01-19T05:03:08.831614Z\", \"created_time_dt\": \"2021-01-19T05:03:08.831614Z\", \"duration\": \"0:00:59\", \"iteration\": \"37\", \"goal\": \"accuracy_max\", \"run_name\": \"MinMaxScaler, LightGBM\", \"run_properties\": \"copy=True, feature_range=(0, 1\", \"primary_metric\": 0.80348348, \"best_metric\": 0.856997}, {\"run_id\": \"AutoML_00d20164-fd7d-4ffe-af4f-085a8b0b3d25_38\", \"run_number\": 116, \"metric\": null, \"status\": \"Canceled\", \"run_type\": \"azureml.scriptrun\", \"training_percent\": \"100\", \"start_time\": \"2021-01-19T05:03:37.497337Z\", \"end_time\": \"2021-01-19T05:04:05.745316Z\", \"created_time\": \"2021-01-19T05:03:26.089689Z\", \"created_time_dt\": \"2021-01-19T05:03:26.089689Z\", \"duration\": \"0:00:39\", \"iteration\": \"38\", \"goal\": \"accuracy_max\", \"run_name\": \"RobustScaler, RandomForest\", \"run_properties\": \"copy=True, quantile_range=[25, 75], with_centering=False,\\n             with_scaling=True\", \"primary_metric\": 0.84336336, \"best_metric\": 0.856997}, {\"run_id\": \"AutoML_00d20164-fd7d-4ffe-af4f-085a8b0b3d25_39\", \"run_number\": 117, \"metric\": null, \"status\": \"Canceled\", \"run_type\": \"azureml.scriptrun\", \"training_percent\": \"100\", \"start_time\": \"2021-01-19T05:03:58.483418Z\", \"end_time\": \"2021-01-19T05:04:05.786093Z\", \"created_time\": \"2021-01-19T05:03:47.743412Z\", \"created_time_dt\": \"2021-01-19T05:03:47.743412Z\", \"duration\": \"0:00:18\", \"iteration\": \"39\", \"goal\": null, \"run_name\": \"Canceled\", \"run_properties\": null}, {\"run_id\": \"AutoML_00d20164-fd7d-4ffe-af4f-085a8b0b3d25_40\", \"run_number\": 118, \"metric\": null, \"status\": \"Completed\", \"run_type\": \"azureml.scriptrun\", \"training_percent\": \"100\", \"start_time\": \"2021-01-19T05:04:20.904737Z\", \"end_time\": \"2021-01-19T05:05:39.455096Z\", \"created_time\": \"2021-01-19T05:04:10.328088Z\", \"created_time_dt\": \"2021-01-19T05:04:10.328088Z\", \"duration\": \"0:01:29\", \"iteration\": \"40\", \"goal\": \"accuracy_max\", \"run_name\": \"VotingEnsemble\", \"run_properties\": \"classification_labels=None,\\n                              estimators=[('23',\\n                                           Pipeline(memory=None,\\n                                                    steps=[('standardscalerwrapper',\\n                                                            <azureml.automl.runtime.shared.model_wrappers.StandardScalerWrapper object at 0x7fe5fc7c2d30>\", \"primary_metric\": 0.87483483, \"best_metric\": 0.87483483}, {\"run_id\": \"AutoML_00d20164-fd7d-4ffe-af4f-085a8b0b3d25_41\", \"run_number\": 119, \"metric\": null, \"status\": \"Completed\", \"run_type\": \"azureml.scriptrun\", \"training_percent\": \"100\", \"start_time\": \"2021-01-19T05:04:22.736565Z\", \"end_time\": \"2021-01-19T05:05:41.046442Z\", \"created_time\": \"2021-01-19T05:04:10.34388Z\", \"created_time_dt\": \"2021-01-19T05:04:10.34388Z\", \"duration\": \"0:01:30\", \"iteration\": \"41\", \"goal\": \"accuracy_max\", \"run_name\": \"StackEnsemble\", \"run_properties\": \"base_learners=[('23',\\n                                        Pipeline(memory=None,\\n                                                 steps=[('standardscalerwrapper',\\n                                                         <azureml.automl.runtime.shared.model_wrappers.StandardScalerWrapper object at 0x7f399b09ab38>\", \"primary_metric\": 0.85243243, \"best_metric\": 0.87483483}], \"children_metrics\": {\"categories\": [0], \"series\": {\"precision_score_micro\": [{\"categories\": [\"0\", \"1\", \"2\", \"3\", \"4\", \"5\", \"6\", \"7\", \"8\", \"9\", \"10\", \"11\", \"12\", \"13\", \"14\", \"15\", \"16\", \"17\", \"18\", \"19\", \"20\", \"21\", \"22\", \"23\", \"24\", \"25\", \"26\", \"27\", \"28\", \"29\", \"30\", \"31\", \"32\", \"33\", \"34\", \"35\", \"36\", \"37\", \"38\", \"40\", \"41\"], \"mode\": \"markers\", \"name\": \"precision_score_micro\", \"stepped\": false, \"type\": \"scatter\", \"data\": [0.8255855855855856, 0.8478678678678678, 0.8523123123123123, 0.7944744744744745, 0.8212612612612613, 0.7273873873873874, 0.7365765765765766, 0.8390390390390391, 0.825885885885886, 0.8435435435435436, 0.8524324324324324, 0.8436036036036035, 0.8168168168168167, 0.772132132132132, 0.8123123123123124, 0.8300900900900902, 0.8168168168168167, 0.8390390390390391, 0.8436036036036038, 0.8261261261261262, 0.8257057057057057, 0.8212012012012012, 0.8434834834834835, 0.8569969969969969, 0.8390990990990991, 0.6738738738738738, 0.8391591591591592, 0.7989789789789791, 0.807927927927928, 0.7946546546546546, 0.6738738738738738, 0.8168168168168167, 0.8078678678678678, 0.7812612612612613, 0.847987987987988, 0.8480480480480481, 0.8389789789789789, 0.8034834834834834, 0.8433633633633635, 0.8748348348348348, 0.8524324324324324]}, {\"categories\": [\"0\", \"1\", \"2\", \"3\", \"4\", \"5\", \"6\", \"7\", \"8\", \"9\", \"10\", \"11\", \"12\", \"13\", \"14\", \"15\", \"16\", \"17\", \"18\", \"19\", \"20\", \"21\", \"22\", \"23\", \"24\", \"25\", \"26\", \"27\", \"28\", \"29\", \"30\", \"31\", \"32\", \"33\", \"34\", \"35\", \"36\", \"37\", \"38\", \"40\", \"41\"], \"mode\": \"lines\", \"name\": \"precision_score_micro_max\", \"stepped\": true, \"type\": \"scatter\", \"data\": [0.8255855855855856, 0.8478678678678678, 0.8523123123123123, 0.8523123123123123, 0.8523123123123123, 0.8523123123123123, 0.8523123123123123, 0.8523123123123123, 0.8523123123123123, 0.8523123123123123, 0.8524324324324324, 0.8524324324324324, 0.8524324324324324, 0.8524324324324324, 0.8524324324324324, 0.8524324324324324, 0.8524324324324324, 0.8524324324324324, 0.8524324324324324, 0.8524324324324324, 0.8524324324324324, 0.8524324324324324, 0.8524324324324324, 0.8569969969969969, 0.8569969969969969, 0.8569969969969969, 0.8569969969969969, 0.8569969969969969, 0.8569969969969969, 0.8569969969969969, 0.8569969969969969, 0.8569969969969969, 0.8569969969969969, 0.8569969969969969, 0.8569969969969969, 0.8569969969969969, 0.8569969969969969, 0.8569969969969969, 0.8569969969969969, 0.8748348348348348, 0.8748348348348348]}], \"average_precision_score_macro\": [{\"categories\": [\"0\", \"1\", \"2\", \"3\", \"4\", \"5\", \"6\", \"7\", \"8\", \"9\", \"10\", \"11\", \"12\", \"13\", \"14\", \"15\", \"16\", \"17\", \"18\", \"19\", \"20\", \"21\", \"22\", \"23\", \"24\", \"25\", \"26\", \"27\", \"28\", \"29\", \"30\", \"31\", \"32\", \"33\", \"34\", \"35\", \"36\", \"37\", \"38\", \"40\", \"41\"], \"mode\": \"markers\", \"name\": \"average_precision_score_macro\", \"stepped\": false, \"type\": \"scatter\", \"data\": [0.8650918683311675, 0.8678562939451911, 0.9048854027428224, 0.8461953995477475, 0.8759772274483705, 0.7295739641612471, 0.7145161958506683, 0.8907262648484764, 0.8501317232309571, 0.8934334215975158, 0.8964632445940778, 0.886877612889518, 0.8526027355156982, 0.865409408999121, 0.8876982327081748, 0.8832792674615776, 0.8912485003245663, 0.8932838938011844, 0.891583842088231, 0.8617773579914879, 0.8777957309341873, 0.8747758705719887, 0.8880183727908632, 0.8759323555924046, 0.8870370440113039, 0.8744265387863264, 0.8812389125943856, 0.8815358411175658, 0.8577285177506081, 0.8583015339275882, 0.874874893519307, 0.8799078220477843, 0.8447510822390215, 0.8408627254897446, 0.8934636752886654, 0.8935357187800491, 0.887897351464176, 0.8502369064405467, 0.9013012841345948, 0.8938275077587697, 0.8957604247993428]}, {\"categories\": [\"0\", \"1\", \"2\", \"3\", \"4\", \"5\", \"6\", \"7\", \"8\", \"9\", \"10\", \"11\", \"12\", \"13\", \"14\", \"15\", \"16\", \"17\", \"18\", \"19\", \"20\", \"21\", \"22\", \"23\", \"24\", \"25\", \"26\", \"27\", \"28\", \"29\", \"30\", \"31\", \"32\", \"33\", \"34\", \"35\", \"36\", \"37\", \"38\", \"40\", \"41\"], \"mode\": \"lines\", \"name\": \"average_precision_score_macro_max\", \"stepped\": true, \"type\": \"scatter\", \"data\": [0.8650918683311675, 0.8678562939451911, 0.9048854027428224, 0.9048854027428224, 0.9048854027428224, 0.9048854027428224, 0.9048854027428224, 0.9048854027428224, 0.9048854027428224, 0.9048854027428224, 0.9048854027428224, 0.9048854027428224, 0.9048854027428224, 0.9048854027428224, 0.9048854027428224, 0.9048854027428224, 0.9048854027428224, 0.9048854027428224, 0.9048854027428224, 0.9048854027428224, 0.9048854027428224, 0.9048854027428224, 0.9048854027428224, 0.9048854027428224, 0.9048854027428224, 0.9048854027428224, 0.9048854027428224, 0.9048854027428224, 0.9048854027428224, 0.9048854027428224, 0.9048854027428224, 0.9048854027428224, 0.9048854027428224, 0.9048854027428224, 0.9048854027428224, 0.9048854027428224, 0.9048854027428224, 0.9048854027428224, 0.9048854027428224, 0.9048854027428224, 0.9048854027428224]}], \"norm_macro_recall\": [{\"categories\": [\"0\", \"1\", \"2\", \"3\", \"4\", \"5\", \"6\", \"7\", \"8\", \"9\", \"10\", \"11\", \"12\", \"13\", \"14\", \"15\", \"16\", \"17\", \"18\", \"19\", \"20\", \"21\", \"22\", \"23\", \"24\", \"25\", \"26\", \"27\", \"28\", \"29\", \"30\", \"31\", \"32\", \"33\", \"34\", \"35\", \"36\", \"37\", \"38\", \"40\", \"41\"], \"mode\": \"markers\", \"name\": \"norm_macro_recall\", \"stepped\": false, \"type\": \"scatter\", \"data\": [0.5983600364461404, 0.6364085892005755, 0.6262387402626107, 0.4508518383198689, 0.5822665620193327, 0.3260768075346081, 0.29712174724962453, 0.6123628195239448, 0.5862911992494261, 0.6169349382264983, 0.6280227066672078, 0.6083082991650767, 0.5005486091376969, 0.3333463014835563, 0.5090816519844652, 0.577595208775942, 0.47346829230887205, 0.6150731629205627, 0.564901081205429, 0.5620480881563575, 0.5427052463497476, 0.5331274216610961, 0.6285989436032061, 0.6375802333815974, 0.6010619223534824, 0.0, 0.5563810065088838, 0.3999896254798215, 0.5308839316725079, 0.5188438499393316, 0.0, 0.49015830164594026, 0.5175081304663572, 0.3730948095824482, 0.6261451440479573, 0.6144811386712495, 0.6089781323157283, 0.4522394303937356, 0.6020661082468414, 0.6857828477606823, 0.6393236038376703]}, {\"categories\": [\"0\", \"1\", \"2\", \"3\", \"4\", \"5\", \"6\", \"7\", \"8\", \"9\", \"10\", \"11\", \"12\", \"13\", \"14\", \"15\", \"16\", \"17\", \"18\", \"19\", \"20\", \"21\", \"22\", \"23\", \"24\", \"25\", \"26\", \"27\", \"28\", \"29\", \"30\", \"31\", \"32\", \"33\", \"34\", \"35\", \"36\", \"37\", \"38\", \"40\", \"41\"], \"mode\": \"lines\", \"name\": \"norm_macro_recall_max\", \"stepped\": true, \"type\": \"scatter\", \"data\": [0.5983600364461404, 0.6364085892005755, 0.6364085892005755, 0.6364085892005755, 0.6364085892005755, 0.6364085892005755, 0.6364085892005755, 0.6364085892005755, 0.6364085892005755, 0.6364085892005755, 0.6364085892005755, 0.6364085892005755, 0.6364085892005755, 0.6364085892005755, 0.6364085892005755, 0.6364085892005755, 0.6364085892005755, 0.6364085892005755, 0.6364085892005755, 0.6364085892005755, 0.6364085892005755, 0.6364085892005755, 0.6364085892005755, 0.6375802333815974, 0.6375802333815974, 0.6375802333815974, 0.6375802333815974, 0.6375802333815974, 0.6375802333815974, 0.6375802333815974, 0.6375802333815974, 0.6375802333815974, 0.6375802333815974, 0.6375802333815974, 0.6375802333815974, 0.6375802333815974, 0.6375802333815974, 0.6375802333815974, 0.6375802333815974, 0.6857828477606823, 0.6857828477606823]}], \"matthews_correlation\": [{\"categories\": [\"0\", \"1\", \"2\", \"3\", \"4\", \"5\", \"6\", \"7\", \"8\", \"9\", \"10\", \"11\", \"12\", \"13\", \"14\", \"15\", \"16\", \"17\", \"18\", \"19\", \"20\", \"21\", \"22\", \"23\", \"24\", \"25\", \"26\", \"27\", \"28\", \"29\", \"30\", \"31\", \"32\", \"33\", \"34\", \"35\", \"36\", \"37\", \"38\", \"40\", \"41\"], \"mode\": \"markers\", \"name\": \"matthews_correlation\", \"stepped\": false, \"type\": \"scatter\", \"data\": [0.6031367845878323, 0.6538460248059631, 0.659740028299946, 0.5055792299057537, 0.588460974827625, 0.35756789873969536, 0.34809130133182276, 0.6289493318088093, 0.5961019838286762, 0.6380789363834669, 0.6567823740741395, 0.6358907667751988, 0.5647388918839612, 0.4608137914340185, 0.5509620407287071, 0.6037617551346358, 0.5731709646465297, 0.6297400662400793, 0.638231087314049, 0.5894491841139705, 0.5882963449300624, 0.5816662154255456, 0.6404051638269522, 0.6672294474232396, 0.62585179556104, 0.0, 0.6222757490637054, 0.5335823708913318, 0.5572948926820717, 0.52544612854548, 0.0, 0.5670694953572432, 0.5480057167713429, 0.46300984714734744, 0.6475521688693826, 0.6471465818239684, 0.6289259277392056, 0.5277420218413414, 0.6401765966706936, 0.710548460533944, 0.6602199132392198]}, {\"categories\": [\"0\", \"1\", \"2\", \"3\", \"4\", \"5\", \"6\", \"7\", \"8\", \"9\", \"10\", \"11\", \"12\", \"13\", \"14\", \"15\", \"16\", \"17\", \"18\", \"19\", \"20\", \"21\", \"22\", \"23\", \"24\", \"25\", \"26\", \"27\", \"28\", \"29\", \"30\", \"31\", \"32\", \"33\", \"34\", \"35\", \"36\", \"37\", \"38\", \"40\", \"41\"], \"mode\": \"lines\", \"name\": \"matthews_correlation_max\", \"stepped\": true, \"type\": \"scatter\", \"data\": [0.6031367845878323, 0.6538460248059631, 0.659740028299946, 0.659740028299946, 0.659740028299946, 0.659740028299946, 0.659740028299946, 0.659740028299946, 0.659740028299946, 0.659740028299946, 0.659740028299946, 0.659740028299946, 0.659740028299946, 0.659740028299946, 0.659740028299946, 0.659740028299946, 0.659740028299946, 0.659740028299946, 0.659740028299946, 0.659740028299946, 0.659740028299946, 0.659740028299946, 0.659740028299946, 0.6672294474232396, 0.6672294474232396, 0.6672294474232396, 0.6672294474232396, 0.6672294474232396, 0.6672294474232396, 0.6672294474232396, 0.6672294474232396, 0.6672294474232396, 0.6672294474232396, 0.6672294474232396, 0.6672294474232396, 0.6672294474232396, 0.6672294474232396, 0.6672294474232396, 0.6672294474232396, 0.710548460533944, 0.710548460533944]}], \"accuracy\": [{\"categories\": [\"0\", \"1\", \"2\", \"3\", \"4\", \"5\", \"6\", \"7\", \"8\", \"9\", \"10\", \"11\", \"12\", \"13\", \"14\", \"15\", \"16\", \"17\", \"18\", \"19\", \"20\", \"21\", \"22\", \"23\", \"24\", \"25\", \"26\", \"27\", \"28\", \"29\", \"30\", \"31\", \"32\", \"33\", \"34\", \"35\", \"36\", \"37\", \"38\", \"40\", \"41\"], \"mode\": \"markers\", \"name\": \"accuracy\", \"stepped\": false, \"type\": \"scatter\", \"data\": [0.8255855855855856, 0.8478678678678678, 0.8523123123123123, 0.7944744744744745, 0.8212612612612613, 0.7273873873873874, 0.7365765765765766, 0.8390390390390391, 0.825885885885886, 0.8435435435435436, 0.8524324324324324, 0.8436036036036035, 0.8168168168168167, 0.772132132132132, 0.8123123123123124, 0.8300900900900902, 0.8168168168168167, 0.8390390390390391, 0.8436036036036038, 0.8261261261261262, 0.8257057057057057, 0.8212012012012012, 0.8434834834834835, 0.8569969969969969, 0.8390990990990991, 0.6738738738738738, 0.8391591591591592, 0.7989789789789791, 0.807927927927928, 0.7946546546546546, 0.6738738738738738, 0.8168168168168167, 0.8078678678678678, 0.7812612612612613, 0.847987987987988, 0.8480480480480481, 0.8389789789789789, 0.8034834834834834, 0.8433633633633635, 0.8748348348348348, 0.8524324324324324]}, {\"categories\": [\"0\", \"1\", \"2\", \"3\", \"4\", \"5\", \"6\", \"7\", \"8\", \"9\", \"10\", \"11\", \"12\", \"13\", \"14\", \"15\", \"16\", \"17\", \"18\", \"19\", \"20\", \"21\", \"22\", \"23\", \"24\", \"25\", \"26\", \"27\", \"28\", \"29\", \"30\", \"31\", \"32\", \"33\", \"34\", \"35\", \"36\", \"37\", \"38\", \"40\", \"41\"], \"mode\": \"lines\", \"name\": \"accuracy_max\", \"stepped\": true, \"type\": \"scatter\", \"data\": [0.8255855855855856, 0.8478678678678678, 0.8523123123123123, 0.8523123123123123, 0.8523123123123123, 0.8523123123123123, 0.8523123123123123, 0.8523123123123123, 0.8523123123123123, 0.8523123123123123, 0.8524324324324324, 0.8524324324324324, 0.8524324324324324, 0.8524324324324324, 0.8524324324324324, 0.8524324324324324, 0.8524324324324324, 0.8524324324324324, 0.8524324324324324, 0.8524324324324324, 0.8524324324324324, 0.8524324324324324, 0.8524324324324324, 0.8569969969969969, 0.8569969969969969, 0.8569969969969969, 0.8569969969969969, 0.8569969969969969, 0.8569969969969969, 0.8569969969969969, 0.8569969969969969, 0.8569969969969969, 0.8569969969969969, 0.8569969969969969, 0.8569969969969969, 0.8569969969969969, 0.8569969969969969, 0.8569969969969969, 0.8569969969969969, 0.8748348348348348, 0.8748348348348348]}], \"f1_score_macro\": [{\"categories\": [\"0\", \"1\", \"2\", \"3\", \"4\", \"5\", \"6\", \"7\", \"8\", \"9\", \"10\", \"11\", \"12\", \"13\", \"14\", \"15\", \"16\", \"17\", \"18\", \"19\", \"20\", \"21\", \"22\", \"23\", \"24\", \"25\", \"26\", \"27\", \"28\", \"29\", \"30\", \"31\", \"32\", \"33\", \"34\", \"35\", \"36\", \"37\", \"38\", \"40\", \"41\"], \"mode\": \"markers\", \"name\": \"f1_score_macro\", \"stepped\": false, \"type\": \"scatter\", \"data\": [0.8013029505834023, 0.825024775386665, 0.8268421912413967, 0.7415971126637118, 0.7939391171488358, 0.6511118146616561, 0.6302844661488626, 0.8134669926999335, 0.796892592445392, 0.8170436207256943, 0.8256130966864744, 0.814839727448423, 0.7698001871429864, 0.6767924866629701, 0.7682913707411313, 0.7995891972555329, 0.7594883175787261, 0.8135317928573649, 0.803541215711686, 0.7868807954706664, 0.7875444778352491, 0.782702533770061, 0.8196441307971973, 0.8311189399074207, 0.8105231142051877, 0.4022332964193429, 0.798756753690382, 0.7200890856635795, 0.7739255082579165, 0.7612508913530291, 0.4022332964193429, 0.7663768970049567, 0.7681109335362445, 0.6989407720441921, 0.822281822146897, 0.8198222982204676, 0.8130607154440321, 0.7455892367649636, 0.8160437161044151, 0.8536422791741941, 0.8286071303417621]}, {\"categories\": [\"0\", \"1\", \"2\", \"3\", \"4\", \"5\", \"6\", \"7\", \"8\", \"9\", \"10\", \"11\", \"12\", \"13\", \"14\", \"15\", \"16\", \"17\", \"18\", \"19\", \"20\", \"21\", \"22\", \"23\", \"24\", \"25\", \"26\", \"27\", \"28\", \"29\", \"30\", \"31\", \"32\", \"33\", \"34\", \"35\", \"36\", \"37\", \"38\", \"40\", \"41\"], \"mode\": \"lines\", \"name\": \"f1_score_macro_max\", \"stepped\": true, \"type\": \"scatter\", \"data\": [0.8013029505834023, 0.825024775386665, 0.8268421912413967, 0.8268421912413967, 0.8268421912413967, 0.8268421912413967, 0.8268421912413967, 0.8268421912413967, 0.8268421912413967, 0.8268421912413967, 0.8268421912413967, 0.8268421912413967, 0.8268421912413967, 0.8268421912413967, 0.8268421912413967, 0.8268421912413967, 0.8268421912413967, 0.8268421912413967, 0.8268421912413967, 0.8268421912413967, 0.8268421912413967, 0.8268421912413967, 0.8268421912413967, 0.8311189399074207, 0.8311189399074207, 0.8311189399074207, 0.8311189399074207, 0.8311189399074207, 0.8311189399074207, 0.8311189399074207, 0.8311189399074207, 0.8311189399074207, 0.8311189399074207, 0.8311189399074207, 0.8311189399074207, 0.8311189399074207, 0.8311189399074207, 0.8311189399074207, 0.8311189399074207, 0.8536422791741941, 0.8536422791741941]}], \"weighted_accuracy\": [{\"categories\": [\"0\", \"1\", \"2\", \"3\", \"4\", \"5\", \"6\", \"7\", \"8\", \"9\", \"10\", \"11\", \"12\", \"13\", \"14\", \"15\", \"16\", \"17\", \"18\", \"19\", \"20\", \"21\", \"22\", \"23\", \"24\", \"25\", \"26\", \"27\", \"28\", \"29\", \"30\", \"31\", \"32\", \"33\", \"34\", \"35\", \"36\", \"37\", \"38\", \"40\", \"41\"], \"mode\": \"markers\", \"name\": \"weighted_accuracy\", \"stepped\": false, \"type\": \"scatter\", \"data\": [0.8459962877422017, 0.8706185186475234, 0.881759053360585, 0.8461163723302562, 0.8433336525478131, 0.7795236941676197, 0.8058224144958409, 0.8635626337947336, 0.8508718183926262, 0.8704860519131205, 0.881620875684176, 0.8736882131202738, 0.8661151350467847, 0.8522893570720657, 0.8548200941237503, 0.8610809387955266, 0.8766936544031564, 0.8631077895345897, 0.8903543883072174, 0.8606328082240591, 0.8666777981440689, 0.862143367225065, 0.8656368586396942, 0.8855505287277173, 0.8684008567984346, 0.805661588013761, 0.8854363320027298, 0.8742987409302131, 0.8387470398094793, 0.8213679350189894, 0.805661588013761, 0.8705950283028594, 0.8460968458321224, 0.8517489487819058, 0.8742009501417535, 0.87905014341518, 0.8652622992946233, 0.8610627077785818, 0.8756006302696395, 0.898723173507561, 0.8770500409289997]}, {\"categories\": [\"0\", \"1\", \"2\", \"3\", \"4\", \"5\", \"6\", \"7\", \"8\", \"9\", \"10\", \"11\", \"12\", \"13\", \"14\", \"15\", \"16\", \"17\", \"18\", \"19\", \"20\", \"21\", \"22\", \"23\", \"24\", \"25\", \"26\", \"27\", \"28\", \"29\", \"30\", \"31\", \"32\", \"33\", \"34\", \"35\", \"36\", \"37\", \"38\", \"40\", \"41\"], \"mode\": \"lines\", \"name\": \"weighted_accuracy_max\", \"stepped\": true, \"type\": \"scatter\", \"data\": [0.8459962877422017, 0.8706185186475234, 0.881759053360585, 0.881759053360585, 0.881759053360585, 0.881759053360585, 0.881759053360585, 0.881759053360585, 0.881759053360585, 0.881759053360585, 0.881759053360585, 0.881759053360585, 0.881759053360585, 0.881759053360585, 0.881759053360585, 0.881759053360585, 0.881759053360585, 0.881759053360585, 0.8903543883072174, 0.8903543883072174, 0.8903543883072174, 0.8903543883072174, 0.8903543883072174, 0.8903543883072174, 0.8903543883072174, 0.8903543883072174, 0.8903543883072174, 0.8903543883072174, 0.8903543883072174, 0.8903543883072174, 0.8903543883072174, 0.8903543883072174, 0.8903543883072174, 0.8903543883072174, 0.8903543883072174, 0.8903543883072174, 0.8903543883072174, 0.8903543883072174, 0.8903543883072174, 0.898723173507561, 0.898723173507561]}], \"AUC_macro\": [{\"categories\": [\"0\", \"1\", \"2\", \"3\", \"4\", \"5\", \"6\", \"7\", \"8\", \"9\", \"10\", \"11\", \"12\", \"13\", \"14\", \"15\", \"16\", \"17\", \"18\", \"19\", \"20\", \"21\", \"22\", \"23\", \"24\", \"25\", \"26\", \"27\", \"28\", \"29\", \"30\", \"31\", \"32\", \"33\", \"34\", \"35\", \"36\", \"37\", \"38\", \"40\", \"41\"], \"mode\": \"markers\", \"name\": \"AUC_macro\", \"stepped\": false, \"type\": \"scatter\", \"data\": [0.8751621958498913, 0.8866367534668189, 0.9105909943150636, 0.8688653131676718, 0.8889944195606315, 0.7561465273173145, 0.7355982113725791, 0.8988301976721983, 0.8643744803342702, 0.9057628016316563, 0.9056899732517806, 0.8920538693201382, 0.8850286088670574, 0.8819415313092493, 0.8972665018771867, 0.8949256567898227, 0.8957205668096546, 0.9010000135319828, 0.8910192364653859, 0.8763810610127035, 0.8861506357776605, 0.883104154168377, 0.9001187431494336, 0.8864112204194615, 0.9003854359779337, 0.8959090748484041, 0.8843683608709184, 0.8974868664588755, 0.8787701607749917, 0.8678536095060676, 0.8800448923530766, 0.8932431802565364, 0.8662527007582422, 0.8770604323318162, 0.8948719987189723, 0.9066662494305291, 0.8959038124106325, 0.8751578731331503, 0.90288697336154, 0.9034889586537783, 0.9090158339234781]}, {\"categories\": [\"0\", \"1\", \"2\", \"3\", \"4\", \"5\", \"6\", \"7\", \"8\", \"9\", \"10\", \"11\", \"12\", \"13\", \"14\", \"15\", \"16\", \"17\", \"18\", \"19\", \"20\", \"21\", \"22\", \"23\", \"24\", \"25\", \"26\", \"27\", \"28\", \"29\", \"30\", \"31\", \"32\", \"33\", \"34\", \"35\", \"36\", \"37\", \"38\", \"40\", \"41\"], \"mode\": \"lines\", \"name\": \"AUC_macro_max\", \"stepped\": true, \"type\": \"scatter\", \"data\": [0.8751621958498913, 0.8866367534668189, 0.9105909943150636, 0.9105909943150636, 0.9105909943150636, 0.9105909943150636, 0.9105909943150636, 0.9105909943150636, 0.9105909943150636, 0.9105909943150636, 0.9105909943150636, 0.9105909943150636, 0.9105909943150636, 0.9105909943150636, 0.9105909943150636, 0.9105909943150636, 0.9105909943150636, 0.9105909943150636, 0.9105909943150636, 0.9105909943150636, 0.9105909943150636, 0.9105909943150636, 0.9105909943150636, 0.9105909943150636, 0.9105909943150636, 0.9105909943150636, 0.9105909943150636, 0.9105909943150636, 0.9105909943150636, 0.9105909943150636, 0.9105909943150636, 0.9105909943150636, 0.9105909943150636, 0.9105909943150636, 0.9105909943150636, 0.9105909943150636, 0.9105909943150636, 0.9105909943150636, 0.9105909943150636, 0.9105909943150636, 0.9105909943150636]}], \"recall_score_micro\": [{\"categories\": [\"0\", \"1\", \"2\", \"3\", \"4\", \"5\", \"6\", \"7\", \"8\", \"9\", \"10\", \"11\", \"12\", \"13\", \"14\", \"15\", \"16\", \"17\", \"18\", \"19\", \"20\", \"21\", \"22\", \"23\", \"24\", \"25\", \"26\", \"27\", \"28\", \"29\", \"30\", \"31\", \"32\", \"33\", \"34\", \"35\", \"36\", \"37\", \"38\", \"40\", \"41\"], \"mode\": \"markers\", \"name\": \"recall_score_micro\", \"stepped\": false, \"type\": \"scatter\", \"data\": [0.8255855855855856, 0.8478678678678678, 0.8523123123123123, 0.7944744744744745, 0.8212612612612613, 0.7273873873873874, 0.7365765765765766, 0.8390390390390391, 0.825885885885886, 0.8435435435435436, 0.8524324324324324, 0.8436036036036035, 0.8168168168168167, 0.772132132132132, 0.8123123123123124, 0.8300900900900902, 0.8168168168168167, 0.8390390390390391, 0.8436036036036038, 0.8261261261261262, 0.8257057057057057, 0.8212012012012012, 0.8434834834834835, 0.8569969969969969, 0.8390990990990991, 0.6738738738738738, 0.8391591591591592, 0.7989789789789791, 0.807927927927928, 0.7946546546546546, 0.6738738738738738, 0.8168168168168167, 0.8078678678678678, 0.7812612612612613, 0.847987987987988, 0.8480480480480481, 0.8389789789789789, 0.8034834834834834, 0.8433633633633635, 0.8748348348348348, 0.8524324324324324]}, {\"categories\": [\"0\", \"1\", \"2\", \"3\", \"4\", \"5\", \"6\", \"7\", \"8\", \"9\", \"10\", \"11\", \"12\", \"13\", \"14\", \"15\", \"16\", \"17\", \"18\", \"19\", \"20\", \"21\", \"22\", \"23\", \"24\", \"25\", \"26\", \"27\", \"28\", \"29\", \"30\", \"31\", \"32\", \"33\", \"34\", \"35\", \"36\", \"37\", \"38\", \"40\", \"41\"], \"mode\": \"lines\", \"name\": \"recall_score_micro_max\", \"stepped\": true, \"type\": \"scatter\", \"data\": [0.8255855855855856, 0.8478678678678678, 0.8523123123123123, 0.8523123123123123, 0.8523123123123123, 0.8523123123123123, 0.8523123123123123, 0.8523123123123123, 0.8523123123123123, 0.8523123123123123, 0.8524324324324324, 0.8524324324324324, 0.8524324324324324, 0.8524324324324324, 0.8524324324324324, 0.8524324324324324, 0.8524324324324324, 0.8524324324324324, 0.8524324324324324, 0.8524324324324324, 0.8524324324324324, 0.8524324324324324, 0.8524324324324324, 0.8569969969969969, 0.8569969969969969, 0.8569969969969969, 0.8569969969969969, 0.8569969969969969, 0.8569969969969969, 0.8569969969969969, 0.8569969969969969, 0.8569969969969969, 0.8569969969969969, 0.8569969969969969, 0.8569969969969969, 0.8569969969969969, 0.8569969969969969, 0.8569969969969969, 0.8569969969969969, 0.8748348348348348, 0.8748348348348348]}], \"f1_score_micro\": [{\"categories\": [\"0\", \"1\", \"2\", \"3\", \"4\", \"5\", \"6\", \"7\", \"8\", \"9\", \"10\", \"11\", \"12\", \"13\", \"14\", \"15\", \"16\", \"17\", \"18\", \"19\", \"20\", \"21\", \"22\", \"23\", \"24\", \"25\", \"26\", \"27\", \"28\", \"29\", \"30\", \"31\", \"32\", \"33\", \"34\", \"35\", \"36\", \"37\", \"38\", \"40\", \"41\"], \"mode\": \"markers\", \"name\": \"f1_score_micro\", \"stepped\": false, \"type\": \"scatter\", \"data\": [0.8255855855855856, 0.8478678678678678, 0.8523123123123123, 0.7944744744744745, 0.8212612612612612, 0.7273873873873874, 0.7365765765765766, 0.8390390390390391, 0.825885885885886, 0.8435435435435436, 0.8524324324324324, 0.8436036036036035, 0.8168168168168167, 0.7721321321321323, 0.8123123123123124, 0.8300900900900902, 0.816816816816817, 0.8390390390390391, 0.8436036036036038, 0.8261261261261262, 0.8257057057057057, 0.8212012012012012, 0.8434834834834835, 0.856996996996997, 0.8390990990990991, 0.6738738738738738, 0.8391591591591593, 0.7989789789789791, 0.807927927927928, 0.7946546546546548, 0.6738738738738738, 0.816816816816817, 0.8078678678678678, 0.7812612612612613, 0.847987987987988, 0.848048048048048, 0.8389789789789791, 0.8034834834834835, 0.8433633633633634, 0.8748348348348348, 0.8524324324324324]}, {\"categories\": [\"0\", \"1\", \"2\", \"3\", \"4\", \"5\", \"6\", \"7\", \"8\", \"9\", \"10\", \"11\", \"12\", \"13\", \"14\", \"15\", \"16\", \"17\", \"18\", \"19\", \"20\", \"21\", \"22\", \"23\", \"24\", \"25\", \"26\", \"27\", \"28\", \"29\", \"30\", \"31\", \"32\", \"33\", \"34\", \"35\", \"36\", \"37\", \"38\", \"40\", \"41\"], \"mode\": \"lines\", \"name\": \"f1_score_micro_max\", \"stepped\": true, \"type\": \"scatter\", \"data\": [0.8255855855855856, 0.8478678678678678, 0.8523123123123123, 0.8523123123123123, 0.8523123123123123, 0.8523123123123123, 0.8523123123123123, 0.8523123123123123, 0.8523123123123123, 0.8523123123123123, 0.8524324324324324, 0.8524324324324324, 0.8524324324324324, 0.8524324324324324, 0.8524324324324324, 0.8524324324324324, 0.8524324324324324, 0.8524324324324324, 0.8524324324324324, 0.8524324324324324, 0.8524324324324324, 0.8524324324324324, 0.8524324324324324, 0.856996996996997, 0.856996996996997, 0.856996996996997, 0.856996996996997, 0.856996996996997, 0.856996996996997, 0.856996996996997, 0.856996996996997, 0.856996996996997, 0.856996996996997, 0.856996996996997, 0.856996996996997, 0.856996996996997, 0.856996996996997, 0.856996996996997, 0.856996996996997, 0.8748348348348348, 0.8748348348348348]}], \"recall_score_macro\": [{\"categories\": [\"0\", \"1\", \"2\", \"3\", \"4\", \"5\", \"6\", \"7\", \"8\", \"9\", \"10\", \"11\", \"12\", \"13\", \"14\", \"15\", \"16\", \"17\", \"18\", \"19\", \"20\", \"21\", \"22\", \"23\", \"24\", \"25\", \"26\", \"27\", \"28\", \"29\", \"30\", \"31\", \"32\", \"33\", \"34\", \"35\", \"36\", \"37\", \"38\", \"40\", \"41\"], \"mode\": \"markers\", \"name\": \"recall_score_macro\", \"stepped\": false, \"type\": \"scatter\", \"data\": [0.7991800182230703, 0.8182042946002879, 0.8131193701313054, 0.7254259191599344, 0.7911332810096664, 0.663038403767304, 0.6485608736248122, 0.8061814097619724, 0.793145599624713, 0.8084674691132493, 0.814011353333604, 0.8041541495825383, 0.7502743045688485, 0.6666731507417781, 0.7545408259922327, 0.788797604387971, 0.736734146154436, 0.8075365814602814, 0.7824505406027145, 0.7810240440781788, 0.7713526231748737, 0.766563710830548, 0.8142994718016031, 0.8187901166907987, 0.8005309611767412, 0.5, 0.778190503254442, 0.6999948127399108, 0.765441965836254, 0.7594219249696659, 0.5, 0.74507915082297, 0.7587540652331786, 0.686547404791224, 0.8130725720239788, 0.8072405693356247, 0.8044890661578642, 0.7261197151968677, 0.8010330541234207, 0.8428914238803412, 0.8196618019188352]}, {\"categories\": [\"0\", \"1\", \"2\", \"3\", \"4\", \"5\", \"6\", \"7\", \"8\", \"9\", \"10\", \"11\", \"12\", \"13\", \"14\", \"15\", \"16\", \"17\", \"18\", \"19\", \"20\", \"21\", \"22\", \"23\", \"24\", \"25\", \"26\", \"27\", \"28\", \"29\", \"30\", \"31\", \"32\", \"33\", \"34\", \"35\", \"36\", \"37\", \"38\", \"40\", \"41\"], \"mode\": \"lines\", \"name\": \"recall_score_macro_max\", \"stepped\": true, \"type\": \"scatter\", \"data\": [0.7991800182230703, 0.8182042946002879, 0.8182042946002879, 0.8182042946002879, 0.8182042946002879, 0.8182042946002879, 0.8182042946002879, 0.8182042946002879, 0.8182042946002879, 0.8182042946002879, 0.8182042946002879, 0.8182042946002879, 0.8182042946002879, 0.8182042946002879, 0.8182042946002879, 0.8182042946002879, 0.8182042946002879, 0.8182042946002879, 0.8182042946002879, 0.8182042946002879, 0.8182042946002879, 0.8182042946002879, 0.8182042946002879, 0.8187901166907987, 0.8187901166907987, 0.8187901166907987, 0.8187901166907987, 0.8187901166907987, 0.8187901166907987, 0.8187901166907987, 0.8187901166907987, 0.8187901166907987, 0.8187901166907987, 0.8187901166907987, 0.8187901166907987, 0.8187901166907987, 0.8187901166907987, 0.8187901166907987, 0.8187901166907987, 0.8428914238803412, 0.8428914238803412]}], \"average_precision_score_weighted\": [{\"categories\": [\"0\", \"1\", \"2\", \"3\", \"4\", \"5\", \"6\", \"7\", \"8\", \"9\", \"10\", \"11\", \"12\", \"13\", \"14\", \"15\", \"16\", \"17\", \"18\", \"19\", \"20\", \"21\", \"22\", \"23\", \"24\", \"25\", \"26\", \"27\", \"28\", \"29\", \"30\", \"31\", \"32\", \"33\", \"34\", \"35\", \"36\", \"37\", \"38\", \"40\", \"41\"], \"mode\": \"markers\", \"name\": \"average_precision_score_weighted\", \"stepped\": false, \"type\": \"scatter\", \"data\": [0.8894754239318804, 0.8924189811089266, 0.922607948354651, 0.8736109118012433, 0.8973789089825118, 0.7735893401833405, 0.7580036666729489, 0.9105119026753528, 0.8788342199801017, 0.9149473187439491, 0.9152337177756587, 0.9073601976737278, 0.8787856792805093, 0.8923947861319608, 0.9080959945205755, 0.9030070501450534, 0.9073412390355857, 0.9130806741321033, 0.9087944817604372, 0.889368013500372, 0.8983212441860329, 0.8980884808440458, 0.908965530292351, 0.8956173168632562, 0.908458679031432, 0.89610443415147, 0.9014055036648904, 0.9058691055968868, 0.8868833694460784, 0.8838782341909358, 0.8947304544748969, 0.901359349404356, 0.8776542201686369, 0.8672806980235138, 0.9099675959845256, 0.9148035398961044, 0.9067421322378756, 0.8744658198464599, 0.9163752573572155, 0.9128802763486711, 0.9158804889035675]}, {\"categories\": [\"0\", \"1\", \"2\", \"3\", \"4\", \"5\", \"6\", \"7\", \"8\", \"9\", \"10\", \"11\", \"12\", \"13\", \"14\", \"15\", \"16\", \"17\", \"18\", \"19\", \"20\", \"21\", \"22\", \"23\", \"24\", \"25\", \"26\", \"27\", \"28\", \"29\", \"30\", \"31\", \"32\", \"33\", \"34\", \"35\", \"36\", \"37\", \"38\", \"40\", \"41\"], \"mode\": \"lines\", \"name\": \"average_precision_score_weighted_max\", \"stepped\": true, \"type\": \"scatter\", \"data\": [0.8894754239318804, 0.8924189811089266, 0.922607948354651, 0.922607948354651, 0.922607948354651, 0.922607948354651, 0.922607948354651, 0.922607948354651, 0.922607948354651, 0.922607948354651, 0.922607948354651, 0.922607948354651, 0.922607948354651, 0.922607948354651, 0.922607948354651, 0.922607948354651, 0.922607948354651, 0.922607948354651, 0.922607948354651, 0.922607948354651, 0.922607948354651, 0.922607948354651, 0.922607948354651, 0.922607948354651, 0.922607948354651, 0.922607948354651, 0.922607948354651, 0.922607948354651, 0.922607948354651, 0.922607948354651, 0.922607948354651, 0.922607948354651, 0.922607948354651, 0.922607948354651, 0.922607948354651, 0.922607948354651, 0.922607948354651, 0.922607948354651, 0.922607948354651, 0.922607948354651, 0.922607948354651]}], \"recall_score_weighted\": [{\"categories\": [\"0\", \"1\", \"2\", \"3\", \"4\", \"5\", \"6\", \"7\", \"8\", \"9\", \"10\", \"11\", \"12\", \"13\", \"14\", \"15\", \"16\", \"17\", \"18\", \"19\", \"20\", \"21\", \"22\", \"23\", \"24\", \"25\", \"26\", \"27\", \"28\", \"29\", \"30\", \"31\", \"32\", \"33\", \"34\", \"35\", \"36\", \"37\", \"38\", \"40\", \"41\"], \"mode\": \"markers\", \"name\": \"recall_score_weighted\", \"stepped\": false, \"type\": \"scatter\", \"data\": [0.8255855855855856, 0.8478678678678678, 0.8523123123123123, 0.7944744744744745, 0.8212612612612613, 0.7273873873873874, 0.7365765765765766, 0.8390390390390391, 0.825885885885886, 0.8435435435435436, 0.8524324324324324, 0.8436036036036035, 0.8168168168168167, 0.772132132132132, 0.8123123123123124, 0.8300900900900902, 0.8168168168168167, 0.8390390390390391, 0.8436036036036038, 0.8261261261261262, 0.8257057057057057, 0.8212012012012012, 0.8434834834834835, 0.8569969969969969, 0.8390990990990991, 0.6738738738738738, 0.8391591591591592, 0.7989789789789791, 0.807927927927928, 0.7946546546546546, 0.6738738738738738, 0.8168168168168167, 0.8078678678678678, 0.7812612612612613, 0.847987987987988, 0.8480480480480481, 0.8389789789789789, 0.8034834834834834, 0.8433633633633635, 0.8748348348348348, 0.8524324324324324]}, {\"categories\": [\"0\", \"1\", \"2\", \"3\", \"4\", \"5\", \"6\", \"7\", \"8\", \"9\", \"10\", \"11\", \"12\", \"13\", \"14\", \"15\", \"16\", \"17\", \"18\", \"19\", \"20\", \"21\", \"22\", \"23\", \"24\", \"25\", \"26\", \"27\", \"28\", \"29\", \"30\", \"31\", \"32\", \"33\", \"34\", \"35\", \"36\", \"37\", \"38\", \"40\", \"41\"], \"mode\": \"lines\", \"name\": \"recall_score_weighted_max\", \"stepped\": true, \"type\": \"scatter\", \"data\": [0.8255855855855856, 0.8478678678678678, 0.8523123123123123, 0.8523123123123123, 0.8523123123123123, 0.8523123123123123, 0.8523123123123123, 0.8523123123123123, 0.8523123123123123, 0.8523123123123123, 0.8524324324324324, 0.8524324324324324, 0.8524324324324324, 0.8524324324324324, 0.8524324324324324, 0.8524324324324324, 0.8524324324324324, 0.8524324324324324, 0.8524324324324324, 0.8524324324324324, 0.8524324324324324, 0.8524324324324324, 0.8524324324324324, 0.8569969969969969, 0.8569969969969969, 0.8569969969969969, 0.8569969969969969, 0.8569969969969969, 0.8569969969969969, 0.8569969969969969, 0.8569969969969969, 0.8569969969969969, 0.8569969969969969, 0.8569969969969969, 0.8569969969969969, 0.8569969969969969, 0.8569969969969969, 0.8569969969969969, 0.8569969969969969, 0.8748348348348348, 0.8748348348348348]}], \"AUC_micro\": [{\"categories\": [\"0\", \"1\", \"2\", \"3\", \"4\", \"5\", \"6\", \"7\", \"8\", \"9\", \"10\", \"11\", \"12\", \"13\", \"14\", \"15\", \"16\", \"17\", \"18\", \"19\", \"20\", \"21\", \"22\", \"23\", \"24\", \"25\", \"26\", \"27\", \"28\", \"29\", \"30\", \"31\", \"32\", \"33\", \"34\", \"35\", \"36\", \"37\", \"38\", \"40\", \"41\"], \"mode\": \"markers\", \"name\": \"AUC_micro\", \"stepped\": false, \"type\": \"scatter\", \"data\": [0.8945705705705705, 0.9053005329653977, 0.9238260855450044, 0.886438351865379, 0.9065715769823878, 0.7959791304818332, 0.7872839379920461, 0.9145385168952737, 0.886906766225685, 0.9153520222925629, 0.9214774882991099, 0.9108293590888185, 0.8850955496036578, 0.8741805589373156, 0.910135595054514, 0.908822216811406, 0.8886289316343371, 0.9180110272434595, 0.9032224224224223, 0.8997514974433893, 0.9032873197521846, 0.9036900359819279, 0.9160715959202447, 0.9084860103346589, 0.9155027892757622, 0.8460630684738794, 0.8994161188215243, 0.8781985012039066, 0.889599242485729, 0.8864004436869303, 0.8392889754619484, 0.8949079890701513, 0.8834669155642129, 0.8701521413305198, 0.9128498336174012, 0.9172003462922382, 0.9122524037551064, 0.8797364174985797, 0.9217548359169981, 0.9212086031977925, 0.9251555880204528]}, {\"categories\": [\"0\", \"1\", \"2\", \"3\", \"4\", \"5\", \"6\", \"7\", \"8\", \"9\", \"10\", \"11\", \"12\", \"13\", \"14\", \"15\", \"16\", \"17\", \"18\", \"19\", \"20\", \"21\", \"22\", \"23\", \"24\", \"25\", \"26\", \"27\", \"28\", \"29\", \"30\", \"31\", \"32\", \"33\", \"34\", \"35\", \"36\", \"37\", \"38\", \"40\", \"41\"], \"mode\": \"lines\", \"name\": \"AUC_micro_max\", \"stepped\": true, \"type\": \"scatter\", \"data\": [0.8945705705705705, 0.9053005329653977, 0.9238260855450044, 0.9238260855450044, 0.9238260855450044, 0.9238260855450044, 0.9238260855450044, 0.9238260855450044, 0.9238260855450044, 0.9238260855450044, 0.9238260855450044, 0.9238260855450044, 0.9238260855450044, 0.9238260855450044, 0.9238260855450044, 0.9238260855450044, 0.9238260855450044, 0.9238260855450044, 0.9238260855450044, 0.9238260855450044, 0.9238260855450044, 0.9238260855450044, 0.9238260855450044, 0.9238260855450044, 0.9238260855450044, 0.9238260855450044, 0.9238260855450044, 0.9238260855450044, 0.9238260855450044, 0.9238260855450044, 0.9238260855450044, 0.9238260855450044, 0.9238260855450044, 0.9238260855450044, 0.9238260855450044, 0.9238260855450044, 0.9238260855450044, 0.9238260855450044, 0.9238260855450044, 0.9238260855450044, 0.9251555880204528]}], \"precision_score_weighted\": [{\"categories\": [\"0\", \"1\", \"2\", \"3\", \"4\", \"5\", \"6\", \"7\", \"8\", \"9\", \"10\", \"11\", \"12\", \"13\", \"14\", \"15\", \"16\", \"17\", \"18\", \"19\", \"20\", \"21\", \"22\", \"23\", \"24\", \"25\", \"26\", \"27\", \"28\", \"29\", \"30\", \"31\", \"32\", \"33\", \"34\", \"35\", \"36\", \"37\", \"38\", \"40\", \"41\"], \"mode\": \"markers\", \"name\": \"precision_score_weighted\", \"stepped\": false, \"type\": \"scatter\", \"data\": [0.8241293299988951, 0.8478343610501131, 0.8511955817826579, 0.7909963596437848, 0.8200331910858226, 0.7318824880797626, 0.7406200180113224, 0.8370306492903747, 0.8251011733311824, 0.8416074680763295, 0.8507104188972544, 0.8422221926094817, 0.8181805974709201, 0.8042308630258227, 0.8085864986742252, 0.8273345897406047, 0.8328091488091488, 0.8378986853986854, 0.8532210462987578, 0.8281733241839137, 0.8238930531593333, 0.8224443780618803, 0.8416524494543361, 0.8554368719287101, 0.8369541681598717, 0.4557378134891648, 0.8439409437686275, 0.8311656154156154, 0.8091444159886784, 0.7949746349930494, 0.4557378134891648, 0.8215473425150844, 0.8043011813737061, 0.7862994628069254, 0.8457982328971122, 0.8472329276960148, 0.836531909639679, 0.8061052219116736, 0.8422247187326722, 0.8736809756546599, 0.8510174237199246]}, {\"categories\": [\"0\", \"1\", \"2\", \"3\", \"4\", \"5\", \"6\", \"7\", \"8\", \"9\", \"10\", \"11\", \"12\", \"13\", \"14\", \"15\", \"16\", \"17\", \"18\", \"19\", \"20\", \"21\", \"22\", \"23\", \"24\", \"25\", \"26\", \"27\", \"28\", \"29\", \"30\", \"31\", \"32\", \"33\", \"34\", \"35\", \"36\", \"37\", \"38\", \"40\", \"41\"], \"mode\": \"lines\", \"name\": \"precision_score_weighted_max\", \"stepped\": true, \"type\": \"scatter\", \"data\": [0.8241293299988951, 0.8478343610501131, 0.8511955817826579, 0.8511955817826579, 0.8511955817826579, 0.8511955817826579, 0.8511955817826579, 0.8511955817826579, 0.8511955817826579, 0.8511955817826579, 0.8511955817826579, 0.8511955817826579, 0.8511955817826579, 0.8511955817826579, 0.8511955817826579, 0.8511955817826579, 0.8511955817826579, 0.8511955817826579, 0.8532210462987578, 0.8532210462987578, 0.8532210462987578, 0.8532210462987578, 0.8532210462987578, 0.8554368719287101, 0.8554368719287101, 0.8554368719287101, 0.8554368719287101, 0.8554368719287101, 0.8554368719287101, 0.8554368719287101, 0.8554368719287101, 0.8554368719287101, 0.8554368719287101, 0.8554368719287101, 0.8554368719287101, 0.8554368719287101, 0.8554368719287101, 0.8554368719287101, 0.8554368719287101, 0.8736809756546599, 0.8736809756546599]}], \"log_loss\": [{\"categories\": [\"0\", \"1\", \"2\", \"3\", \"4\", \"5\", \"6\", \"7\", \"8\", \"9\", \"10\", \"11\", \"12\", \"13\", \"14\", \"15\", \"16\", \"17\", \"18\", \"19\", \"20\", \"21\", \"22\", \"23\", \"24\", \"25\", \"26\", \"27\", \"28\", \"29\", \"30\", \"31\", \"32\", \"33\", \"34\", \"35\", \"36\", \"37\", \"38\", \"40\", \"41\"], \"mode\": \"markers\", \"name\": \"log_loss\", \"stepped\": false, \"type\": \"scatter\", \"data\": [0.5113482765634835, 0.44624898536839136, 0.35991996372226365, 0.43433108172563034, 0.3959323834703461, 0.5470874222248812, 0.5557509987631709, 0.3790550243463549, 0.48075657683465406, 0.38827581599053307, 0.37545825819687706, 0.38461270804287556, 0.46202009686037454, 0.49377609283615637, 0.4323727761653802, 0.4100716139477703, 0.4689772677991435, 0.36957877230525654, 0.42910001769212097, 0.4135955967744885, 0.43656383708192825, 0.3978942286865554, 0.3735598885615694, 0.4024400716980399, 0.3786684946717831, 0.6040748022546735, 0.4225682806341666, 0.48937034553897335, 0.49801831103528277, 0.4840341011114147, 0.5974093928377782, 0.44769672099586555, 0.4334522482598153, 0.4896150098477559, 0.3905216597750081, 0.39005116788454225, 0.39444273123644497, 0.4733530130061412, 0.4016260809199572, 0.3838258860670112, 0.37295701160714456]}, {\"categories\": [\"0\", \"1\", \"2\", \"3\", \"4\", \"5\", \"6\", \"7\", \"8\", \"9\", \"10\", \"11\", \"12\", \"13\", \"14\", \"15\", \"16\", \"17\", \"18\", \"19\", \"20\", \"21\", \"22\", \"23\", \"24\", \"25\", \"26\", \"27\", \"28\", \"29\", \"30\", \"31\", \"32\", \"33\", \"34\", \"35\", \"36\", \"37\", \"38\", \"40\", \"41\"], \"mode\": \"lines\", \"name\": \"log_loss_min\", \"stepped\": true, \"type\": \"scatter\", \"data\": [0.5113482765634835, 0.44624898536839136, 0.35991996372226365, 0.35991996372226365, 0.35991996372226365, 0.35991996372226365, 0.35991996372226365, 0.35991996372226365, 0.35991996372226365, 0.35991996372226365, 0.35991996372226365, 0.35991996372226365, 0.35991996372226365, 0.35991996372226365, 0.35991996372226365, 0.35991996372226365, 0.35991996372226365, 0.35991996372226365, 0.35991996372226365, 0.35991996372226365, 0.35991996372226365, 0.35991996372226365, 0.35991996372226365, 0.35991996372226365, 0.35991996372226365, 0.35991996372226365, 0.35991996372226365, 0.35991996372226365, 0.35991996372226365, 0.35991996372226365, 0.35991996372226365, 0.35991996372226365, 0.35991996372226365, 0.35991996372226365, 0.35991996372226365, 0.35991996372226365, 0.35991996372226365, 0.35991996372226365, 0.35991996372226365, 0.35991996372226365, 0.35991996372226365]}], \"f1_score_weighted\": [{\"categories\": [\"0\", \"1\", \"2\", \"3\", \"4\", \"5\", \"6\", \"7\", \"8\", \"9\", \"10\", \"11\", \"12\", \"13\", \"14\", \"15\", \"16\", \"17\", \"18\", \"19\", \"20\", \"21\", \"22\", \"23\", \"24\", \"25\", \"26\", \"27\", \"28\", \"29\", \"30\", \"31\", \"32\", \"33\", \"34\", \"35\", \"36\", \"37\", \"38\", \"40\", \"41\"], \"mode\": \"markers\", \"name\": \"f1_score_weighted\", \"stepped\": false, \"type\": \"scatter\", \"data\": [0.8246124662154409, 0.8461924172402259, 0.8491724280800744, 0.7830702440100682, 0.8204127764127764, 0.702649654314373, 0.6974294100540458, 0.8371904043514592, 0.8244544929191879, 0.8407605836895788, 0.849101903161333, 0.8401058009753662, 0.8067865618778397, 0.7376074816612682, 0.8044262971668087, 0.8267306235131459, 0.8008567873824322, 0.8372894676119619, 0.8344376207999868, 0.8202638834813613, 0.8190379362566467, 0.8147293631901377, 0.8420723878660828, 0.854096646795753, 0.83588387481287, 0.5432811549090618, 0.8305456920501167, 0.7720674491850454, 0.804670129025109, 0.7934341902489243, 0.5432811549090618, 0.8043375171411421, 0.8007772777877946, 0.7553668734202708, 0.8456058005244138, 0.8443117420234124, 0.8365239477215644, 0.7890438092713693, 0.8393066176364145, 0.8728708114240029, 0.850434164148102]}, {\"categories\": [\"0\", \"1\", \"2\", \"3\", \"4\", \"5\", \"6\", \"7\", \"8\", \"9\", \"10\", \"11\", \"12\", \"13\", \"14\", \"15\", \"16\", \"17\", \"18\", \"19\", \"20\", \"21\", \"22\", \"23\", \"24\", \"25\", \"26\", \"27\", \"28\", \"29\", \"30\", \"31\", \"32\", \"33\", \"34\", \"35\", \"36\", \"37\", \"38\", \"40\", \"41\"], \"mode\": \"lines\", \"name\": \"f1_score_weighted_max\", \"stepped\": true, \"type\": \"scatter\", \"data\": [0.8246124662154409, 0.8461924172402259, 0.8491724280800744, 0.8491724280800744, 0.8491724280800744, 0.8491724280800744, 0.8491724280800744, 0.8491724280800744, 0.8491724280800744, 0.8491724280800744, 0.8491724280800744, 0.8491724280800744, 0.8491724280800744, 0.8491724280800744, 0.8491724280800744, 0.8491724280800744, 0.8491724280800744, 0.8491724280800744, 0.8491724280800744, 0.8491724280800744, 0.8491724280800744, 0.8491724280800744, 0.8491724280800744, 0.854096646795753, 0.854096646795753, 0.854096646795753, 0.854096646795753, 0.854096646795753, 0.854096646795753, 0.854096646795753, 0.854096646795753, 0.854096646795753, 0.854096646795753, 0.854096646795753, 0.854096646795753, 0.854096646795753, 0.854096646795753, 0.854096646795753, 0.854096646795753, 0.8728708114240029, 0.8728708114240029]}], \"AUC_weighted\": [{\"categories\": [\"0\", \"1\", \"2\", \"3\", \"4\", \"5\", \"6\", \"7\", \"8\", \"9\", \"10\", \"11\", \"12\", \"13\", \"14\", \"15\", \"16\", \"17\", \"18\", \"19\", \"20\", \"21\", \"22\", \"23\", \"24\", \"25\", \"26\", \"27\", \"28\", \"29\", \"30\", \"31\", \"32\", \"33\", \"34\", \"35\", \"36\", \"37\", \"38\", \"40\", \"41\"], \"mode\": \"markers\", \"name\": \"AUC_weighted\", \"stepped\": false, \"type\": \"scatter\", \"data\": [0.8751621958498914, 0.8866367534668189, 0.9105909943150637, 0.8688653131676718, 0.8889944195606315, 0.7561465273173145, 0.7355982113725791, 0.8988301976721983, 0.86437448033427, 0.9057628016316563, 0.9056899732517806, 0.8920538693201382, 0.8850286088670574, 0.8819415313092495, 0.8972665018771867, 0.8949256567898227, 0.8957205668096546, 0.9010000135319828, 0.891019236465386, 0.8763880267837357, 0.8861506357776605, 0.883104154168377, 0.9001187431494336, 0.8864112204194615, 0.9003854359779339, 0.8959090748484041, 0.8843683608709184, 0.8974868664588755, 0.8787701607749917, 0.8678536095060676, 0.8800448923530765, 0.8932431802565363, 0.866252700758242, 0.8770604323318163, 0.8948719987189723, 0.9066662494305291, 0.8959038124106325, 0.8751578731331501, 0.90288697336154, 0.9034889586537783, 0.909015833923478]}, {\"categories\": [\"0\", \"1\", \"2\", \"3\", \"4\", \"5\", \"6\", \"7\", \"8\", \"9\", \"10\", \"11\", \"12\", \"13\", \"14\", \"15\", \"16\", \"17\", \"18\", \"19\", \"20\", \"21\", \"22\", \"23\", \"24\", \"25\", \"26\", \"27\", \"28\", \"29\", \"30\", \"31\", \"32\", \"33\", \"34\", \"35\", \"36\", \"37\", \"38\", \"40\", \"41\"], \"mode\": \"lines\", \"name\": \"AUC_weighted_max\", \"stepped\": true, \"type\": \"scatter\", \"data\": [0.8751621958498914, 0.8866367534668189, 0.9105909943150637, 0.9105909943150637, 0.9105909943150637, 0.9105909943150637, 0.9105909943150637, 0.9105909943150637, 0.9105909943150637, 0.9105909943150637, 0.9105909943150637, 0.9105909943150637, 0.9105909943150637, 0.9105909943150637, 0.9105909943150637, 0.9105909943150637, 0.9105909943150637, 0.9105909943150637, 0.9105909943150637, 0.9105909943150637, 0.9105909943150637, 0.9105909943150637, 0.9105909943150637, 0.9105909943150637, 0.9105909943150637, 0.9105909943150637, 0.9105909943150637, 0.9105909943150637, 0.9105909943150637, 0.9105909943150637, 0.9105909943150637, 0.9105909943150637, 0.9105909943150637, 0.9105909943150637, 0.9105909943150637, 0.9105909943150637, 0.9105909943150637, 0.9105909943150637, 0.9105909943150637, 0.9105909943150637, 0.9105909943150637]}], \"precision_score_macro\": [{\"categories\": [\"0\", \"1\", \"2\", \"3\", \"4\", \"5\", \"6\", \"7\", \"8\", \"9\", \"10\", \"11\", \"12\", \"13\", \"14\", \"15\", \"16\", \"17\", \"18\", \"19\", \"20\", \"21\", \"22\", \"23\", \"24\", \"25\", \"26\", \"27\", \"28\", \"29\", \"30\", \"31\", \"32\", \"33\", \"34\", \"35\", \"36\", \"37\", \"38\", \"40\", \"41\"], \"mode\": \"markers\", \"name\": \"precision_score_macro\", \"stepped\": false, \"type\": \"scatter\", \"data\": [0.8039898574318863, 0.8362334865927625, 0.8476220205950719, 0.7839016424896448, 0.7974279528745137, 0.7044834302621453, 0.7229287218417654, 0.8230939144125643, 0.803183657047089, 0.8300002690301609, 0.8434386976249947, 0.832432683723647, 0.8196994761510891, 0.8226023341175042, 0.7991916257598408, 0.8156027333846882, 0.8506234506234506, 0.8225514454681121, 0.8619527830083132, 0.8111566416138252, 0.8189223645568428, 0.8182266469806313, 0.8262224018120244, 0.8492555898476888, 0.8258753734578969, 0.3369369369369369, 0.8483116237706634, 0.8559807091057091, 0.7939766858824235, 0.766238289196516, 0.3369369369369369, 0.8292634784570269, 0.7905943963121812, 0.7929861183592527, 0.834895162843808, 0.8409050987029478, 0.8247720160188831, 0.8093992327863294, 0.8404251712784326, 0.8681767185056658, 0.8410124660637912]}, {\"categories\": [\"0\", \"1\", \"2\", \"3\", \"4\", \"5\", \"6\", \"7\", \"8\", \"9\", \"10\", \"11\", \"12\", \"13\", \"14\", \"15\", \"16\", \"17\", \"18\", \"19\", \"20\", \"21\", \"22\", \"23\", \"24\", \"25\", \"26\", \"27\", \"28\", \"29\", \"30\", \"31\", \"32\", \"33\", \"34\", \"35\", \"36\", \"37\", \"38\", \"40\", \"41\"], \"mode\": \"lines\", \"name\": \"precision_score_macro_max\", \"stepped\": true, \"type\": \"scatter\", \"data\": [0.8039898574318863, 0.8362334865927625, 0.8476220205950719, 0.8476220205950719, 0.8476220205950719, 0.8476220205950719, 0.8476220205950719, 0.8476220205950719, 0.8476220205950719, 0.8476220205950719, 0.8476220205950719, 0.8476220205950719, 0.8476220205950719, 0.8476220205950719, 0.8476220205950719, 0.8476220205950719, 0.8506234506234506, 0.8506234506234506, 0.8619527830083132, 0.8619527830083132, 0.8619527830083132, 0.8619527830083132, 0.8619527830083132, 0.8619527830083132, 0.8619527830083132, 0.8619527830083132, 0.8619527830083132, 0.8619527830083132, 0.8619527830083132, 0.8619527830083132, 0.8619527830083132, 0.8619527830083132, 0.8619527830083132, 0.8619527830083132, 0.8619527830083132, 0.8619527830083132, 0.8619527830083132, 0.8619527830083132, 0.8619527830083132, 0.8681767185056658, 0.8681767185056658]}], \"balanced_accuracy\": [{\"categories\": [\"0\", \"1\", \"2\", \"3\", \"4\", \"5\", \"6\", \"7\", \"8\", \"9\", \"10\", \"11\", \"12\", \"13\", \"14\", \"15\", \"16\", \"17\", \"18\", \"19\", \"20\", \"21\", \"22\", \"23\", \"24\", \"25\", \"26\", \"27\", \"28\", \"29\", \"30\", \"31\", \"32\", \"33\", \"34\", \"35\", \"36\", \"37\", \"38\", \"40\", \"41\"], \"mode\": \"markers\", \"name\": \"balanced_accuracy\", \"stepped\": false, \"type\": \"scatter\", \"data\": [0.7991800182230703, 0.8182042946002879, 0.8131193701313054, 0.7254259191599344, 0.7911332810096664, 0.663038403767304, 0.6485608736248122, 0.8061814097619724, 0.793145599624713, 0.8084674691132493, 0.814011353333604, 0.8041541495825383, 0.7502743045688485, 0.6666731507417781, 0.7545408259922327, 0.788797604387971, 0.736734146154436, 0.8075365814602814, 0.7824505406027145, 0.7810240440781788, 0.7713526231748737, 0.766563710830548, 0.8142994718016031, 0.8187901166907987, 0.8005309611767412, 0.5, 0.778190503254442, 0.6999948127399108, 0.765441965836254, 0.7594219249696659, 0.5, 0.74507915082297, 0.7587540652331786, 0.686547404791224, 0.8130725720239788, 0.8072405693356247, 0.8044890661578642, 0.7261197151968677, 0.8010330541234207, 0.8428914238803412, 0.8196618019188352]}, {\"categories\": [\"0\", \"1\", \"2\", \"3\", \"4\", \"5\", \"6\", \"7\", \"8\", \"9\", \"10\", \"11\", \"12\", \"13\", \"14\", \"15\", \"16\", \"17\", \"18\", \"19\", \"20\", \"21\", \"22\", \"23\", \"24\", \"25\", \"26\", \"27\", \"28\", \"29\", \"30\", \"31\", \"32\", \"33\", \"34\", \"35\", \"36\", \"37\", \"38\", \"40\", \"41\"], \"mode\": \"lines\", \"name\": \"balanced_accuracy_max\", \"stepped\": true, \"type\": \"scatter\", \"data\": [0.7991800182230703, 0.8182042946002879, 0.8182042946002879, 0.8182042946002879, 0.8182042946002879, 0.8182042946002879, 0.8182042946002879, 0.8182042946002879, 0.8182042946002879, 0.8182042946002879, 0.8182042946002879, 0.8182042946002879, 0.8182042946002879, 0.8182042946002879, 0.8182042946002879, 0.8182042946002879, 0.8182042946002879, 0.8182042946002879, 0.8182042946002879, 0.8182042946002879, 0.8182042946002879, 0.8182042946002879, 0.8182042946002879, 0.8187901166907987, 0.8187901166907987, 0.8187901166907987, 0.8187901166907987, 0.8187901166907987, 0.8187901166907987, 0.8187901166907987, 0.8187901166907987, 0.8187901166907987, 0.8187901166907987, 0.8187901166907987, 0.8187901166907987, 0.8187901166907987, 0.8187901166907987, 0.8187901166907987, 0.8187901166907987, 0.8428914238803412, 0.8428914238803412]}], \"average_precision_score_micro\": [{\"categories\": [\"0\", \"1\", \"2\", \"3\", \"4\", \"5\", \"6\", \"7\", \"8\", \"9\", \"10\", \"11\", \"12\", \"13\", \"14\", \"15\", \"16\", \"17\", \"18\", \"19\", \"20\", \"21\", \"22\", \"23\", \"24\", \"25\", \"26\", \"27\", \"28\", \"29\", \"30\", \"31\", \"32\", \"33\", \"34\", \"35\", \"36\", \"37\", \"38\", \"40\", \"41\"], \"mode\": \"markers\", \"name\": \"average_precision_score_micro\", \"stepped\": false, \"type\": \"scatter\", \"data\": [0.8940726105417273, 0.9065614271174655, 0.9263126295154702, 0.8823323373877207, 0.9065299683501777, 0.7892667461896107, 0.7753108985027105, 0.9158558270678969, 0.8853672530737948, 0.9194538725352915, 0.9203937785687515, 0.9112103121443065, 0.8807454470370852, 0.8788527594751917, 0.9104553748880239, 0.9053420779917687, 0.8881194592934922, 0.9199462827718543, 0.9031904826910914, 0.8958381299782999, 0.900659888114577, 0.9025069185152118, 0.9157222641355512, 0.9030111521848131, 0.9161380465762541, 0.850736483001692, 0.8989959678452841, 0.8841006287853155, 0.8933319426171326, 0.8841393133184394, 0.8480763227230953, 0.8964735819271832, 0.8883939407202828, 0.8638167548714147, 0.9118085451690687, 0.9193328452764759, 0.9118611857971525, 0.8744377358298591, 0.9191779391330432, 0.9199739365528713, 0.9236206503111437]}, {\"categories\": [\"0\", \"1\", \"2\", \"3\", \"4\", \"5\", \"6\", \"7\", \"8\", \"9\", \"10\", \"11\", \"12\", \"13\", \"14\", \"15\", \"16\", \"17\", \"18\", \"19\", \"20\", \"21\", \"22\", \"23\", \"24\", \"25\", \"26\", \"27\", \"28\", \"29\", \"30\", \"31\", \"32\", \"33\", \"34\", \"35\", \"36\", \"37\", \"38\", \"40\", \"41\"], \"mode\": \"lines\", \"name\": \"average_precision_score_micro_max\", \"stepped\": true, \"type\": \"scatter\", \"data\": [0.8940726105417273, 0.9065614271174655, 0.9263126295154702, 0.9263126295154702, 0.9263126295154702, 0.9263126295154702, 0.9263126295154702, 0.9263126295154702, 0.9263126295154702, 0.9263126295154702, 0.9263126295154702, 0.9263126295154702, 0.9263126295154702, 0.9263126295154702, 0.9263126295154702, 0.9263126295154702, 0.9263126295154702, 0.9263126295154702, 0.9263126295154702, 0.9263126295154702, 0.9263126295154702, 0.9263126295154702, 0.9263126295154702, 0.9263126295154702, 0.9263126295154702, 0.9263126295154702, 0.9263126295154702, 0.9263126295154702, 0.9263126295154702, 0.9263126295154702, 0.9263126295154702, 0.9263126295154702, 0.9263126295154702, 0.9263126295154702, 0.9263126295154702, 0.9263126295154702, 0.9263126295154702, 0.9263126295154702, 0.9263126295154702, 0.9263126295154702, 0.9263126295154702]}]}, \"metricName\": null, \"primaryMetricName\": \"accuracy\", \"showLegend\": false}, \"run_metrics\": [{\"name\": \"experiment_status\", \"run_id\": \"AutoML_00d20164-fd7d-4ffe-af4f-085a8b0b3d25\", \"categories\": [0, 1, 2, 3, 4, 5, 6, 7, 8, 9, 10, 11, 12, 13], \"series\": [{\"data\": [\"DatasetEvaluation\", \"FeaturesGeneration\", \"DatasetFeaturization\", \"DatasetFeaturizationCompleted\", \"DatasetCrossValidationSplit\", \"ModelSelection\", \"BestRunExplainModel\", \"ModelExplanationDataSetSetup\", \"PickSurrogateModel\", \"EngineeredFeatureExplanations\", \"EngineeredFeatureExplanations\", \"RawFeaturesExplanations\", \"RawFeaturesExplanations\", \"BestRunExplainModel\"]}]}, {\"name\": \"experiment_status_description\", \"run_id\": \"AutoML_00d20164-fd7d-4ffe-af4f-085a8b0b3d25\", \"categories\": [0, 1, 2, 3, 4, 5, 6, 7, 8, 9, 10, 11, 12, 13], \"series\": [{\"data\": [\"Gathering dataset statistics.\", \"Generating features for the dataset.\", \"Beginning to fit featurizers and featurize the dataset.\", \"Completed fit featurizers and featurizing the dataset.\", \"Generating individually featurized CV splits.\", \"Beginning model selection.\", \"Best run model explanations started\", \"Model explanations data setup completed\", \"Choosing LightGBM as the surrogate model for explanations\", \"Computation of engineered features started\", \"Computation of engineered features completed\", \"Computation of raw features started\", \"Computation of raw features completed\", \"Best run model explanations completed\"]}]}, {\"name\": \"accuracy\", \"run_id\": \"AutoML_00d20164-fd7d-4ffe-af4f-085a8b0b3d25\", \"categories\": [0], \"series\": [{\"data\": [0.8748348348348348]}]}, {\"name\": \"recall_score_micro\", \"run_id\": \"AutoML_00d20164-fd7d-4ffe-af4f-085a8b0b3d25\", \"categories\": [0], \"series\": [{\"data\": [0.8748348348348348]}]}, {\"name\": \"average_precision_score_macro\", \"run_id\": \"AutoML_00d20164-fd7d-4ffe-af4f-085a8b0b3d25\", \"categories\": [0], \"series\": [{\"data\": [0.8938275077587697]}]}, {\"name\": \"AUC_weighted\", \"run_id\": \"AutoML_00d20164-fd7d-4ffe-af4f-085a8b0b3d25\", \"categories\": [0], \"series\": [{\"data\": [0.9034889586537783]}]}, {\"name\": \"norm_macro_recall\", \"run_id\": \"AutoML_00d20164-fd7d-4ffe-af4f-085a8b0b3d25\", \"categories\": [0], \"series\": [{\"data\": [0.6857828477606823]}]}, {\"name\": \"log_loss\", \"run_id\": \"AutoML_00d20164-fd7d-4ffe-af4f-085a8b0b3d25\", \"categories\": [0], \"series\": [{\"data\": [0.3838258860670112]}]}, {\"name\": \"precision_score_macro\", \"run_id\": \"AutoML_00d20164-fd7d-4ffe-af4f-085a8b0b3d25\", \"categories\": [0], \"series\": [{\"data\": [0.8681767185056658]}]}, {\"name\": \"precision_score_micro\", \"run_id\": \"AutoML_00d20164-fd7d-4ffe-af4f-085a8b0b3d25\", \"categories\": [0], \"series\": [{\"data\": [0.8748348348348348]}]}, {\"name\": \"average_precision_score_weighted\", \"run_id\": \"AutoML_00d20164-fd7d-4ffe-af4f-085a8b0b3d25\", \"categories\": [0], \"series\": [{\"data\": [0.9128802763486711]}]}, {\"name\": \"recall_score_weighted\", \"run_id\": \"AutoML_00d20164-fd7d-4ffe-af4f-085a8b0b3d25\", \"categories\": [0], \"series\": [{\"data\": [0.8748348348348348]}]}, {\"name\": \"precision_score_weighted\", \"run_id\": \"AutoML_00d20164-fd7d-4ffe-af4f-085a8b0b3d25\", \"categories\": [0], \"series\": [{\"data\": [0.8736809756546599]}]}, {\"name\": \"AUC_micro\", \"run_id\": \"AutoML_00d20164-fd7d-4ffe-af4f-085a8b0b3d25\", \"categories\": [0], \"series\": [{\"data\": [0.9212086031977925]}]}, {\"name\": \"recall_score_macro\", \"run_id\": \"AutoML_00d20164-fd7d-4ffe-af4f-085a8b0b3d25\", \"categories\": [0], \"series\": [{\"data\": [0.8428914238803412]}]}, {\"name\": \"f1_score_weighted\", \"run_id\": \"AutoML_00d20164-fd7d-4ffe-af4f-085a8b0b3d25\", \"categories\": [0], \"series\": [{\"data\": [0.8728708114240029]}]}, {\"name\": \"weighted_accuracy\", \"run_id\": \"AutoML_00d20164-fd7d-4ffe-af4f-085a8b0b3d25\", \"categories\": [0], \"series\": [{\"data\": [0.898723173507561]}]}, {\"name\": \"balanced_accuracy\", \"run_id\": \"AutoML_00d20164-fd7d-4ffe-af4f-085a8b0b3d25\", \"categories\": [0], \"series\": [{\"data\": [0.8428914238803412]}]}, {\"name\": \"matthews_correlation\", \"run_id\": \"AutoML_00d20164-fd7d-4ffe-af4f-085a8b0b3d25\", \"categories\": [0], \"series\": [{\"data\": [0.710548460533944]}]}, {\"name\": \"AUC_macro\", \"run_id\": \"AutoML_00d20164-fd7d-4ffe-af4f-085a8b0b3d25\", \"categories\": [0], \"series\": [{\"data\": [0.9034889586537783]}]}, {\"name\": \"average_precision_score_micro\", \"run_id\": \"AutoML_00d20164-fd7d-4ffe-af4f-085a8b0b3d25\", \"categories\": [0], \"series\": [{\"data\": [0.9199739365528713]}]}, {\"name\": \"f1_score_micro\", \"run_id\": \"AutoML_00d20164-fd7d-4ffe-af4f-085a8b0b3d25\", \"categories\": [0], \"series\": [{\"data\": [0.8748348348348348]}]}, {\"name\": \"f1_score_macro\", \"run_id\": \"AutoML_00d20164-fd7d-4ffe-af4f-085a8b0b3d25\", \"categories\": [0], \"series\": [{\"data\": [0.8536422791741941]}]}], \"run_logs\": \"\\nRun is completed.\", \"graph\": {}, \"widget_settings\": {\"childWidgetDisplay\": \"popup\", \"send_telemetry\": false, \"log_level\": \"INFO\", \"sdk_version\": \"1.19.0\"}, \"loading\": false}"
          },
          "metadata": {}
        },
        {
          "output_type": "stream",
          "name": "stdout",
          "text": [
            "\n",
            "\n",
            "****************************************************************************************************\n",
            "DATA GUARDRAILS: \n",
            "\n",
            "TYPE:         Class balancing detection\n",
            "STATUS:       PASSED\n",
            "DESCRIPTION:  Your inputs were analyzed, and all classes are balanced in your training data.\n",
            "              Learn more about imbalanced data: https://aka.ms/AutomatedMLImbalancedData\n",
            "\n",
            "****************************************************************************************************\n",
            "\n",
            "TYPE:         Missing feature values imputation\n",
            "STATUS:       PASSED\n",
            "DESCRIPTION:  No feature missing values were detected in the training data.\n",
            "              Learn more about missing value imputation: https://aka.ms/AutomatedMLFeaturization\n",
            "\n",
            "****************************************************************************************************\n",
            "\n",
            "TYPE:         High cardinality feature detection\n",
            "STATUS:       PASSED\n",
            "DESCRIPTION:  Your inputs were analyzed, and no high cardinality features were detected.\n",
            "              Learn more about high cardinality feature handling: https://aka.ms/AutomatedMLFeaturization\n",
            "\n",
            "****************************************************************************************************\n",
            "\n",
            "****************************************************************************************************\n",
            "ITERATION: The iteration being evaluated.\n",
            "PIPELINE: A summary description of the pipeline being evaluated.\n",
            "DURATION: Time taken for the current iteration.\n",
            "METRIC: The result of computing score on the fitted pipeline.\n",
            "BEST: The best observed score thus far.\n",
            "****************************************************************************************************\n",
            "\n",
            " ITERATION   PIPELINE                                       DURATION      METRIC      BEST\n",
            "         0   MaxAbsScaler LightGBM                          0:00:53       0.8256    0.8256\n",
            "         1   MaxAbsScaler XGBoostClassifier                 0:02:10       0.8479    0.8479\n",
            "         2   MinMaxScaler RandomForest                      0:01:02       0.8523    0.8523\n",
            "         3   MinMaxScaler RandomForest                      0:00:50       0.7945    0.8523\n",
            "         4   MinMaxScaler RandomForest                      0:02:02       0.8213    0.8523\n",
            "         5   MinMaxScaler SVM                               0:01:59       0.7274    0.8523\n",
            "         6   MinMaxScaler SVM                               0:00:46       0.7366    0.8523\n",
            "         7   MaxAbsScaler GradientBoosting                  0:00:49       0.8390    0.8523\n",
            "        10   RobustScaler RandomForest                      0:00:49       0.8524    0.8524\n",
            "        11   SparseNormalizer XGBoostClassifier             0:00:45       0.8436    0.8524\n",
            "         8   SparseNormalizer XGBoostClassifier             0:00:48       0.8259    0.8524\n",
            "         9   StandardScalerWrapper LightGBM                 0:00:48       0.8435    0.8524\n",
            "        12   MaxAbsScaler LightGBM                          0:00:40       0.8168    0.8524\n",
            "        13   RobustScaler LightGBM                          0:00:43       0.7721    0.8524\n",
            "        14   MaxAbsScaler LightGBM                          0:00:40       0.8123    0.8524\n",
            "        15   StandardScalerWrapper RandomForest             0:00:45       0.8301    0.8524\n",
            "        16   StandardScalerWrapper LightGBM                 0:00:39       0.8168    0.8524\n",
            "        17   StandardScalerWrapper GradientBoosting         0:00:45       0.8390    0.8524\n",
            "        18   StandardScalerWrapper ExtremeRandomTrees       0:00:50       0.8436    0.8524\n",
            "        19   SparseNormalizer RandomForest                  0:00:48       0.8261    0.8524\n",
            "        20   StandardScalerWrapper LightGBM                 0:00:45       0.8257    0.8524\n",
            "        21   SparseNormalizer LightGBM                      0:00:52       0.8212    0.8524\n",
            "        22   RobustScaler LightGBM                          0:00:45       0.8435    0.8524\n",
            "        23   StandardScalerWrapper LightGBM                 0:00:43       0.8570    0.8570\n",
            "        24   StandardScalerWrapper LightGBM                 0:00:44       0.8391    0.8570\n",
            "        25   StandardScalerWrapper RandomForest             0:00:42       0.6739    0.8570\n",
            "        26   SparseNormalizer XGBoostClassifier             0:00:46       0.8392    0.8570\n",
            "        27   RobustScaler LightGBM                          0:01:47       0.7990    0.8570\n",
            "        28   StandardScalerWrapper XGBoostClassifier        0:00:50       0.8079    0.8570\n",
            "        29   SparseNormalizer XGBoostClassifier             0:00:36       0.7947    0.8570\n",
            "        30   RobustScaler LightGBM                          0:00:43       0.6739    0.8570\n",
            "        31   MinMaxScaler LightGBM                          0:00:43       0.8168    0.8570\n",
            "        32   TruncatedSVDWrapper XGBoostClassifier          0:00:47       0.8079    0.8570\n",
            "        33   MaxAbsScaler LightGBM                          0:00:44       0.7813    0.8570\n",
            "        34   StandardScalerWrapper LightGBM                 0:00:49       0.8480    0.8570\n",
            "        35   StandardScalerWrapper LightGBM                 0:00:40       0.8480    0.8570\n",
            "        36   StandardScalerWrapper RandomForest             0:00:42       0.8390    0.8570\n",
            "        37   MinMaxScaler LightGBM                          0:00:47       0.8035    0.8570\n",
            "        38   RobustScaler RandomForest                      0:00:28       0.8434    0.8570\n",
            "        39                                                  0:00:07          nan    0.8570\n",
            "        40    VotingEnsemble                                0:01:19       0.8748    0.8748\n",
            "        41    StackEnsemble                                 0:01:18       0.8524    0.8748\n"
          ]
        },
        {
          "output_type": "execute_result",
          "execution_count": 6,
          "data": {
            "text/plain": "{'runId': 'AutoML_00d20164-fd7d-4ffe-af4f-085a8b0b3d25',\n 'target': 'final-compute',\n 'status': 'Completed',\n 'startTimeUtc': '2021-01-19T04:48:34.902214Z',\n 'endTimeUtc': '2021-01-19T05:05:53.780455Z',\n 'properties': {'num_iterations': '1000',\n  'training_type': 'TrainFull',\n  'acquisition_function': 'EI',\n  'primary_metric': 'accuracy',\n  'train_split': '0',\n  'acquisition_parameter': '0',\n  'num_cross_validation': '3',\n  'target': 'final-compute',\n  'AMLSettingsJsonString': '{\"path\":null,\"name\":\"capstoneproject\",\"subscription_id\":\"a0a76bad-11a1-4a2d-9887-97a29122c8ed\",\"resource_group\":\"aml-quickstarts-135301\",\"workspace_name\":\"quick-starts-ws-135301\",\"region\":\"southcentralus\",\"compute_target\":\"final-compute\",\"spark_service\":null,\"azure_service\":\"remote\",\"many_models\":false,\"pipeline_fetch_max_batch_size\":1,\"iterations\":1000,\"primary_metric\":\"accuracy\",\"task_type\":\"classification\",\"data_script\":null,\"validation_size\":0.0,\"n_cross_validations\":3,\"y_min\":null,\"y_max\":null,\"num_classes\":null,\"featurization\":\"auto\",\"_ignore_package_version_incompatibilities\":false,\"is_timeseries\":false,\"max_cores_per_iteration\":1,\"max_concurrent_iterations\":4,\"iteration_timeout_minutes\":null,\"mem_in_mb\":null,\"enforce_time_on_windows\":false,\"experiment_timeout_minutes\":30,\"experiment_exit_score\":null,\"whitelist_models\":null,\"blacklist_algos\":[\"TensorFlowLinearClassifier\",\"TensorFlowDNN\"],\"supported_models\":[\"SGD\",\"LogisticRegression\",\"DecisionTree\",\"GradientBoosting\",\"SVM\",\"RandomForest\",\"TensorFlowLinearClassifier\",\"LightGBM\",\"XGBoostClassifier\",\"MultinomialNaiveBayes\",\"LinearSVM\",\"BernoulliNaiveBayes\",\"AveragedPerceptronClassifier\",\"ExtremeRandomTrees\",\"KNN\",\"TensorFlowDNN\"],\"auto_blacklist\":true,\"blacklist_samples_reached\":false,\"exclude_nan_labels\":true,\"verbosity\":20,\"_debug_log\":\"azureml_automl.log\",\"show_warnings\":false,\"model_explainability\":true,\"service_url\":null,\"sdk_url\":null,\"sdk_packages\":null,\"enable_onnx_compatible_models\":false,\"enable_split_onnx_featurizer_estimator_models\":false,\"vm_type\":\"STANDARD_DS3_V2\",\"telemetry_verbosity\":20,\"send_telemetry\":true,\"enable_dnn\":false,\"scenario\":\"SDK-1.13.0\",\"environment_label\":null,\"force_text_dnn\":false,\"enable_feature_sweeping\":true,\"enable_early_stopping\":true,\"early_stopping_n_iters\":10,\"metrics\":null,\"enable_ensembling\":true,\"enable_stack_ensembling\":true,\"ensemble_iterations\":15,\"enable_tf\":false,\"enable_subsampling\":null,\"subsample_seed\":null,\"enable_nimbusml\":false,\"enable_streaming\":false,\"force_streaming\":false,\"track_child_runs\":true,\"allowed_private_models\":[],\"label_column_name\":\"DEATH_EVENT\",\"weight_column_name\":null,\"cv_split_column_names\":null,\"enable_local_managed\":false,\"_local_managed_run_id\":null,\"cost_mode\":1,\"lag_length\":0,\"metric_operation\":\"maximize\",\"preprocess\":true}',\n  'DataPrepJsonString': '{\\\\\"training_data\\\\\": \\\\\"{\\\\\\\\\\\\\"blocks\\\\\\\\\\\\\": [{\\\\\\\\\\\\\"id\\\\\\\\\\\\\": \\\\\\\\\\\\\"bc18d2a6-c340-4019-827f-df4b1ffaa74b\\\\\\\\\\\\\", \\\\\\\\\\\\\"type\\\\\\\\\\\\\": \\\\\\\\\\\\\"Microsoft.DPrep.GetDatastoreFilesBlock\\\\\\\\\\\\\", \\\\\\\\\\\\\"arguments\\\\\\\\\\\\\": {\\\\\\\\\\\\\"datastores\\\\\\\\\\\\\": [{\\\\\\\\\\\\\"datastoreName\\\\\\\\\\\\\": \\\\\\\\\\\\\"workspaceblobstore\\\\\\\\\\\\\", \\\\\\\\\\\\\"path\\\\\\\\\\\\\": \\\\\\\\\\\\\"train.csv\\\\\\\\\\\\\", \\\\\\\\\\\\\"resourceGroup\\\\\\\\\\\\\": \\\\\\\\\\\\\"aml-quickstarts-135301\\\\\\\\\\\\\", \\\\\\\\\\\\\"subscription\\\\\\\\\\\\\": \\\\\\\\\\\\\"a0a76bad-11a1-4a2d-9887-97a29122c8ed\\\\\\\\\\\\\", \\\\\\\\\\\\\"workspaceName\\\\\\\\\\\\\": \\\\\\\\\\\\\"quick-starts-ws-135301\\\\\\\\\\\\\"}]}, \\\\\\\\\\\\\"localData\\\\\\\\\\\\\": {}, \\\\\\\\\\\\\"isEnabled\\\\\\\\\\\\\": true, \\\\\\\\\\\\\"name\\\\\\\\\\\\\": null, \\\\\\\\\\\\\"annotation\\\\\\\\\\\\\": null}, {\\\\\\\\\\\\\"id\\\\\\\\\\\\\": \\\\\\\\\\\\\"99f53dd3-b9e5-4aee-91f9-6c4c26593b53\\\\\\\\\\\\\", \\\\\\\\\\\\\"type\\\\\\\\\\\\\": \\\\\\\\\\\\\"Microsoft.DPrep.ParseDelimitedBlock\\\\\\\\\\\\\", \\\\\\\\\\\\\"arguments\\\\\\\\\\\\\": {\\\\\\\\\\\\\"columnHeadersMode\\\\\\\\\\\\\": 3, \\\\\\\\\\\\\"fileEncoding\\\\\\\\\\\\\": 0, \\\\\\\\\\\\\"handleQuotedLineBreaks\\\\\\\\\\\\\": false, \\\\\\\\\\\\\"preview\\\\\\\\\\\\\": false, \\\\\\\\\\\\\"separator\\\\\\\\\\\\\": \\\\\\\\\\\\\",\\\\\\\\\\\\\", \\\\\\\\\\\\\"skipRows\\\\\\\\\\\\\": 0, \\\\\\\\\\\\\"skipRowsMode\\\\\\\\\\\\\": 0}, \\\\\\\\\\\\\"localData\\\\\\\\\\\\\": {}, \\\\\\\\\\\\\"isEnabled\\\\\\\\\\\\\": true, \\\\\\\\\\\\\"name\\\\\\\\\\\\\": null, \\\\\\\\\\\\\"annotation\\\\\\\\\\\\\": null}, {\\\\\\\\\\\\\"id\\\\\\\\\\\\\": \\\\\\\\\\\\\"7a45c019-2382-4929-9e99-284474e9584f\\\\\\\\\\\\\", \\\\\\\\\\\\\"type\\\\\\\\\\\\\": \\\\\\\\\\\\\"Microsoft.DPrep.DropColumnsBlock\\\\\\\\\\\\\", \\\\\\\\\\\\\"arguments\\\\\\\\\\\\\": {\\\\\\\\\\\\\"columns\\\\\\\\\\\\\": {\\\\\\\\\\\\\"type\\\\\\\\\\\\\": 0, \\\\\\\\\\\\\"details\\\\\\\\\\\\\": {\\\\\\\\\\\\\"selectedColumns\\\\\\\\\\\\\": [\\\\\\\\\\\\\"Path\\\\\\\\\\\\\"]}}}, \\\\\\\\\\\\\"localData\\\\\\\\\\\\\": {}, \\\\\\\\\\\\\"isEnabled\\\\\\\\\\\\\": true, \\\\\\\\\\\\\"name\\\\\\\\\\\\\": null, \\\\\\\\\\\\\"annotation\\\\\\\\\\\\\": null}, {\\\\\\\\\\\\\"id\\\\\\\\\\\\\": \\\\\\\\\\\\\"b1cb8938-2ed6-4ac9-b7e2-fe728fc34a90\\\\\\\\\\\\\", \\\\\\\\\\\\\"type\\\\\\\\\\\\\": \\\\\\\\\\\\\"Microsoft.DPrep.SetColumnTypesBlock\\\\\\\\\\\\\", \\\\\\\\\\\\\"arguments\\\\\\\\\\\\\": {\\\\\\\\\\\\\"columnConversion\\\\\\\\\\\\\": [{\\\\\\\\\\\\\"column\\\\\\\\\\\\\": {\\\\\\\\\\\\\"type\\\\\\\\\\\\\": 2, \\\\\\\\\\\\\"details\\\\\\\\\\\\\": {\\\\\\\\\\\\\"selectedColumn\\\\\\\\\\\\\": \\\\\\\\\\\\\"age\\\\\\\\\\\\\"}}, \\\\\\\\\\\\\"typeProperty\\\\\\\\\\\\\": 3}, {\\\\\\\\\\\\\"column\\\\\\\\\\\\\": {\\\\\\\\\\\\\"type\\\\\\\\\\\\\": 2, \\\\\\\\\\\\\"details\\\\\\\\\\\\\": {\\\\\\\\\\\\\"selectedColumn\\\\\\\\\\\\\": \\\\\\\\\\\\\"anaemia\\\\\\\\\\\\\"}}, \\\\\\\\\\\\\"typeProperty\\\\\\\\\\\\\": 2}, {\\\\\\\\\\\\\"column\\\\\\\\\\\\\": {\\\\\\\\\\\\\"type\\\\\\\\\\\\\": 2, \\\\\\\\\\\\\"details\\\\\\\\\\\\\": {\\\\\\\\\\\\\"selectedColumn\\\\\\\\\\\\\": \\\\\\\\\\\\\"creatinine_phosphokinase\\\\\\\\\\\\\"}}, \\\\\\\\\\\\\"typeProperty\\\\\\\\\\\\\": 2}, {\\\\\\\\\\\\\"column\\\\\\\\\\\\\": {\\\\\\\\\\\\\"type\\\\\\\\\\\\\": 2, \\\\\\\\\\\\\"details\\\\\\\\\\\\\": {\\\\\\\\\\\\\"selectedColumn\\\\\\\\\\\\\": \\\\\\\\\\\\\"diabetes\\\\\\\\\\\\\"}}, \\\\\\\\\\\\\"typeProperty\\\\\\\\\\\\\": 2}, {\\\\\\\\\\\\\"column\\\\\\\\\\\\\": {\\\\\\\\\\\\\"type\\\\\\\\\\\\\": 2, \\\\\\\\\\\\\"details\\\\\\\\\\\\\": {\\\\\\\\\\\\\"selectedColumn\\\\\\\\\\\\\": \\\\\\\\\\\\\"ejection_fraction\\\\\\\\\\\\\"}}, \\\\\\\\\\\\\"typeProperty\\\\\\\\\\\\\": 2}, {\\\\\\\\\\\\\"column\\\\\\\\\\\\\": {\\\\\\\\\\\\\"type\\\\\\\\\\\\\": 2, \\\\\\\\\\\\\"details\\\\\\\\\\\\\": {\\\\\\\\\\\\\"selectedColumn\\\\\\\\\\\\\": \\\\\\\\\\\\\"high_blood_pressure\\\\\\\\\\\\\"}}, \\\\\\\\\\\\\"typeProperty\\\\\\\\\\\\\": 2}, {\\\\\\\\\\\\\"column\\\\\\\\\\\\\": {\\\\\\\\\\\\\"type\\\\\\\\\\\\\": 2, \\\\\\\\\\\\\"details\\\\\\\\\\\\\": {\\\\\\\\\\\\\"selectedColumn\\\\\\\\\\\\\": \\\\\\\\\\\\\"platelets\\\\\\\\\\\\\"}}, \\\\\\\\\\\\\"typeProperty\\\\\\\\\\\\\": 3}, {\\\\\\\\\\\\\"column\\\\\\\\\\\\\": {\\\\\\\\\\\\\"type\\\\\\\\\\\\\": 2, \\\\\\\\\\\\\"details\\\\\\\\\\\\\": {\\\\\\\\\\\\\"selectedColumn\\\\\\\\\\\\\": \\\\\\\\\\\\\"serum_creatinine\\\\\\\\\\\\\"}}, \\\\\\\\\\\\\"typeProperty\\\\\\\\\\\\\": 3}, {\\\\\\\\\\\\\"column\\\\\\\\\\\\\": {\\\\\\\\\\\\\"type\\\\\\\\\\\\\": 2, \\\\\\\\\\\\\"details\\\\\\\\\\\\\": {\\\\\\\\\\\\\"selectedColumn\\\\\\\\\\\\\": \\\\\\\\\\\\\"serum_sodium\\\\\\\\\\\\\"}}, \\\\\\\\\\\\\"typeProperty\\\\\\\\\\\\\": 2}, {\\\\\\\\\\\\\"column\\\\\\\\\\\\\": {\\\\\\\\\\\\\"type\\\\\\\\\\\\\": 2, \\\\\\\\\\\\\"details\\\\\\\\\\\\\": {\\\\\\\\\\\\\"selectedColumn\\\\\\\\\\\\\": \\\\\\\\\\\\\"sex\\\\\\\\\\\\\"}}, \\\\\\\\\\\\\"typeProperty\\\\\\\\\\\\\": 2}, {\\\\\\\\\\\\\"column\\\\\\\\\\\\\": {\\\\\\\\\\\\\"type\\\\\\\\\\\\\": 2, \\\\\\\\\\\\\"details\\\\\\\\\\\\\": {\\\\\\\\\\\\\"selectedColumn\\\\\\\\\\\\\": \\\\\\\\\\\\\"smoking\\\\\\\\\\\\\"}}, \\\\\\\\\\\\\"typeProperty\\\\\\\\\\\\\": 2}, {\\\\\\\\\\\\\"column\\\\\\\\\\\\\": {\\\\\\\\\\\\\"type\\\\\\\\\\\\\": 2, \\\\\\\\\\\\\"details\\\\\\\\\\\\\": {\\\\\\\\\\\\\"selectedColumn\\\\\\\\\\\\\": \\\\\\\\\\\\\"time\\\\\\\\\\\\\"}}, \\\\\\\\\\\\\"typeProperty\\\\\\\\\\\\\": 2}, {\\\\\\\\\\\\\"column\\\\\\\\\\\\\": {\\\\\\\\\\\\\"type\\\\\\\\\\\\\": 2, \\\\\\\\\\\\\"details\\\\\\\\\\\\\": {\\\\\\\\\\\\\"selectedColumn\\\\\\\\\\\\\": \\\\\\\\\\\\\"DEATH_EVENT\\\\\\\\\\\\\"}}, \\\\\\\\\\\\\"typeProperty\\\\\\\\\\\\\": 2}]}, \\\\\\\\\\\\\"localData\\\\\\\\\\\\\": {}, \\\\\\\\\\\\\"isEnabled\\\\\\\\\\\\\": true, \\\\\\\\\\\\\"name\\\\\\\\\\\\\": null, \\\\\\\\\\\\\"annotation\\\\\\\\\\\\\": null}], \\\\\\\\\\\\\"inspectors\\\\\\\\\\\\\": [], \\\\\\\\\\\\\"meta\\\\\\\\\\\\\": {\\\\\\\\\\\\\"savedDatasetId\\\\\\\\\\\\\": \\\\\\\\\\\\\"d6c13499-aa28-4ab2-b022-0fbb959a65a6\\\\\\\\\\\\\", \\\\\\\\\\\\\"datasetType\\\\\\\\\\\\\": \\\\\\\\\\\\\"tabular\\\\\\\\\\\\\", \\\\\\\\\\\\\"subscriptionId\\\\\\\\\\\\\": \\\\\\\\\\\\\"a0a76bad-11a1-4a2d-9887-97a29122c8ed\\\\\\\\\\\\\", \\\\\\\\\\\\\"workspaceId\\\\\\\\\\\\\": \\\\\\\\\\\\\"075812b2-794f-4cdd-82ec-d4c5378e281c\\\\\\\\\\\\\", \\\\\\\\\\\\\"workspaceLocation\\\\\\\\\\\\\": \\\\\\\\\\\\\"southcentralus\\\\\\\\\\\\\"}}\\\\\", \\\\\"activities\\\\\": 0}',\n  'EnableSubsampling': None,\n  'runTemplate': 'AutoML',\n  'azureml.runsource': 'automl',\n  'display_task_type': 'classification',\n  'dependencies_versions': '{\"azureml-widgets\": \"1.19.0\", \"azureml-train\": \"1.19.0\", \"azureml-train-restclients-hyperdrive\": \"1.19.0\", \"azureml-train-core\": \"1.19.0\", \"azureml-train-automl\": \"1.19.0\", \"azureml-train-automl-runtime\": \"1.19.0\", \"azureml-train-automl-client\": \"1.19.0\", \"azureml-tensorboard\": \"1.19.0\", \"azureml-telemetry\": \"1.19.0\", \"azureml-sdk\": \"1.19.0\", \"azureml-samples\": \"0+unknown\", \"azureml-pipeline\": \"1.19.0\", \"azureml-pipeline-steps\": \"1.19.0\", \"azureml-pipeline-core\": \"1.19.0\", \"azureml-opendatasets\": \"1.19.0\", \"azureml-model-management-sdk\": \"1.0.1b6.post1\", \"azureml-mlflow\": \"1.19.0\", \"azureml-interpret\": \"1.19.0\", \"azureml-explain-model\": \"1.19.0\", \"azureml-defaults\": \"1.19.0\", \"azureml-dataset-runtime\": \"1.19.0.post1\", \"azureml-dataprep\": \"2.6.1\", \"azureml-dataprep-rslex\": \"1.4.0\", \"azureml-dataprep-native\": \"26.0.0\", \"azureml-datadrift\": \"1.19.0\", \"azureml-core\": \"1.19.0\", \"azureml-contrib-services\": \"1.19.0\", \"azureml-contrib-server\": \"1.19.0\", \"azureml-contrib-reinforcementlearning\": \"1.19.0\", \"azureml-contrib-pipeline-steps\": \"1.19.0\", \"azureml-contrib-notebook\": \"1.19.0\", \"azureml-contrib-interpret\": \"1.19.0\", \"azureml-contrib-gbdt\": \"1.19.0\", \"azureml-contrib-fairness\": \"1.19.0\", \"azureml-contrib-dataset\": \"1.19.0\", \"azureml-cli-common\": \"1.19.0\", \"azureml-automl-runtime\": \"1.19.0\", \"azureml-automl-core\": \"1.19.0\", \"azureml-accel-models\": \"1.19.0\"}',\n  '_aml_system_scenario_identification': 'Remote.Parent',\n  'ClientType': 'SDK',\n  'environment_cpu_name': 'AzureML-AutoML',\n  'environment_cpu_label': 'prod',\n  'environment_gpu_name': 'AzureML-AutoML-GPU',\n  'environment_gpu_label': 'prod',\n  'root_attribution': 'automl',\n  'attribution': 'AutoML',\n  'Orchestrator': 'AutoML',\n  'CancelUri': 'https://southcentralus.experiments.azureml.net/jasmine/v1.0/subscriptions/a0a76bad-11a1-4a2d-9887-97a29122c8ed/resourceGroups/aml-quickstarts-135301/providers/Microsoft.MachineLearningServices/workspaces/quick-starts-ws-135301/experimentids/da7df2f7-1c9d-48a7-ac5b-e6cd15a44379/cancel/AutoML_00d20164-fd7d-4ffe-af4f-085a8b0b3d25',\n  'ClientSdkVersion': '1.20.0',\n  'snapshotId': '00000000-0000-0000-0000-000000000000',\n  'SetupRunId': 'AutoML_00d20164-fd7d-4ffe-af4f-085a8b0b3d25_setup',\n  'SetupRunContainerId': 'dcid.AutoML_00d20164-fd7d-4ffe-af4f-085a8b0b3d25_setup',\n  'FeaturizationRunJsonPath': 'featurizer_container.json',\n  'FeaturizationRunId': 'AutoML_00d20164-fd7d-4ffe-af4f-085a8b0b3d25_featurize',\n  'ProblemInfoJsonString': '{\"dataset_num_categorical\": 0, \"is_sparse\": false, \"subsampling\": false, \"dataset_classes\": 2, \"dataset_features\": 12, \"dataset_samples\": 224, \"single_frequency_class_detected\": false}',\n  'ModelExplainRunId': 'AutoML_00d20164-fd7d-4ffe-af4f-085a8b0b3d25_ModelExplain'},\n 'inputDatasets': [{'dataset': {'id': 'd6c13499-aa28-4ab2-b022-0fbb959a65a6'}, 'consumptionDetails': {'type': 'RunInput', 'inputName': 'training_data', 'mechanism': 'Direct'}}],\n 'outputDatasets': [],\n 'logFiles': {}}"
          },
          "metadata": {}
        }
      ],
      "execution_count": 6,
      "metadata": {
        "gather": {
          "logged": 1611032917629
        },
        "jupyter": {
          "outputs_hidden": false,
          "source_hidden": false
        },
        "nteract": {
          "transient": {
            "deleting": false
          }
        }
      }
    },
    {
      "cell_type": "markdown",
      "source": [
        "## Best Model\n",
        "\n",
        "TODO: In the cell below, get the best model from the automl experiments and display all the properties of the model.\n",
        "\n"
      ],
      "metadata": {}
    },
    {
      "cell_type": "code",
      "source": [
        "best_run, model = remote_run.get_output()\n",
        "print(best_run)\n",
        "print(model)\n",
        "best_run.get_tags()\n",
        "best_run_metrics = best_run.get_metrics()\n",
        "for metric_name in best_run_metrics:\n",
        "    metric = best_run_metrics[metric_name]\n",
        "    print(metric_name, metric)"
      ],
      "outputs": [
        {
          "output_type": "stream",
          "name": "stderr",
          "text": [
            "WARNING:root:The version of the SDK does not match the version the model was trained on.\n",
            "WARNING:root:The consistency in the result may not be guaranteed.\n",
            "WARNING:root:Package:azureml-automl-core, training version:1.20.0, current version:1.19.0\n",
            "Package:azureml-automl-runtime, training version:1.20.0, current version:1.19.0\n",
            "Package:azureml-core, training version:1.20.0, current version:1.19.0\n",
            "Package:azureml-dataprep, training version:2.7.2, current version:2.6.1\n",
            "Package:azureml-dataprep-native, training version:27.0.0, current version:26.0.0\n",
            "Package:azureml-dataprep-rslex, training version:1.5.0, current version:1.4.0\n",
            "Package:azureml-dataset-runtime, training version:1.20.0, current version:1.19.0.post1\n",
            "Package:azureml-defaults, training version:1.20.0, current version:1.19.0\n",
            "Package:azureml-interpret, training version:1.20.0, current version:1.19.0\n",
            "Package:azureml-pipeline-core, training version:1.20.0, current version:1.19.0\n",
            "Package:azureml-telemetry, training version:1.20.0, current version:1.19.0\n",
            "Package:azureml-train-automl-client, training version:1.20.0, current version:1.19.0\n",
            "Package:azureml-train-automl-runtime, training version:1.20.0, current version:1.19.0\n",
            "WARNING:root:Please ensure the version of your local conda dependencies match the version on which your model was trained in order to properly retrieve your model.\n"
          ]
        },
        {
          "output_type": "stream",
          "name": "stdout",
          "text": [
            "Run(Experiment: capstoneproject,\n",
            "Id: AutoML_00d20164-fd7d-4ffe-af4f-085a8b0b3d25_40,\n",
            "Type: azureml.scriptrun,\n",
            "Status: Completed)\n",
            "Pipeline(memory=None,\n",
            "         steps=[('datatransformer',\n",
            "                 DataTransformer(enable_dnn=None, enable_feature_sweeping=None,\n",
            "                                 feature_sweeping_config=None,\n",
            "                                 feature_sweeping_timeout=None,\n",
            "                                 featurization_config=None, force_text_dnn=None,\n",
            "                                 is_cross_validation=None,\n",
            "                                 is_onnx_compatible=None, logger=None,\n",
            "                                 observer=None, task=None, working_dir=None)),\n",
            "                ('prefittedsoftvotingclassifier',...\n",
            "                                                                                               reg_lambda=1.0416666666666667,\n",
            "                                                                                               scale_pos_weight=1,\n",
            "                                                                                               seed=None,\n",
            "                                                                                               silent=None,\n",
            "                                                                                               subsample=0.9,\n",
            "                                                                                               tree_method='auto',\n",
            "                                                                                               verbose=-10,\n",
            "                                                                                               verbosity=0))],\n",
            "                                                                     verbose=False))],\n",
            "                                               flatten_transform=None,\n",
            "                                               weights=[0.4,\n",
            "                                                        0.13333333333333333,\n",
            "                                                        0.06666666666666667,\n",
            "                                                        0.06666666666666667,\n",
            "                                                        0.06666666666666667,\n",
            "                                                        0.06666666666666667,\n",
            "                                                        0.06666666666666667,\n",
            "                                                        0.06666666666666667,\n",
            "                                                        0.06666666666666667]))],\n",
            "         verbose=False)\n",
            "f1_score_micro 0.8748348348348348\n",
            "f1_score_macro 0.8536422791741941\n",
            "matthews_correlation 0.710548460533944\n",
            "average_precision_score_micro 0.9199739365528713\n",
            "AUC_weighted 0.9034889586537783\n",
            "precision_score_weighted 0.8736809756546599\n",
            "recall_score_micro 0.8748348348348348\n",
            "AUC_macro 0.9034889586537783\n",
            "log_loss 0.3838258860670112\n",
            "recall_score_weighted 0.8748348348348348\n",
            "f1_score_weighted 0.8728708114240029\n",
            "precision_score_macro 0.8681767185056658\n",
            "weighted_accuracy 0.898723173507561\n",
            "average_precision_score_weighted 0.9128802763486711\n",
            "average_precision_score_macro 0.8938275077587697\n",
            "accuracy 0.8748348348348348\n",
            "balanced_accuracy 0.8428914238803412\n",
            "precision_score_micro 0.8748348348348348\n",
            "recall_score_macro 0.8428914238803412\n",
            "norm_macro_recall 0.6857828477606823\n",
            "AUC_micro 0.9212086031977925\n",
            "accuracy_table aml://artifactId/ExperimentRun/dcid.AutoML_00d20164-fd7d-4ffe-af4f-085a8b0b3d25_40/accuracy_table\n",
            "confusion_matrix aml://artifactId/ExperimentRun/dcid.AutoML_00d20164-fd7d-4ffe-af4f-085a8b0b3d25_40/confusion_matrix\n"
          ]
        }
      ],
      "execution_count": 7,
      "metadata": {
        "gather": {
          "logged": 1611032951927
        },
        "jupyter": {
          "outputs_hidden": false,
          "source_hidden": false
        },
        "nteract": {
          "transient": {
            "deleting": false
          }
        }
      }
    },
    {
      "cell_type": "code",
      "source": [
        "best_run_metrics"
      ],
      "outputs": [
        {
          "output_type": "execute_result",
          "execution_count": 11,
          "data": {
            "text/plain": "{'f1_score_micro': 0.8748348348348348,\n 'f1_score_macro': 0.8536422791741941,\n 'matthews_correlation': 0.710548460533944,\n 'average_precision_score_micro': 0.9199739365528713,\n 'AUC_weighted': 0.9034889586537783,\n 'precision_score_weighted': 0.8736809756546599,\n 'recall_score_micro': 0.8748348348348348,\n 'AUC_macro': 0.9034889586537783,\n 'log_loss': 0.3838258860670112,\n 'recall_score_weighted': 0.8748348348348348,\n 'f1_score_weighted': 0.8728708114240029,\n 'precision_score_macro': 0.8681767185056658,\n 'weighted_accuracy': 0.898723173507561,\n 'average_precision_score_weighted': 0.9128802763486711,\n 'average_precision_score_macro': 0.8938275077587697,\n 'accuracy': 0.8748348348348348,\n 'balanced_accuracy': 0.8428914238803412,\n 'precision_score_micro': 0.8748348348348348,\n 'recall_score_macro': 0.8428914238803412,\n 'norm_macro_recall': 0.6857828477606823,\n 'AUC_micro': 0.9212086031977925,\n 'accuracy_table': 'aml://artifactId/ExperimentRun/dcid.AutoML_00d20164-fd7d-4ffe-af4f-085a8b0b3d25_40/accuracy_table',\n 'confusion_matrix': 'aml://artifactId/ExperimentRun/dcid.AutoML_00d20164-fd7d-4ffe-af4f-085a8b0b3d25_40/confusion_matrix'}"
          },
          "metadata": {}
        }
      ],
      "execution_count": 11,
      "metadata": {
        "collapsed": true,
        "jupyter": {
          "source_hidden": false,
          "outputs_hidden": false
        },
        "nteract": {
          "transient": {
            "deleting": false
          }
        },
        "gather": {
          "logged": 1611033102221
        }
      }
    },
    {
      "cell_type": "markdown",
      "source": [
        "## Model Deployment\n",
        "\n",
        "Remember you have to deploy only one of the two models you trained.. Perform the steps in the rest of this notebook only if you wish to deploy this model.\n",
        "\n",
        "TODO: In the cell below, register the model, create an inference config and deploy the model as a web service."
      ],
      "metadata": {}
    },
    {
      "cell_type": "code",
      "source": [
        "#TODO: Save the best model\n",
        "from azureml.core import Model\n",
        "\n",
        "# Register model\n",
        "best_run.register_model(model_path='outputs/model.pkl', model_name='automl_model',\n",
        "                        tags={'Training context':'Auto ML'},\n",
        "                        properties={'AUC': best_run_metrics['AUC_weighted'], 'Accuracy': best_run_metrics['accuracy']})\n",
        "\n",
        "# List registered models\n",
        "for model in Model.list(ws):\n",
        "    print(model.name, 'version:', model.version)\n",
        "    for tag_name in model.tags:\n",
        "        tag = model.tags[tag_name]\n",
        "        print ('\\t',tag_name, ':', tag)\n",
        "    for prop_name in model.properties:\n",
        "        prop = model.properties[prop_name]\n",
        "        print ('\\t',prop_name, ':', prop)\n",
        "    print('\\n')"
      ],
      "outputs": [],
      "execution_count": null,
      "metadata": {
        "gather": {
          "logged": 1611017122338
        }
      }
    },
    {
      "cell_type": "code",
      "source": [
        "from azureml.automl.core.shared import constants\n",
        "best_run.download_file(constants.CONDA_ENV_FILE_PATH, 'myenv.yml')"
      ],
      "outputs": [],
      "execution_count": null,
      "metadata": {
        "collapsed": true,
        "jupyter": {
          "source_hidden": false,
          "outputs_hidden": false
        },
        "nteract": {
          "transient": {
            "deleting": false
          }
        },
        "gather": {
          "logged": 1611017267085
        }
      }
    },
    {
      "cell_type": "code",
      "source": [
        "# create inference_config\r\n",
        "from azureml.core.model import InferenceConfig\r\n",
        "from azureml.core.environment import Environment\r\n",
        "\r\n",
        "inference_config = InferenceConfig(entry_script=\"scoring.py\",environment=myenv)"
      ],
      "outputs": [],
      "execution_count": null,
      "metadata": {
        "collapsed": true,
        "jupyter": {
          "source_hidden": false,
          "outputs_hidden": false
        },
        "nteract": {
          "transient": {
            "deleting": false
          }
        },
        "gather": {
          "logged": 1611017292129
        }
      }
    },
    {
      "cell_type": "code",
      "source": [
        "from azureml.core.webservice import Webservice, AciWebservice\r\n",
        "deployment_config = AciWebservice.deploy_configuration(cpu_cores=1, memory_gb = 1)"
      ],
      "outputs": [],
      "execution_count": null,
      "metadata": {
        "collapsed": true,
        "jupyter": {
          "source_hidden": false,
          "outputs_hidden": false
        },
        "nteract": {
          "transient": {
            "deleting": false
          }
        },
        "gather": {
          "logged": 1611017295054
        }
      }
    },
    {
      "cell_type": "markdown",
      "source": [
        "TODO: In the cell below, send a request to the web service you deployed to test it."
      ],
      "metadata": {
        "collapsed": true,
        "gather": {
          "logged": 1598431657736
        },
        "jupyter": {
          "outputs_hidden": false,
          "source_hidden": false
        },
        "nteract": {
          "transient": {
            "deleting": false
          }
        }
      }
    },
    {
      "cell_type": "code",
      "source": [
        "#deploy the model\n",
        "service=Model.deploy(workspace=ws,\n",
        "                    name=\"heart-deploy-service\",\n",
        "                    models=[model],\n",
        "                    inference_config=inference_config,\n",
        "                    deployment_config=deployment_config)\n",
        "service.wait_for_deployment(show_output=True)"
      ],
      "outputs": [
        {
          "output_type": "stream",
          "name": "stdout",
          "text": [
            "Tips: You can try get_logs(): https://aka.ms/debugimage#dockerlog or local deployment: https://aka.ms/debugimage#debug-locally to debug if deployment takes longer than 10 minutes.\n",
            "Running..................................\n",
            "Succeeded\n",
            "ACI service creation operation finished, operation \"Succeeded\"\n"
          ]
        }
      ],
      "execution_count": 15,
      "metadata": {
        "gather": {
          "logged": 1611017492274
        },
        "jupyter": {
          "outputs_hidden": false,
          "source_hidden": false
        },
        "nteract": {
          "transient": {
            "deleting": false
          }
        }
      }
    },
    {
      "cell_type": "markdown",
      "source": [
        "TODO: In the cell below, print the logs of the web service and delete the service"
      ],
      "metadata": {
        "collapsed": true,
        "gather": {
          "logged": 1598432765711
        },
        "jupyter": {
          "outputs_hidden": false,
          "source_hidden": false
        },
        "nteract": {
          "transient": {
            "deleting": false
          }
        }
      }
    },
    {
      "cell_type": "code",
      "source": [
        "print(service.get_logs())"
      ],
      "outputs": [
        {
          "output_type": "stream",
          "name": "stdout",
          "text": [
            "2021-01-19T00:50:57,776027517+00:00 - rsyslog/run \n",
            "2021-01-19T00:50:57,776144220+00:00 - gunicorn/run \n",
            "2021-01-19T00:50:57,776145420+00:00 - iot-server/run \n",
            "2021-01-19T00:50:57,827470300+00:00 - nginx/run \n",
            "/usr/sbin/nginx: /azureml-envs/azureml_8eff28b157f42edcd2424a5aae6c8074/lib/libcrypto.so.1.0.0: no version information available (required by /usr/sbin/nginx)\n",
            "/usr/sbin/nginx: /azureml-envs/azureml_8eff28b157f42edcd2424a5aae6c8074/lib/libcrypto.so.1.0.0: no version information available (required by /usr/sbin/nginx)\n",
            "/usr/sbin/nginx: /azureml-envs/azureml_8eff28b157f42edcd2424a5aae6c8074/lib/libssl.so.1.0.0: no version information available (required by /usr/sbin/nginx)\n",
            "/usr/sbin/nginx: /azureml-envs/azureml_8eff28b157f42edcd2424a5aae6c8074/lib/libssl.so.1.0.0: no version information available (required by /usr/sbin/nginx)\n",
            "/usr/sbin/nginx: /azureml-envs/azureml_8eff28b157f42edcd2424a5aae6c8074/lib/libssl.so.1.0.0: no version information available (required by /usr/sbin/nginx)\n",
            "EdgeHubConnectionString and IOTEDGE_IOTHUBHOSTNAME are not set. Exiting...\n",
            "2021-01-19T00:50:58,030657961+00:00 - iot-server/finish 1 0\n",
            "2021-01-19T00:50:58,031916695+00:00 - Exit code 1 is normal. Not restarting iot-server.\n",
            "rsyslogd: /azureml-envs/azureml_8eff28b157f42edcd2424a5aae6c8074/lib/libuuid.so.1: no version information available (required by rsyslogd)\n",
            "Starting gunicorn 19.9.0\n",
            "Listening at: http://127.0.0.1:31311 (15)\n",
            "Using worker: sync\n",
            "worker timeout is set to 300\n",
            "Booting worker with pid: 43\n",
            "SPARK_HOME not set. Skipping PySpark Initialization.\n",
            "Initializing logger\n",
            "2021-01-19 00:50:58,889 | root | INFO | Starting up app insights client\n",
            "Starting up app insights client\n",
            "2021-01-19 00:50:58,889 | root | INFO | Starting up request id generator\n",
            "Starting up request id generator\n",
            "2021-01-19 00:50:58,889 | root | INFO | Starting up app insight hooks\n",
            "Starting up app insight hooks\n",
            "2021-01-19 00:50:58,889 | root | INFO | Invoking user's init function\n",
            "Invoking user's init function\n",
            "Generating new fontManager, this may take some time...\n",
            "2021-01-19 00:51:01,595 | root | INFO | Users's init has completed successfully\n",
            "Users's init has completed successfully\n",
            "2021-01-19 00:51:01,599 | root | INFO | Skipping middleware: dbg_model_info as it's not enabled.\n",
            "Skipping middleware: dbg_model_info as it's not enabled.\n",
            "2021-01-19 00:51:01,599 | root | INFO | Skipping middleware: dbg_resource_usage as it's not enabled.\n",
            "Skipping middleware: dbg_resource_usage as it's not enabled.\n",
            "2021-01-19 00:51:01,600 | root | INFO | Scoring timeout is found from os.environ: 60000 ms\n",
            "Scoring timeout is found from os.environ: 60000 ms\n",
            "2021-01-19 00:51:13,678 | root | INFO | Swagger file not present\n",
            "Swagger file not present\n",
            "2021-01-19 00:51:13,678 | root | INFO | 404\n",
            "404\n",
            "127.0.0.1 - - [19/Jan/2021:00:51:13 +0000] \"GET /swagger.json HTTP/1.0\" 404 19 \"-\" \"Go-http-client/1.1\"\n",
            "2021-01-19 00:51:31,958 | root | INFO | Swagger file not present\n",
            "Swagger file not present\n",
            "2021-01-19 00:51:31,958 | root | INFO | 404\n",
            "404\n",
            "127.0.0.1 - - [19/Jan/2021:00:51:31 +0000] \"GET /swagger.json HTTP/1.0\" 404 19 \"-\" \"Go-http-client/1.1\"\n",
            "\n"
          ]
        }
      ],
      "execution_count": 16,
      "metadata": {
        "jupyter": {
          "outputs_hidden": false,
          "source_hidden": false
        },
        "nteract": {
          "transient": {
            "deleting": false
          }
        },
        "gather": {
          "logged": 1611017521568
        }
      }
    },
    {
      "cell_type": "code",
      "source": [
        "scoring_uri = service.scoring_uri\n",
        "\n",
        "print(f'\\nservice state: {service.state}\\n')\n",
        "print(f'scoring URI: \\n{service.scoring_uri}\\n')\n",
        "print(f'swagger URI: \\n{service.swagger_uri}\\n')\n",
        "\n",
        "print(service.scoring_uri)\n",
        "print(service.swagger_uri)"
      ],
      "outputs": [
        {
          "output_type": "stream",
          "name": "stdout",
          "text": [
            "\n",
            "service state: Healthy\n",
            "\n",
            "scoring URI: \n",
            "http://ec7be877-6f29-47ac-aab9-cbdf6f72b95f.southcentralus.azurecontainer.io/score\n",
            "\n",
            "swagger URI: \n",
            "http://ec7be877-6f29-47ac-aab9-cbdf6f72b95f.southcentralus.azurecontainer.io/swagger.json\n",
            "\n",
            "http://ec7be877-6f29-47ac-aab9-cbdf6f72b95f.southcentralus.azurecontainer.io/score\n",
            "http://ec7be877-6f29-47ac-aab9-cbdf6f72b95f.southcentralus.azurecontainer.io/swagger.json\n"
          ]
        }
      ],
      "execution_count": 17,
      "metadata": {
        "gather": {
          "logged": 1611017525452
        }
      }
    },
    {
      "cell_type": "code",
      "source": [
        "import requests\n",
        "import json\n",
        "\n",
        "data={\"data\":\n",
        "  [{'age': 87.0,\n",
        "  'anaemia': 0,\n",
        "  'creatinine_phosphokinase': 981,\n",
        "  'diabetes': 0,\n",
        "  'ejection_fraction': 55,\n",
        "  'high_blood_pressure': 1,\n",
        "  'platelets': 368000,\n",
        "  'serum_creatinine': 3.5,\n",
        "  'serum_sodium': 137,\n",
        "  'sex': 0,\n",
        "  'smoking': 0,\n",
        "  'time': 4}]\n",
        "  }\n",
        "\n",
        "input_data=json.dumps(data)\n",
        "\n",
        "with open(\"data.json\",\"w\") as file:\n",
        "    file.write(input_data)\n",
        "\n",
        "headers={\"Content-Type\":\"application/json\"}\n",
        "\n",
        "result=requests.post(scoring_uri, input_data, headers=headers)\n",
        "print(\"The output is: \",result.json())"
      ],
      "outputs": [
        {
          "output_type": "stream",
          "name": "stdout",
          "text": [
            "The output is:  Must pass 2-d input\n"
          ]
        }
      ],
      "execution_count": 18,
      "metadata": {
        "gather": {
          "logged": 1611017529091
        }
      }
    },
    {
      "cell_type": "code",
      "source": [
        "result.status_code"
      ],
      "outputs": [
        {
          "output_type": "execute_result",
          "execution_count": 19,
          "data": {
            "text/plain": "200"
          },
          "metadata": {}
        }
      ],
      "execution_count": 19,
      "metadata": {
        "gather": {
          "logged": 1611017652290
        }
      }
    },
    {
      "cell_type": "code",
      "source": [
        "service.delete()\n",
        "compute_target.delete()\n",
        "model.delete()\n",
        "run.delete()\n",
        "experiment.delete()"
      ],
      "outputs": [
        {
          "output_type": "error",
          "ename": "NameError",
          "evalue": "name 'run' is not defined",
          "traceback": [
            "\u001b[0;31m---------------------------------------------------------------------------\u001b[0m",
            "\u001b[0;31mNameError\u001b[0m                                 Traceback (most recent call last)",
            "\u001b[0;32m<ipython-input-20-8ba60bbe9b4c>\u001b[0m in \u001b[0;36m<module>\u001b[0;34m\u001b[0m\n\u001b[1;32m      2\u001b[0m \u001b[0mcompute_target\u001b[0m\u001b[0;34m.\u001b[0m\u001b[0mdelete\u001b[0m\u001b[0;34m(\u001b[0m\u001b[0;34m)\u001b[0m\u001b[0;34m\u001b[0m\u001b[0;34m\u001b[0m\u001b[0m\n\u001b[1;32m      3\u001b[0m \u001b[0mmodel\u001b[0m\u001b[0;34m.\u001b[0m\u001b[0mdelete\u001b[0m\u001b[0;34m(\u001b[0m\u001b[0;34m)\u001b[0m\u001b[0;34m\u001b[0m\u001b[0;34m\u001b[0m\u001b[0m\n\u001b[0;32m----> 4\u001b[0;31m \u001b[0mrun\u001b[0m\u001b[0;34m.\u001b[0m\u001b[0mdelete\u001b[0m\u001b[0;34m(\u001b[0m\u001b[0;34m)\u001b[0m\u001b[0;34m\u001b[0m\u001b[0;34m\u001b[0m\u001b[0m\n\u001b[0m\u001b[1;32m      5\u001b[0m \u001b[0mexperiment\u001b[0m\u001b[0;34m.\u001b[0m\u001b[0mdelete\u001b[0m\u001b[0;34m(\u001b[0m\u001b[0;34m)\u001b[0m\u001b[0;34m\u001b[0m\u001b[0;34m\u001b[0m\u001b[0m\n",
            "\u001b[0;31mNameError\u001b[0m: name 'run' is not defined"
          ]
        }
      ],
      "execution_count": 20,
      "metadata": {}
    }
  ],
  "metadata": {
    "kernel_info": {
      "name": "python3"
    },
    "kernelspec": {
      "name": "python3",
      "language": "python",
      "display_name": "Python 3"
    },
    "language_info": {
      "name": "python",
      "version": "3.6.9",
      "mimetype": "text/x-python",
      "codemirror_mode": {
        "name": "ipython",
        "version": 3
      },
      "pygments_lexer": "ipython3",
      "nbconvert_exporter": "python",
      "file_extension": ".py"
    },
    "nteract": {
      "version": "nteract-front-end@1.0.0"
    }
  },
  "nbformat": 4,
  "nbformat_minor": 2
}